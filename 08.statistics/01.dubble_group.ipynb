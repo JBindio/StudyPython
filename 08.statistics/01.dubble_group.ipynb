{
 "cells": [
  {
   "cell_type": "code",
   "execution_count": 72,
   "id": "b5b0fce9-6667-49ed-83a7-aec0b52dffbc",
   "metadata": {},
   "outputs": [],
   "source": [
    "import pandas as pd\n",
    "import numpy as np\n",
    "import folium\n",
    "import matplotlib.pyplot as plt\n",
    "import matplotlib\n",
    "from matplotlib import font_manager, rc\n",
    "import seaborn as sns\n",
    "import platform\n",
    "import scipy.stats as stats"
   ]
  },
  {
   "cell_type": "code",
   "execution_count": 73,
   "id": "7c206204-7954-4aaa-b28e-46df2fa925b2",
   "metadata": {},
   "outputs": [],
   "source": [
    "# seaborn 설정 리셋\n",
    "sns.reset_defaults()\n",
    "\n",
    "# 폰트설정\n",
    "if platform.system() == 'Windows' :\n",
    "    path = 'c:/Windows/Fonts/malgun.ttf'\n",
    "    font_name = font_manager.FontProperties(fname=path).get_name()\n",
    "    rc('font', family=font_name)\n",
    "elif platform.system() == 'Darwin':\n",
    "    rc('font', family='AppleGothic')\n",
    "else :\n",
    "    print('Check your OS System')\n",
    "    \n",
    "# 그래프에 마이너스 표시\n",
    "matplotlib.rcParams['axes.unicode_minus'] = False"
   ]
  },
  {
   "cell_type": "markdown",
   "id": "68d81769-ac81-4133-a62d-471f6f2ac765",
   "metadata": {},
   "source": [
    "### 예시 1 - 학생 키에 대한 두 집단 비교"
   ]
  },
  {
   "cell_type": "code",
   "execution_count": 79,
   "id": "593f2c03-2b58-42d2-880c-87d4d0432ba2",
   "metadata": {},
   "outputs": [
    {
     "name": "stdout",
     "output_type": "stream",
     "text": [
      "첫번째 그룹= [176 173 163 171 177 164 168 164 158 168 162 175 177 174 169 175 174 158\n",
      " 176 169]\n",
      "두번째 그룹= [171 178 179 165 165 173 169 171 164 165 173 165 181 168 171 176 168 181\n",
      " 168 174]\n"
     ]
    }
   ],
   "source": [
    "# 데이터 생성\n",
    "# 최소값 157 - 최대값 178 까지의 범위중에 size 20개 생성\n",
    "group01Heights = np.random.randint(low=157, high=178, size=20)\n",
    "print('첫번째 그룹=', group_01_Height)\n",
    "      \n",
    "group02Heights = np.random.randint(low=162, high=182, size=20)\n",
    "print('두번째 그룹=', group_02_Height)      "
   ]
  },
  {
   "cell_type": "code",
   "execution_count": 89,
   "id": "a619e5e9-ce0b-4bd5-8973-eaf4fe46bdaf",
   "metadata": {},
   "outputs": [
    {
     "name": "stdout",
     "output_type": "stream",
     "text": [
      "한 집단 평균 검정(단일 표본검정) = Ttest_indResult(statistic=-1.2966245092179034, pvalue=0.20257919650470077)\n",
      "t-검정 통계량 = -1.297, p-value = 0.203\n"
     ]
    }
   ],
   "source": [
    "# 검증하기\n",
    "# 첫번째 그룹 : 기준집단\n",
    "# 두번째 그룹 : 관측집단\n",
    "tResult = stats.ttest_ind(group01Heights, group02Heights)\n",
    "\n",
    "print('한 집단 평균 검정(단일 표본검정) =', tResult)\n",
    "print('t-검정 통계량 = %.3f, p-value = %.3f' %(tResult))"
   ]
  },
  {
   "cell_type": "markdown",
   "id": "ae986c9b-9a6d-49b8-9475-0c0236169462",
   "metadata": {},
   "source": [
    "### 예시 2 - 남녀 두 집단의 파이썬 평균 점수차이 검정\n",
    "- 귀무가설 : 남녀 두 집단의 파이썬 시험의 평균에 차이가 없다\n",
    "- 대립가설 : 남녀 두 집단의 파이썬 시험의 평균에 차이가 있다"
   ]
  },
  {
   "cell_type": "code",
   "execution_count": 91,
   "id": "a86501ad-53dc-463d-8492-18c645b40cea",
   "metadata": {},
   "outputs": [],
   "source": [
    "# 데이터 생성\n",
    "male = [75, 85, 100, 72.5, 86.5]\n",
    "female = [63.2, 76, 52, 100, 70]"
   ]
  },
  {
   "cell_type": "code",
   "execution_count": 130,
   "id": "108cac12-de4f-4a47-aa04-e93756f8f91c",
   "metadata": {},
   "outputs": [
    {
     "name": "stdout",
     "output_type": "stream",
     "text": [
      "한 집단 평균 검정(단일 표본검정) = Ttest_indResult(statistic=1.233193127514512, pvalue=0.2525076844853278)\n",
      "t-검정 통계량 = 1.233, p-value = 0.253\n"
     ]
    }
   ],
   "source": [
    "# 검정하기\n",
    "# 첫번째 그룹 : 기준집단\n",
    "# 두번째 그룹 : 관측집단\n",
    "tResult_mf = stats.ttest_ind(male, female)\n",
    "\n",
    "print('한 집단 평균 검정(단일 표본검정) =', tResult_mf)\n",
    "print('t-검정 통계량 = %.3f, p-value = %.3f' %(tResult_mf))\n",
    "\n",
    "# 1. p-value = 0.253 => 0.05 이므로 귀무가설 채택\n",
    "# 2. 귀무가설 채택 : 한개의 집단과 관측값의 평균은 서로 같다.\n",
    "#                    남녀 두 집단의 시험 점수 평균에는 차이가 없다."
   ]
  },
  {
   "cell_type": "markdown",
   "id": "de7d457a-599e-4af7-9a26-2afc8aa97339",
   "metadata": {},
   "source": [
    "### 예시 3 - 두가지 교육방법에 따른 평균 학점에 대한 검정 수행\n",
    "- 귀무가설 : 두 교육방법에 따른 평균학점에는 차이가 없다\n",
    "- 대립가설 : 두 교육방법에 따른 평균학점에는 차이가 있다"
   ]
  },
  {
   "cell_type": "code",
   "execution_count": 156,
   "id": "99e24d7c-f6bc-4db5-8756-faa3e70aa65a",
   "metadata": {},
   "outputs": [],
   "source": [
    "# 데이터 생성\n",
    "edu = pd.read_csv('./data/two_sample.csv')\n",
    "m1 = edu[edu['교육방법'] == 1]\n",
    "m2 = edu[edu['교육방법'] == 2]\n",
    "scor1 = m1['학점']\n",
    "scor2 = m2['학점'] "
   ]
  },
  {
   "cell_type": "code",
   "execution_count": 157,
   "id": "12b8e5a0-7d65-44b0-943c-7cd33a7b9474",
   "metadata": {},
   "outputs": [],
   "source": [
    "scor1 = scor1.fillna(scor1.mean())\n",
    "scor2 = scor2.fillna(scor2.mean()).reset_index(drop=True)"
   ]
  },
  {
   "cell_type": "code",
   "execution_count": 158,
   "id": "e221e82a-6570-4731-a8f9-6560580889de",
   "metadata": {},
   "outputs": [
    {
     "data": {
      "text/plain": [
       "0    4.4\n",
       "1    3.8\n",
       "2    4.2\n",
       "3    4.0\n",
       "4    4.0\n",
       "5    4.1\n",
       "6    4.0\n",
       "7    3.9\n",
       "8    3.7\n",
       "9    3.9\n",
       "Name: 학점, dtype: float64"
      ]
     },
     "execution_count": 158,
     "metadata": {},
     "output_type": "execute_result"
    }
   ],
   "source": [
    "scor1"
   ]
  },
  {
   "cell_type": "code",
   "execution_count": 159,
   "id": "0648a4e9-2a09-4a84-af26-074435cece0a",
   "metadata": {},
   "outputs": [
    {
     "data": {
      "text/plain": [
       "0    4.200000\n",
       "1    4.100000\n",
       "2    4.077778\n",
       "3    3.900000\n",
       "4    4.200000\n",
       "5    4.100000\n",
       "6    4.300000\n",
       "7    3.800000\n",
       "8    4.200000\n",
       "9    3.900000\n",
       "Name: 학점, dtype: float64"
      ]
     },
     "execution_count": 159,
     "metadata": {},
     "output_type": "execute_result"
    }
   ],
   "source": [
    "scor2"
   ]
  },
  {
   "cell_type": "code",
   "execution_count": 180,
   "id": "a8fbc0b3-3b21-4827-a28c-4b096ac2373a",
   "metadata": {},
   "outputs": [
    {
     "name": "stdout",
     "output_type": "stream",
     "text": [
      "정규성 검정 결과 = ShapiroResult(statistic=0.9615016579627991, pvalue=0.8028513789176941)\n",
      "검정 통계량 = 0.962, p-value = 0.803\n"
     ]
    }
   ],
   "source": [
    "# 정규성 검정\n",
    "# 검증시 대부분의 집단은 정규분포를 따른다는 가정하에 진행\n",
    "# p-value의 값이 커질 수록, 평균의 분포는 정규분포를 따른다\n",
    "\n",
    "scor1Sh = stats.shapiro(scor1)\n",
    "print('정규성 검정 결과 =', scor1Sh)\n",
    "print('검정 통계량 = %.3f, p-value = %.3f' %(scor1Sh))\n",
    "\n",
    "# 1. p-value = 0.803 >= 0.05 이므로 정규성을 만족한다"
   ]
  },
  {
   "cell_type": "code",
   "execution_count": 179,
   "id": "3bad73a1-7783-49f1-ba17-824e41641894",
   "metadata": {},
   "outputs": [
    {
     "name": "stdout",
     "output_type": "stream",
     "text": [
      "정규성 검정 결과 = ShapiroResult(statistic=0.9173869490623474, pvalue=0.3356756865978241)\n",
      "검정 통계량 = 0.917, p-value = 0.336\n"
     ]
    }
   ],
   "source": [
    "# 정규성 검정\n",
    "# 검증시 대부분의 집단은 정규분포를 따른다는 가정하에 진행\n",
    "# p-value의 값이 커질 수록, 평균의 분포는 정규분포를 따른다\n",
    "\n",
    "scor2Sh = stats.shapiro(scor2)\n",
    "print('정규성 검정 결과 =', scor2Sh)\n",
    "print('검정 통계량 = %.3f, p-value = %.3f' %(scor2Sh))\n",
    "\n",
    "# 1. p-value = 0.336 >= 0.05 이므로 정규성을 만족한다"
   ]
  },
  {
   "cell_type": "code",
   "execution_count": 177,
   "id": "4013ed78-f799-4ab4-a368-492933935619",
   "metadata": {},
   "outputs": [
    {
     "name": "stderr",
     "output_type": "stream",
     "text": [
      "C:\\Users\\admin\\anaconda3\\lib\\site-packages\\seaborn\\distributions.py:2619: FutureWarning: `distplot` is a deprecated function and will be removed in a future version. Please adapt your code to use either `displot` (a figure-level function with similar flexibility) or `histplot` (an axes-level function for histograms).\n",
      "  warnings.warn(msg, FutureWarning)\n",
      "C:\\Users\\admin\\anaconda3\\lib\\site-packages\\seaborn\\distributions.py:2619: FutureWarning: `distplot` is a deprecated function and will be removed in a future version. Please adapt your code to use either `displot` (a figure-level function with similar flexibility) or `histplot` (an axes-level function for histograms).\n",
      "  warnings.warn(msg, FutureWarning)\n"
     ]
    },
    {
     "data": {
      "image/png": "[encoded data removed]",
      "text/plain": [
       "<Figure size 640x480 with 1 Axes>"
      ]
     },
     "metadata": {},
     "output_type": "display_data"
    }
   ],
   "source": [
    "sns.distplot(scor1, fit=stats.norm)\n",
    "sns.distplot(scor2, fit=stats.norm)\n",
    "plt.show()"
   ]
  },
  {
   "cell_type": "code",
   "execution_count": 186,
   "id": "0be0e137-76df-403a-8746-5b84d7a14bf6",
   "metadata": {},
   "outputs": [],
   "source": [
    "### 등분산성 검증\n",
    "# - 귀무가설 : 두 집단간 분산이 동일하다 (p-value >= 0.05)\n",
    "# - 대립가설 : 두 집단간 분산이 동일하지않다\n",
    "\n",
    "# 등분산성 검증 방법\n",
    "# 1. levene(레빈) 방법\n",
    "# 2. fligner(플리그너) 방법\n",
    "# 3. bartlett(바틀렛) 방법"
   ]
  },
  {
   "cell_type": "code",
   "execution_count": 196,
   "id": "e91e4d1a-8c3b-466e-a119-bf4af2636e79",
   "metadata": {},
   "outputs": [
    {
     "name": "stdout",
     "output_type": "stream",
     "text": [
      "등분산성 levene 검증결과 =  LeveneResult(statistic=0.11149825783972156, pvalue=0.7423035272233627)\n",
      "t-검정 통계량 = 0.111, p-value = 0.742\n"
     ]
    }
   ],
   "source": [
    "# levene(레빈) 방법\n",
    "sLevene = stats.levene(scor1, scor2)\n",
    "\n",
    "print('등분산성 levene 검증결과 = ', sLevene)\n",
    "print('t-검정 통계량 = %.3f, p-value = %.3f' %(sLevene))\n",
    "\n",
    "# 1. p-value = 0.742 => 0.05 이므로 귀무가설 채택\n",
    "# 2. 귀무가설 채택 : 두 집단간 등분산성 만족"
   ]
  },
  {
   "cell_type": "code",
   "execution_count": 195,
   "id": "795e990d-9760-418d-b027-edccc814fe51",
   "metadata": {},
   "outputs": [
    {
     "name": "stdout",
     "output_type": "stream",
     "text": [
      "등분산성 levene 검증결과 =  FlignerResult(statistic=0.009351524793910174, pvalue=0.9229620332079382)\n",
      "t-검정 통계량 = 0.009, p-value = 0.923\n"
     ]
    }
   ],
   "source": [
    "# fligner(플리그너) 방법\n",
    "sFligner = stats.fligner(scor1, scor2)\n",
    "\n",
    "print('등분산성 levene 검증결과 = ', sFligner)\n",
    "print('t-검정 통계량 = %.3f, p-value = %.3f' %(sFligner))\n",
    "\n",
    "# 1. p-value = 0.923 => 0.05 이므로 귀무가설 채택\n",
    "# 2. 귀무가설 채택 : 두 집단간 등분산성 만족"
   ]
  },
  {
   "cell_type": "code",
   "execution_count": 197,
   "id": "a8ea087c-5957-40c8-bab3-d41af30f96e0",
   "metadata": {},
   "outputs": [
    {
     "name": "stdout",
     "output_type": "stream",
     "text": [
      "등분산성 levene 검증결과 =  BartlettResult(statistic=0.38065029633127184, pvalue=0.5372554141124455)\n",
      "t-검정 통계량 = 0.381, p-value = 0.537\n"
     ]
    }
   ],
   "source": [
    "# bartlett(바틀렛) 방법\n",
    "sBartlett = stats.bartlett(scor1, scor2)\n",
    "\n",
    "print('등분산성 levene 검증결과 = ', sBartlett)\n",
    "print('t-검정 통계량 = %.3f, p-value = %.3f' %(sBartlett))\n",
    "\n",
    "# 1. p-value = 0.537 => 0.05 이므로 귀무가설 채택\n",
    "# 2. 귀무가설 채택 : 두 집단간 등분산성 만족"
   ]
  },
  {
   "cell_type": "code",
   "execution_count": 160,
   "id": "5636f718-a6ab-4fdf-b611-65dcfac5c834",
   "metadata": {},
   "outputs": [
    {
     "name": "stdout",
     "output_type": "stream",
     "text": [
      "한 집단 평균 검정(단일 표본검정) = Ttest_indResult(statistic=-0.9561271382392642, pvalue=0.3516741458629946)\n",
      "t-검정 통계량 = -0.956, p-value = 0.352\n"
     ]
    }
   ],
   "source": [
    "# 검정하기\n",
    "# 첫번째 그룹 : 기준집단\n",
    "# 두번째 그룹 : 관측집단\n",
    "tResult_score = stats.ttest_ind(scor1, scor2)\n",
    "\n",
    "print('한 집단 평균 검정(단일 표본검정) =', tResult_score)\n",
    "print('t-검정 통계량 = %.3f, p-value = %.3f' %(tResult_score))\n",
    "\n",
    "# 1. p-value = 0.339 => 0.05 이므로 귀무가설 채택\n",
    "# 2. 귀무가설 채택 : 한개의 집단과 관측값의 평균은 서로 같다.\n",
    "#                    두 교육방법의 학점 평균에는 차이가 없다."
   ]
  },
  {
   "cell_type": "code",
   "execution_count": 199,
   "id": "1bc87cd5-5a2f-41a3-bb6c-dd8ffe3776c1",
   "metadata": {},
   "outputs": [
    {
     "name": "stdout",
     "output_type": "stream",
     "text": [
      "한 집단 평균 검정(단일 표본검정) = Ttest_indResult(statistic=-0.9561271382392642, pvalue=0.3516741458629946)\n",
      "t-검정 통계량 = -0.956, p-value = 0.352\n"
     ]
    }
   ],
   "source": [
    "# 검정하기\n",
    "# 첫번째 그룹 : 기준집단\n",
    "# 두번째 그룹 : 관측집단\n",
    "\n",
    "# equal_var 정규성과 등분산성을 모두 만족하는 경우 작성\n",
    "tResult_score = stats.ttest_ind(scor1, scor2, equal_var= True)\n",
    "\n",
    "print('한 집단 평균 검정(단일 표본검정) =', tResult_score)\n",
    "print('t-검정 통계량 = %.3f, p-value = %.3f' %(tResult_score))\n",
    "\n",
    "# 1. p-value = 0.339 => 0.05 이므로 귀무가설 채택\n",
    "# 2. 귀무가설 채택 : 한개의 집단과 관측값의 평균은 서로 같다.\n",
    "#                    두 교육방법의 학점 평균에는 차이가 없다."
   ]
  },
  {
   "cell_type": "markdown",
   "id": "f0226b7d-5371-4b88-8986-7de7e10538ec",
   "metadata": {},
   "source": [
    "### 예시 4 - 음식점의 매출자료와 날씨자료를 이용하여 강수 여부에따른 매출 차이 분석\n",
    "#### - 집단1 : 비가 올때의 매출\n",
    "#### - 집단2 : 비가 안올때의 매출\n",
    "- 귀무가설 : 강수여부에 따른 매출액 평균에 차이가 없다\n",
    "- 대립가설 : 강수여부에 따른 매출액 평균에 차이가 있다"
   ]
  },
  {
   "cell_type": "code",
   "execution_count": 230,
   "id": "a004d431-ac32-404d-aa48-d6d89713aa8a",
   "metadata": {},
   "outputs": [],
   "source": [
    "sale = pd.read_csv('./data/tsales.csv')"
   ]
  },
  {
   "cell_type": "code",
   "execution_count": 278,
   "id": "536f0fb2-c219-4f18-ae27-15f4d2f81025",
   "metadata": {},
   "outputs": [],
   "source": [
    "# 불러올때 형식 변환하기\n",
    "# sale = pd.read_csv('./data/tsales.csv', dtype={'YMD' : 'object'})"
   ]
  },
  {
   "cell_type": "code",
   "execution_count": 227,
   "id": "a06aafd1-3a90-4b94-b054-2a393abf7210",
   "metadata": {},
   "outputs": [],
   "source": [
    "weather = pd.read_csv('./data/tweather.csv')"
   ]
  },
  {
   "cell_type": "code",
   "execution_count": 280,
   "id": "38951011-00b8-48d2-97f5-64b39f3e2d7b",
   "metadata": {},
   "outputs": [],
   "source": [
    "sale['YMD'] = sale['YMD'].astype(str)\n",
    "sale['YMD'] = pd.to_datetime(sale['YMD'])\n",
    "sale = sale[['YMD','AMT']]"
   ]
  },
  {
   "cell_type": "code",
   "execution_count": 281,
   "id": "785921f5-781c-4fe1-89d4-67daa068fb1e",
   "metadata": {},
   "outputs": [
    {
     "data": {
      "text/html": [
       "<div>\n",
       "<style scoped>\n",
       "    .dataframe tbody tr th:only-of-type {\n",
       "        vertical-align: middle;\n",
       "    }\n",
       "\n",
       "    .dataframe tbody tr th {\n",
       "        vertical-align: top;\n",
       "    }\n",
       "\n",
       "    .dataframe thead th {\n",
       "        text-align: right;\n",
       "    }\n",
       "</style>\n",
       "<table border=\"1\" class=\"dataframe\">\n",
       "  <thead>\n",
       "    <tr style=\"text-align: right;\">\n",
       "      <th></th>\n",
       "      <th>YMD</th>\n",
       "      <th>AMT</th>\n",
       "    </tr>\n",
       "  </thead>\n",
       "  <tbody>\n",
       "    <tr>\n",
       "      <th>0</th>\n",
       "      <td>2019-05-14</td>\n",
       "      <td>0</td>\n",
       "    </tr>\n",
       "    <tr>\n",
       "      <th>1</th>\n",
       "      <td>2019-05-19</td>\n",
       "      <td>18000</td>\n",
       "    </tr>\n",
       "    <tr>\n",
       "      <th>2</th>\n",
       "      <td>2019-05-21</td>\n",
       "      <td>50000</td>\n",
       "    </tr>\n",
       "    <tr>\n",
       "      <th>3</th>\n",
       "      <td>2019-05-22</td>\n",
       "      <td>125000</td>\n",
       "    </tr>\n",
       "    <tr>\n",
       "      <th>4</th>\n",
       "      <td>2019-05-23</td>\n",
       "      <td>222500</td>\n",
       "    </tr>\n",
       "    <tr>\n",
       "      <th>...</th>\n",
       "      <td>...</td>\n",
       "      <td>...</td>\n",
       "    </tr>\n",
       "    <tr>\n",
       "      <th>323</th>\n",
       "      <td>2020-04-24</td>\n",
       "      <td>1092500</td>\n",
       "    </tr>\n",
       "    <tr>\n",
       "      <th>324</th>\n",
       "      <td>2020-04-25</td>\n",
       "      <td>672500</td>\n",
       "    </tr>\n",
       "    <tr>\n",
       "      <th>325</th>\n",
       "      <td>2020-04-26</td>\n",
       "      <td>1123500</td>\n",
       "    </tr>\n",
       "    <tr>\n",
       "      <th>326</th>\n",
       "      <td>2020-04-27</td>\n",
       "      <td>819500</td>\n",
       "    </tr>\n",
       "    <tr>\n",
       "      <th>327</th>\n",
       "      <td>2020-04-28</td>\n",
       "      <td>950500</td>\n",
       "    </tr>\n",
       "  </tbody>\n",
       "</table>\n",
       "<p>328 rows × 2 columns</p>\n",
       "</div>"
      ],
      "text/plain": [
       "           YMD      AMT\n",
       "0   2019-05-14        0\n",
       "1   2019-05-19    18000\n",
       "2   2019-05-21    50000\n",
       "3   2019-05-22   125000\n",
       "4   2019-05-23   222500\n",
       "..         ...      ...\n",
       "323 2020-04-24  1092500\n",
       "324 2020-04-25   672500\n",
       "325 2020-04-26  1123500\n",
       "326 2020-04-27   819500\n",
       "327 2020-04-28   950500\n",
       "\n",
       "[328 rows x 2 columns]"
      ]
     },
     "execution_count": 281,
     "metadata": {},
     "output_type": "execute_result"
    }
   ],
   "source": [
    "sale"
   ]
  },
  {
   "cell_type": "code",
   "execution_count": 251,
   "id": "29f21916-fe41-4738-841b-326b5dbbc87a",
   "metadata": {},
   "outputs": [],
   "source": [
    "weather['YMD'] = pd.to_datetime(weather['tm'])\n",
    "weather = weather[['YMD','sumRn']]"
   ]
  },
  {
   "cell_type": "code",
   "execution_count": 284,
   "id": "8c90e8af-ce6d-4df6-8cb5-9c315a1f7f2c",
   "metadata": {},
   "outputs": [
    {
     "data": {
      "text/html": [
       "<div>\n",
       "<style scoped>\n",
       "    .dataframe tbody tr th:only-of-type {\n",
       "        vertical-align: middle;\n",
       "    }\n",
       "\n",
       "    .dataframe tbody tr th {\n",
       "        vertical-align: top;\n",
       "    }\n",
       "\n",
       "    .dataframe thead th {\n",
       "        text-align: right;\n",
       "    }\n",
       "</style>\n",
       "<table border=\"1\" class=\"dataframe\">\n",
       "  <thead>\n",
       "    <tr style=\"text-align: right;\">\n",
       "      <th></th>\n",
       "      <th>YMD</th>\n",
       "      <th>sumRn</th>\n",
       "    </tr>\n",
       "  </thead>\n",
       "  <tbody>\n",
       "    <tr>\n",
       "      <th>0</th>\n",
       "      <td>2018-06-01</td>\n",
       "      <td>0.0</td>\n",
       "    </tr>\n",
       "    <tr>\n",
       "      <th>1</th>\n",
       "      <td>2018-06-02</td>\n",
       "      <td>0.0</td>\n",
       "    </tr>\n",
       "    <tr>\n",
       "      <th>2</th>\n",
       "      <td>2018-06-03</td>\n",
       "      <td>0.0</td>\n",
       "    </tr>\n",
       "    <tr>\n",
       "      <th>3</th>\n",
       "      <td>2018-06-04</td>\n",
       "      <td>0.0</td>\n",
       "    </tr>\n",
       "    <tr>\n",
       "      <th>4</th>\n",
       "      <td>2018-06-05</td>\n",
       "      <td>0.0</td>\n",
       "    </tr>\n",
       "    <tr>\n",
       "      <th>...</th>\n",
       "      <td>...</td>\n",
       "      <td>...</td>\n",
       "    </tr>\n",
       "    <tr>\n",
       "      <th>697</th>\n",
       "      <td>2020-04-28</td>\n",
       "      <td>0.0</td>\n",
       "    </tr>\n",
       "    <tr>\n",
       "      <th>698</th>\n",
       "      <td>2020-04-29</td>\n",
       "      <td>0.0</td>\n",
       "    </tr>\n",
       "    <tr>\n",
       "      <th>699</th>\n",
       "      <td>2020-04-30</td>\n",
       "      <td>0.0</td>\n",
       "    </tr>\n",
       "    <tr>\n",
       "      <th>700</th>\n",
       "      <td>2020-05-01</td>\n",
       "      <td>0.0</td>\n",
       "    </tr>\n",
       "    <tr>\n",
       "      <th>701</th>\n",
       "      <td>2020-05-02</td>\n",
       "      <td>0.0</td>\n",
       "    </tr>\n",
       "  </tbody>\n",
       "</table>\n",
       "<p>702 rows × 2 columns</p>\n",
       "</div>"
      ],
      "text/plain": [
       "           YMD  sumRn\n",
       "0   2018-06-01    0.0\n",
       "1   2018-06-02    0.0\n",
       "2   2018-06-03    0.0\n",
       "3   2018-06-04    0.0\n",
       "4   2018-06-05    0.0\n",
       "..         ...    ...\n",
       "697 2020-04-28    0.0\n",
       "698 2020-04-29    0.0\n",
       "699 2020-04-30    0.0\n",
       "700 2020-05-01    0.0\n",
       "701 2020-05-02    0.0\n",
       "\n",
       "[702 rows x 2 columns]"
      ]
     },
     "execution_count": 284,
     "metadata": {},
     "output_type": "execute_result"
    }
   ],
   "source": [
    "weather"
   ]
  },
  {
   "cell_type": "code",
   "execution_count": 294,
   "id": "9a79c5fb-0b67-4e19-b8e2-f4d91d9117b9",
   "metadata": {},
   "outputs": [
    {
     "data": {
      "text/html": [
       "<div>\n",
       "<style scoped>\n",
       "    .dataframe tbody tr th:only-of-type {\n",
       "        vertical-align: middle;\n",
       "    }\n",
       "\n",
       "    .dataframe tbody tr th {\n",
       "        vertical-align: top;\n",
       "    }\n",
       "\n",
       "    .dataframe thead th {\n",
       "        text-align: right;\n",
       "    }\n",
       "</style>\n",
       "<table border=\"1\" class=\"dataframe\">\n",
       "  <thead>\n",
       "    <tr style=\"text-align: right;\">\n",
       "      <th></th>\n",
       "      <th>YMD</th>\n",
       "      <th>AMT</th>\n",
       "      <th>sumRn</th>\n",
       "    </tr>\n",
       "  </thead>\n",
       "  <tbody>\n",
       "    <tr>\n",
       "      <th>0</th>\n",
       "      <td>2019-05-14</td>\n",
       "      <td>0</td>\n",
       "      <td>0.0</td>\n",
       "    </tr>\n",
       "    <tr>\n",
       "      <th>1</th>\n",
       "      <td>2019-05-19</td>\n",
       "      <td>18000</td>\n",
       "      <td>22.0</td>\n",
       "    </tr>\n",
       "    <tr>\n",
       "      <th>2</th>\n",
       "      <td>2019-05-21</td>\n",
       "      <td>50000</td>\n",
       "      <td>0.0</td>\n",
       "    </tr>\n",
       "    <tr>\n",
       "      <th>3</th>\n",
       "      <td>2019-05-22</td>\n",
       "      <td>125000</td>\n",
       "      <td>0.0</td>\n",
       "    </tr>\n",
       "    <tr>\n",
       "      <th>4</th>\n",
       "      <td>2019-05-23</td>\n",
       "      <td>222500</td>\n",
       "      <td>0.0</td>\n",
       "    </tr>\n",
       "    <tr>\n",
       "      <th>...</th>\n",
       "      <td>...</td>\n",
       "      <td>...</td>\n",
       "      <td>...</td>\n",
       "    </tr>\n",
       "    <tr>\n",
       "      <th>323</th>\n",
       "      <td>2020-04-24</td>\n",
       "      <td>1092500</td>\n",
       "      <td>0.0</td>\n",
       "    </tr>\n",
       "    <tr>\n",
       "      <th>324</th>\n",
       "      <td>2020-04-25</td>\n",
       "      <td>672500</td>\n",
       "      <td>0.0</td>\n",
       "    </tr>\n",
       "    <tr>\n",
       "      <th>325</th>\n",
       "      <td>2020-04-26</td>\n",
       "      <td>1123500</td>\n",
       "      <td>0.0</td>\n",
       "    </tr>\n",
       "    <tr>\n",
       "      <th>326</th>\n",
       "      <td>2020-04-27</td>\n",
       "      <td>819500</td>\n",
       "      <td>0.0</td>\n",
       "    </tr>\n",
       "    <tr>\n",
       "      <th>327</th>\n",
       "      <td>2020-04-28</td>\n",
       "      <td>950500</td>\n",
       "      <td>0.0</td>\n",
       "    </tr>\n",
       "  </tbody>\n",
       "</table>\n",
       "<p>328 rows × 3 columns</p>\n",
       "</div>"
      ],
      "text/plain": [
       "           YMD      AMT  sumRn\n",
       "0   2019-05-14        0    0.0\n",
       "1   2019-05-19    18000   22.0\n",
       "2   2019-05-21    50000    0.0\n",
       "3   2019-05-22   125000    0.0\n",
       "4   2019-05-23   222500    0.0\n",
       "..         ...      ...    ...\n",
       "323 2020-04-24  1092500    0.0\n",
       "324 2020-04-25   672500    0.0\n",
       "325 2020-04-26  1123500    0.0\n",
       "326 2020-04-27   819500    0.0\n",
       "327 2020-04-28   950500    0.0\n",
       "\n",
       "[328 rows x 3 columns]"
      ]
     },
     "execution_count": 294,
     "metadata": {},
     "output_type": "execute_result"
    }
   ],
   "source": [
    "sale_weather = pd.merge(sale, weather, how='left', left_on='YMD', right_on='YMD')\n",
    "sale_weather"
   ]
  },
  {
   "cell_type": "code",
   "execution_count": 261,
   "id": "70efd505-33c6-4e31-8dad-ae196cd4d345",
   "metadata": {},
   "outputs": [],
   "source": [
    "rain = sale_weather[sale_weather['sumRn'] != 0]\n",
    "rain = rain['AMT']"
   ]
  },
  {
   "cell_type": "code",
   "execution_count": 260,
   "id": "50387763-7235-4fa6-9d4a-6ecf6ab18c58",
   "metadata": {},
   "outputs": [],
   "source": [
    "sunny = sale_weather[sale_weather['sumRn'] == 0]\n",
    "sunny = sunny['AMT']"
   ]
  },
  {
   "cell_type": "code",
   "execution_count": 277,
   "id": "aa1e8d51-d488-4523-82ed-87585f3025d0",
   "metadata": {},
   "outputs": [
    {
     "name": "stdout",
     "output_type": "stream",
     "text": [
      "정규성 검정 결과 = ShapiroResult(statistic=0.9924222826957703, pvalue=0.882739782333374)\n",
      "검정 통계량 = 0.992, p-value = 0.883\n"
     ]
    }
   ],
   "source": [
    "# 정규성 검정\n",
    "# 검증시 대부분의 집단은 정규분포를 따른다는 가정하에 진행\n",
    "# p-value의 값이 커질 수록, 평균의 분포는 정규분포를 따른다\n",
    "\n",
    "rainSh = stats.shapiro(rain)\n",
    "print('정규성 검정 결과 =', rainSh)\n",
    "print('검정 통계량 = %.3f, p-value = %.3f' %(rainSh))\n",
    "\n",
    "# 1. p-value = 0.883 >= 0.05 이므로 정규성을 만족한다"
   ]
  },
  {
   "cell_type": "code",
   "execution_count": 266,
   "id": "be96428a-e848-47f7-a0e5-8c55038b5cd1",
   "metadata": {},
   "outputs": [
    {
     "name": "stdout",
     "output_type": "stream",
     "text": [
      "정규성 검정 결과 = ShapiroResult(statistic=0.9884955883026123, pvalue=0.056049469858407974)\n",
      "검정 통계량 = 0.988, p-value = 0.056\n"
     ]
    }
   ],
   "source": [
    "# 정규성 검정\n",
    "# 검증시 대부분의 집단은 정규분포를 따른다는 가정하에 진행\n",
    "# p-value의 값이 커질 수록, 평균의 분포는 정규분포를 따른다\n",
    "\n",
    "sunnySh = stats.shapiro(sunny)\n",
    "print('정규성 검정 결과 =', sunnySh)\n",
    "print('검정 통계량 = %.3f, p-value = %.3f' %(sunnySh))\n",
    "\n",
    "# 1. p-value = 0.056 >= 0.05 이므로 정규성을 만족한다"
   ]
  },
  {
   "cell_type": "code",
   "execution_count": 267,
   "id": "4b4d46ce-11c9-4558-8d69-3a770ab773c9",
   "metadata": {},
   "outputs": [
    {
     "name": "stderr",
     "output_type": "stream",
     "text": [
      "C:\\Users\\admin\\anaconda3\\lib\\site-packages\\seaborn\\distributions.py:2619: FutureWarning: `distplot` is a deprecated function and will be removed in a future version. Please adapt your code to use either `displot` (a figure-level function with similar flexibility) or `histplot` (an axes-level function for histograms).\n",
      "  warnings.warn(msg, FutureWarning)\n",
      "C:\\Users\\admin\\anaconda3\\lib\\site-packages\\seaborn\\distributions.py:2619: FutureWarning: `distplot` is a deprecated function and will be removed in a future version. Please adapt your code to use either `displot` (a figure-level function with similar flexibility) or `histplot` (an axes-level function for histograms).\n",
      "  warnings.warn(msg, FutureWarning)\n"
     ]
    },
    {
     "data": {
      "image/png": "[encoded data removed]",
      "text/plain": [
       "<Figure size 640x480 with 1 Axes>"
      ]
     },
     "metadata": {},
     "output_type": "display_data"
    }
   ],
   "source": [
    "sns.distplot(rain, fit=stats.norm)\n",
    "sns.distplot(sunny, fit=stats.norm)\n",
    "plt.show()"
   ]
  },
  {
   "cell_type": "code",
   "execution_count": 271,
   "id": "dbc96571-4f51-42a7-8666-bf688d179640",
   "metadata": {},
   "outputs": [
    {
     "name": "stdout",
     "output_type": "stream",
     "text": [
      "등분산성 levene 검증결과 =  LeveneResult(statistic=0.13618283405945808, pvalue=0.7123452333011173)\n",
      "t-검정 통계량 = 0.136, p-value = 0.712\n"
     ]
    }
   ],
   "source": [
    "# levene(레빈) 방법\n",
    "sLevene = stats.levene(rain, sunny)\n",
    "\n",
    "print('등분산성 levene 검증결과 = ', sLevene)\n",
    "print('t-검정 통계량 = %.3f, p-value = %.3f' %(sLevene))\n",
    "\n",
    "# 1. p-value = 0.712 => 0.05 이므로 귀무가설 채택\n",
    "# 2. 귀무가설 채택 : 두 집단간 등분산성 만족"
   ]
  },
  {
   "cell_type": "code",
   "execution_count": 273,
   "id": "2aad47a4-d8fe-4259-b6c5-49805329a1f6",
   "metadata": {},
   "outputs": [
    {
     "name": "stdout",
     "output_type": "stream",
     "text": [
      "등분산성 levene 검증결과 =  FlignerResult(statistic=0.1433080993606402, pvalue=0.7050142128066071)\n",
      "t-검정 통계량 = 0.143, p-value = 0.705\n"
     ]
    }
   ],
   "source": [
    "# fligner(플리그너) 방법\n",
    "sFligner = stats.fligner(rain, sunny)\n",
    "\n",
    "print('등분산성 levene 검증결과 = ', sFligner)\n",
    "print('t-검정 통계량 = %.3f, p-value = %.3f' %(sFligner))\n",
    "\n",
    "# 1. p-value = 0.705 => 0.05 이므로 귀무가설 채택\n",
    "# 2. 귀무가설 채택 : 두 집단간 등분산성 만족"
   ]
  },
  {
   "cell_type": "code",
   "execution_count": 274,
   "id": "234055f2-103a-4b4c-aafb-f80d536978f0",
   "metadata": {},
   "outputs": [
    {
     "name": "stdout",
     "output_type": "stream",
     "text": [
      "등분산성 levene 검증결과 =  BartlettResult(statistic=0.2688957613342281, pvalue=0.6040734684690022)\n",
      "t-검정 통계량 = 0.269, p-value = 0.604\n"
     ]
    }
   ],
   "source": [
    "# bartlett(바틀렛) 방법\n",
    "sBartlett = stats.bartlett(rain, sunny)\n",
    "\n",
    "print('등분산성 levene 검증결과 = ', sBartlett)\n",
    "print('t-검정 통계량 = %.3f, p-value = %.3f' %(sBartlett))\n",
    "\n",
    "# 1. p-value = 0.604 => 0.05 이므로 귀무가설 채택\n",
    "# 2. 귀무가설 채택 : 두 집단간 등분산성 만족"
   ]
  },
  {
   "cell_type": "code",
   "execution_count": 276,
   "id": "87e95bb1-bffb-4a29-953c-0fd28d03469a",
   "metadata": {},
   "outputs": [
    {
     "name": "stdout",
     "output_type": "stream",
     "text": [
      "한 집단 평균 검정(단일 표본검정) = Ttest_indResult(statistic=-0.10109828602924716, pvalue=0.919534587722196)\n",
      "t-검정 통계량 = -0.101, p-value = 0.920\n"
     ]
    }
   ],
   "source": [
    "# 검정하기\n",
    "# 첫번째 그룹 : 기준집단\n",
    "# 두번째 그룹 : 관측집단\n",
    "tResult_sale = stats.ttest_ind(rain, sunny, equal_var= True)\n",
    "\n",
    "print('한 집단 평균 검정(단일 표본검정) =', tResult_sale)\n",
    "print('t-검정 통계량 = %.3f, p-value = %.3f' %(tResult_sale))\n",
    "\n",
    "# 1. p-value = 0.920 => 0.05 이므로 귀무가설 채택\n",
    "# 2. 귀무가설 채택 : 한개의 집단과 관측값의 평균은 서로 같다.\n",
    "#                    강수 여부에 따른 매출액 차이가 없다."
   ]
  },
  {
   "cell_type": "code",
   "execution_count": 296,
   "id": "3031bfaa-76b1-42ef-8020-b984839948bf",
   "metadata": {},
   "outputs": [
    {
     "data": {
      "image/png": "[encoded data removed]",
      "text/plain": [
       "<Figure size 640x480 with 1 Axes>"
      ]
     },
     "metadata": {},
     "output_type": "display_data"
    }
   ],
   "source": [
    "plt.boxplot([rain,sunny],\n",
    "            meanline= True,\n",
    "            showmeans= True,\n",
    "            notch = True)\n",
    "plt.show()"
   ]
  }
 ],
 "metadata": {
  "kernelspec": {
   "display_name": "Python 3 (ipykernel)",
   "language": "python",
   "name": "python3"
  },
  "language_info": {
   "codemirror_mode": {
    "name": "ipython",
    "version": 3
   },
   "file_extension": ".py",
   "mimetype": "text/x-python",
   "name": "python",
   "nbconvert_exporter": "python",
   "pygments_lexer": "ipython3",
   "version": "3.9.12"
  }
 },
 "nbformat": 4,
 "nbformat_minor": 5
}
