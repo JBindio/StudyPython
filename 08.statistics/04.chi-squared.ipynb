{
 "cells": [
  {
   "cell_type": "code",
   "execution_count": 4,
   "id": "b5b0fce9-6667-49ed-83a7-aec0b52dffbc",
   "metadata": {},
   "outputs": [],
   "source": [
    "import pandas as pd\n",
    "import numpy as np\n",
    "import folium\n",
    "import matplotlib.pyplot as plt\n",
    "import matplotlib\n",
    "from matplotlib import font_manager, rc\n",
    "import seaborn as sns\n",
    "from seaborn.distributions import distplot\n",
    "import platform\n",
    "from scipy import stats"
   ]
  },
  {
   "cell_type": "code",
   "execution_count": 5,
   "id": "7c206204-7954-4aaa-b28e-46df2fa925b2",
   "metadata": {},
   "outputs": [],
   "source": [
    "# seaborn 설정 리셋\n",
    "sns.reset_defaults()\n",
    "\n",
    "# 폰트설정\n",
    "if platform.system() == 'Windows' :\n",
    "    path = 'c:/Windows/Fonts/malgun.ttf'\n",
    "    font_name = font_manager.FontProperties(fname=path).get_name()\n",
    "    rc('font', family=font_name)\n",
    "elif platform.system() == 'Darwin':\n",
    "    rc('font', family='AppleGothic')\n",
    "else :\n",
    "    print('Check your OS System')\n",
    "    \n",
    "# 그래프에 마이너스 표시\n",
    "matplotlib.rcParams['axes.unicode_minus'] = False"
   ]
  },
  {
   "cell_type": "markdown",
   "id": "b7f1f194-4294-427b-ae3b-53c57bb8d7dd",
   "metadata": {
    "tags": []
   },
   "source": [
    "## 카이제곱 검정(chi-squared test) - 교차분석 or X^2 검정"
   ]
  },
  {
   "cell_type": "code",
   "execution_count": 6,
   "id": "4851f278-4e92-4cc1-8448-3c179c26f57f",
   "metadata": {},
   "outputs": [],
   "source": [
    "# 1. 데이터 간의 연관성을 확인 할 때 사용\n",
    "#    - 데이터 간 얼마나 가까운지에 대한 연관성 의미 부여\n",
    "#    - 인과관계와는 무관함 (인과관계 : 특정 데이터가 다른 데이터 값의 변화에 영향을 끼치는 관계)\n",
    "\n",
    "# 2. 카이제곱의 종류\n",
    "#    - 일원카이제곱(chisquare)\n",
    "#       : 1개 집단에서 기대값과 관찰값 사이의 유의미한 차이 확인\n",
    "#    - 이원카이제곱(chi2_contigency)\n",
    "#       : 2개 이상 집단에서 데이터 간의 연관성(차이) 확인\n",
    "#       : 분석 대상의 집단 수에 의해서 \"독립성 검정\"과 \"동질성 검정\"으로 나뉜다"
   ]
  },
  {
   "cell_type": "markdown",
   "id": "a96c58a4-81bd-4b88-9cc8-53cfffadd97f",
   "metadata": {},
   "source": [
    "## 1. 일원 카이제곱\n",
    "### 예시 1 - 5개의 스포츠 음료에 대한 선호도에 차이가 있는지 검정\n",
    "- 귀무가설 : 스포츠 음료에 대한 선호도 차이가 없다.\n",
    "- 대립가설 : 스포츠 음료에 대한 선호도 차이가 있다."
   ]
  },
  {
   "cell_type": "code",
   "execution_count": 8,
   "id": "f274e2b1-855a-4eed-aa02-847e8d910479",
   "metadata": {},
   "outputs": [
    {
     "data": {
      "text/html": [
       "<div>\n",
       "<style scoped>\n",
       "    .dataframe tbody tr th:only-of-type {\n",
       "        vertical-align: middle;\n",
       "    }\n",
       "\n",
       "    .dataframe tbody tr th {\n",
       "        vertical-align: top;\n",
       "    }\n",
       "\n",
       "    .dataframe thead th {\n",
       "        text-align: right;\n",
       "    }\n",
       "</style>\n",
       "<table border=\"1\" class=\"dataframe\">\n",
       "  <thead>\n",
       "    <tr style=\"text-align: right;\">\n",
       "      <th></th>\n",
       "      <th>음료종류</th>\n",
       "      <th>관측도수</th>\n",
       "    </tr>\n",
       "  </thead>\n",
       "  <tbody>\n",
       "    <tr>\n",
       "      <th>0</th>\n",
       "      <td>s1</td>\n",
       "      <td>41</td>\n",
       "    </tr>\n",
       "    <tr>\n",
       "      <th>1</th>\n",
       "      <td>s2</td>\n",
       "      <td>30</td>\n",
       "    </tr>\n",
       "    <tr>\n",
       "      <th>2</th>\n",
       "      <td>s3</td>\n",
       "      <td>51</td>\n",
       "    </tr>\n",
       "    <tr>\n",
       "      <th>3</th>\n",
       "      <td>s4</td>\n",
       "      <td>71</td>\n",
       "    </tr>\n",
       "    <tr>\n",
       "      <th>4</th>\n",
       "      <td>s5</td>\n",
       "      <td>61</td>\n",
       "    </tr>\n",
       "  </tbody>\n",
       "</table>\n",
       "</div>"
      ],
      "text/plain": [
       "  음료종류  관측도수\n",
       "0   s1    41\n",
       "1   s2    30\n",
       "2   s3    51\n",
       "3   s4    71\n",
       "4   s5    61"
      ]
     },
     "execution_count": 8,
     "metadata": {},
     "output_type": "execute_result"
    }
   ],
   "source": [
    "drink = pd.read_csv('./data/drinkdata.csv')\n",
    "drink"
   ]
  },
  {
   "cell_type": "code",
   "execution_count": 29,
   "id": "5895db0c-92df-4776-addb-886f3a332834",
   "metadata": {},
   "outputs": [
    {
     "name": "stdout",
     "output_type": "stream",
     "text": [
      "검정 결과 = Power_divergenceResult(statistic=20.488188976377952, pvalue=0.00039991784008227264)\n",
      "검정 통계량 = 20.488, p-value = 0.000\n"
     ]
    }
   ],
   "source": [
    "# 검증하기\n",
    "result = stats.chisquare(drink['관측도수'])\n",
    "print('검정 결과 =', result)\n",
    "print('검정 통계량 = %.3f, p-value = %.3f' %(result))\n",
    "\n",
    "# 검증결과\n",
    "# 1. p-value = 0.000 < 0.05 이므로 귀무가설 기각\n",
    "# 2. 대립가설 채택 : 스포츠 음료에 대한 선호도 차이가 있다."
   ]
  },
  {
   "cell_type": "markdown",
   "id": "a8073d26-ca35-4e43-b9fa-98cc7637e070",
   "metadata": {},
   "source": [
    "## 2. 이원 카이제곱 - 독립성 검정\n",
    "### 예시 2 - 교육수준과 흡연율 간의 연관성 분석\n",
    "(2개집단 : 교육수준, 흡연율)\n",
    "- 귀무가설 : 교육수준과 흡연율 간에 관련성이 없다.\n",
    "- 대립가설 : 교육수준과 흡연율 간에 관련성이 있다."
   ]
  },
  {
   "cell_type": "code",
   "execution_count": 21,
   "id": "4545f57f-2941-44c1-b64c-8d0376ab707e",
   "metadata": {},
   "outputs": [
    {
     "name": "stdout",
     "output_type": "stream",
     "text": [
      "교육수준 : [1 2 3]\n",
      "흡연정도 : [1 2 3]\n"
     ]
    }
   ],
   "source": [
    "smoke = pd.read_csv('./data/smoke.csv')\n",
    "# 교육수준(education) : 1(대학원졸), 2(대졸), 3(고졸)\n",
    "# 흡연정도(smoke) : 1.골초, 2(보통), 3(노담)\n",
    "print('교육수준 :', smoke['education'].unique())\n",
    "print('흡연정도 :', smoke['smoking'].unique())"
   ]
  },
  {
   "cell_type": "code",
   "execution_count": 26,
   "id": "c580f03b-4f2c-4ec0-b17b-e1fb036d7ba1",
   "metadata": {},
   "outputs": [
    {
     "data": {
      "text/html": [
       "<div>\n",
       "<style scoped>\n",
       "    .dataframe tbody tr th:only-of-type {\n",
       "        vertical-align: middle;\n",
       "    }\n",
       "\n",
       "    .dataframe tbody tr th {\n",
       "        vertical-align: top;\n",
       "    }\n",
       "\n",
       "    .dataframe thead th {\n",
       "        text-align: right;\n",
       "    }\n",
       "</style>\n",
       "<table border=\"1\" class=\"dataframe\">\n",
       "  <thead>\n",
       "    <tr style=\"text-align: right;\">\n",
       "      <th></th>\n",
       "      <th>골초</th>\n",
       "      <th>보통</th>\n",
       "      <th>노담</th>\n",
       "    </tr>\n",
       "  </thead>\n",
       "  <tbody>\n",
       "    <tr>\n",
       "      <th>대학원졸</th>\n",
       "      <td>51</td>\n",
       "      <td>92</td>\n",
       "      <td>68</td>\n",
       "    </tr>\n",
       "    <tr>\n",
       "      <th>대졸</th>\n",
       "      <td>22</td>\n",
       "      <td>21</td>\n",
       "      <td>9</td>\n",
       "    </tr>\n",
       "    <tr>\n",
       "      <th>고졸</th>\n",
       "      <td>43</td>\n",
       "      <td>28</td>\n",
       "      <td>21</td>\n",
       "    </tr>\n",
       "  </tbody>\n",
       "</table>\n",
       "</div>"
      ],
      "text/plain": [
       "      골초  보통  노담\n",
       "대학원졸  51  92  68\n",
       "대졸    22  21   9\n",
       "고졸    43  28  21"
      ]
     },
     "execution_count": 26,
     "metadata": {},
     "output_type": "execute_result"
    }
   ],
   "source": [
    "# 이원카이제곱 : 두 집단의 교차표 생성\n",
    "# 교차표 : 빈도 집계를 의미\n",
    "\n",
    "edu_smoke_ctab = pd.crosstab(index= smoke['education'],\n",
    "                   columns= smoke['smoking'])\n",
    "\n",
    "# 인덱스 값 한글설정\n",
    "edu_smoke_ctab.index = ['대학원졸','대졸','고졸']\n",
    "\n",
    "# 컬럼 인덱스 값 한글설정\n",
    "edu_smoke_ctab.columns = ['골초','보통','노담']\n",
    "edu_smoke_ctab"
   ]
  },
  {
   "cell_type": "code",
   "execution_count": 30,
   "id": "6e2f5b70-ced2-49eb-9799-85e2ef2b2f57",
   "metadata": {},
   "outputs": [
    {
     "name": "stdout",
     "output_type": "stream",
     "text": [
      "검정 결과 = (18.910915739853955, 0.0008182572832162924, 4, array([[68.94647887, 83.8056338 , 58.24788732],\n",
      "       [16.9915493 , 20.65352113, 14.35492958],\n",
      "       [30.06197183, 36.54084507, 25.3971831 ]]))\n",
      "검정 통계량 = 18.911, p-value = 0.001\n"
     ]
    }
   ],
   "source": [
    "# 검정하기\n",
    "result = stats.chi2_contingency(edu_smoke_ctab)\n",
    "\n",
    "print('검정 결과 =', result)\n",
    "print('검정 통계량 = %.3f, p-value = %.3f' % (result[0], result[1]))\n",
    "\n",
    "# 검증결과\n",
    "# 1. p-value = 0.001 < 0.05 이므로 귀무가설 기각\n",
    "# 2. 대립가설 채택 : 교육수준과 흡연정도에는 관련이 있다.\n",
    "#                    독립적이지 않다."
   ]
  },
  {
   "cell_type": "markdown",
   "id": "80ed6a1c-98b1-4416-a8b1-29c98f40f389",
   "metadata": {},
   "source": [
    "### 예시 3 - 국가전체와 지역에 대한 인종 간 인원수의 관련성 검정\n",
    "(2개집단 :국가전체, 특정지역)\n",
    "- 귀무가설 : 국가전체와 지역에 대한 인종 간 인원수는 관련성이 없다.\n",
    "- 대립가설 : 국가전체와 지역에 대한 인종 간 인원수는 관련성이 있다."
   ]
  },
  {
   "cell_type": "code",
   "execution_count": 37,
   "id": "af30bc95-1f72-4379-b046-689cf9839975",
   "metadata": {},
   "outputs": [],
   "source": [
    "# 데이터 생성\n",
    "\n",
    "# 국가전체 데이터 생성\n",
    "national = pd.DataFrame(['white'] * 100000 + ['hispanic'] * 60000 + \n",
    "                        ['black'] * 50000  + ['asian'] * 15000 +\n",
    "                        ['other'] * 35000)"
   ]
  },
  {
   "cell_type": "code",
   "execution_count": 38,
   "id": "e93bf346-d381-4b47-84bd-57ca96bf0baf",
   "metadata": {},
   "outputs": [],
   "source": [
    "# 국가전체 데이터 생성\n",
    "local = pd.DataFrame(['white'] * 600 + ['hispanic'] * 300 + \n",
    "                     ['black'] * 250  + ['asian'] * 75 +\n",
    "                     ['other'] * 150)"
   ]
  },
  {
   "cell_type": "code",
   "execution_count": 51,
   "id": "12bd2e8b-6719-463a-aa48-4b313d2f4d08",
   "metadata": {},
   "outputs": [
    {
     "data": {
      "text/html": [
       "<div>\n",
       "<style scoped>\n",
       "    .dataframe tbody tr th:only-of-type {\n",
       "        vertical-align: middle;\n",
       "    }\n",
       "\n",
       "    .dataframe tbody tr th {\n",
       "        vertical-align: top;\n",
       "    }\n",
       "\n",
       "    .dataframe thead th {\n",
       "        text-align: right;\n",
       "    }\n",
       "</style>\n",
       "<table border=\"1\" class=\"dataframe\">\n",
       "  <thead>\n",
       "    <tr style=\"text-align: right;\">\n",
       "      <th>col_0</th>\n",
       "      <th>count</th>\n",
       "    </tr>\n",
       "    <tr>\n",
       "      <th>0</th>\n",
       "      <th></th>\n",
       "    </tr>\n",
       "  </thead>\n",
       "  <tbody>\n",
       "    <tr>\n",
       "      <th>asian</th>\n",
       "      <td>15000</td>\n",
       "    </tr>\n",
       "    <tr>\n",
       "      <th>black</th>\n",
       "      <td>50000</td>\n",
       "    </tr>\n",
       "    <tr>\n",
       "      <th>hispanic</th>\n",
       "      <td>60000</td>\n",
       "    </tr>\n",
       "    <tr>\n",
       "      <th>other</th>\n",
       "      <td>35000</td>\n",
       "    </tr>\n",
       "    <tr>\n",
       "      <th>white</th>\n",
       "      <td>100000</td>\n",
       "    </tr>\n",
       "  </tbody>\n",
       "</table>\n",
       "</div>"
      ],
      "text/plain": [
       "col_0      count\n",
       "0               \n",
       "asian      15000\n",
       "black      50000\n",
       "hispanic   60000\n",
       "other      35000\n",
       "white     100000"
      ]
     },
     "execution_count": 51,
     "metadata": {},
     "output_type": "execute_result"
    }
   ],
   "source": [
    "# 교차표(빈도분석표) 생성\n",
    "# 국가 교차표\n",
    "national_ctab = pd.crosstab(index= national[0], columns='count')\n",
    "national_ctab"
   ]
  },
  {
   "cell_type": "code",
   "execution_count": 52,
   "id": "33ed2bda-91de-4235-bbe1-c10647c4c592",
   "metadata": {},
   "outputs": [
    {
     "data": {
      "text/html": [
       "<div>\n",
       "<style scoped>\n",
       "    .dataframe tbody tr th:only-of-type {\n",
       "        vertical-align: middle;\n",
       "    }\n",
       "\n",
       "    .dataframe tbody tr th {\n",
       "        vertical-align: top;\n",
       "    }\n",
       "\n",
       "    .dataframe thead th {\n",
       "        text-align: right;\n",
       "    }\n",
       "</style>\n",
       "<table border=\"1\" class=\"dataframe\">\n",
       "  <thead>\n",
       "    <tr style=\"text-align: right;\">\n",
       "      <th>col_0</th>\n",
       "      <th>count</th>\n",
       "    </tr>\n",
       "    <tr>\n",
       "      <th>0</th>\n",
       "      <th></th>\n",
       "    </tr>\n",
       "  </thead>\n",
       "  <tbody>\n",
       "    <tr>\n",
       "      <th>asian</th>\n",
       "      <td>75</td>\n",
       "    </tr>\n",
       "    <tr>\n",
       "      <th>black</th>\n",
       "      <td>250</td>\n",
       "    </tr>\n",
       "    <tr>\n",
       "      <th>hispanic</th>\n",
       "      <td>300</td>\n",
       "    </tr>\n",
       "    <tr>\n",
       "      <th>other</th>\n",
       "      <td>150</td>\n",
       "    </tr>\n",
       "    <tr>\n",
       "      <th>white</th>\n",
       "      <td>600</td>\n",
       "    </tr>\n",
       "  </tbody>\n",
       "</table>\n",
       "</div>"
      ],
      "text/plain": [
       "col_0     count\n",
       "0              \n",
       "asian        75\n",
       "black       250\n",
       "hispanic    300\n",
       "other       150\n",
       "white       600"
      ]
     },
     "execution_count": 52,
     "metadata": {},
     "output_type": "execute_result"
    }
   ],
   "source": [
    "# 지역 교차표\n",
    "local_ctab = pd.crosstab(index= local[0], columns='count')\n",
    "local_ctab"
   ]
  },
  {
   "cell_type": "code",
   "execution_count": 53,
   "id": "b4663296-a5d6-42b6-a2e4-2124a21327f5",
   "metadata": {},
   "outputs": [
    {
     "data": {
      "text/html": [
       "<div>\n",
       "<style scoped>\n",
       "    .dataframe tbody tr th:only-of-type {\n",
       "        vertical-align: middle;\n",
       "    }\n",
       "\n",
       "    .dataframe tbody tr th {\n",
       "        vertical-align: top;\n",
       "    }\n",
       "\n",
       "    .dataframe thead th {\n",
       "        text-align: right;\n",
       "    }\n",
       "</style>\n",
       "<table border=\"1\" class=\"dataframe\">\n",
       "  <thead>\n",
       "    <tr style=\"text-align: right;\">\n",
       "      <th>col_0</th>\n",
       "      <th>count</th>\n",
       "      <th>count_loc</th>\n",
       "    </tr>\n",
       "    <tr>\n",
       "      <th>0</th>\n",
       "      <th></th>\n",
       "      <th></th>\n",
       "    </tr>\n",
       "  </thead>\n",
       "  <tbody>\n",
       "    <tr>\n",
       "      <th>asian</th>\n",
       "      <td>15000</td>\n",
       "      <td>75</td>\n",
       "    </tr>\n",
       "    <tr>\n",
       "      <th>black</th>\n",
       "      <td>50000</td>\n",
       "      <td>250</td>\n",
       "    </tr>\n",
       "    <tr>\n",
       "      <th>hispanic</th>\n",
       "      <td>60000</td>\n",
       "      <td>300</td>\n",
       "    </tr>\n",
       "    <tr>\n",
       "      <th>other</th>\n",
       "      <td>35000</td>\n",
       "      <td>150</td>\n",
       "    </tr>\n",
       "    <tr>\n",
       "      <th>white</th>\n",
       "      <td>100000</td>\n",
       "      <td>600</td>\n",
       "    </tr>\n",
       "  </tbody>\n",
       "</table>\n",
       "</div>"
      ],
      "text/plain": [
       "col_0      count  count_loc\n",
       "0                          \n",
       "asian      15000         75\n",
       "black      50000        250\n",
       "hispanic   60000        300\n",
       "other      35000        150\n",
       "white     100000        600"
      ]
     },
     "execution_count": 53,
     "metadata": {},
     "output_type": "execute_result"
    }
   ],
   "source": [
    "# 데이터 합치기\n",
    "national_ctab['count_loc'] = local_ctab['count']\n",
    "national_ctab"
   ]
  },
  {
   "cell_type": "code",
   "execution_count": 81,
   "id": "73ba133b-5636-494b-b3b4-8549e096a706",
   "metadata": {},
   "outputs": [
    {
     "name": "stdout",
     "output_type": "stream",
     "text": [
      "검정 결과 = (18.099524243141698, 0.0011800326671747886, 4, array([[1.49956958e+04, 7.93041607e+01],\n",
      "       [4.99856528e+04, 2.64347202e+02],\n",
      "       [5.99827834e+04, 3.17216643e+02],\n",
      "       [3.49650885e+04, 1.84911526e+02],\n",
      "       [1.00070780e+05, 5.29220469e+02]]))\n",
      "검정 통계량 = 18.100, p-value = 0.001\n"
     ]
    }
   ],
   "source": [
    "# 검정하기\n",
    "result = stats.chi2_contingency(national_ctab)\n",
    "\n",
    "print('검정 결과 =', result)\n",
    "print('검정 통계량 = %.3f, p-value = %.3f' % (result[0], result[1]))\n",
    "\n",
    "# 검증결과\n",
    "# 1. p-value = 0.001 < 0.05 이므로 귀무가설 기각\n",
    "# 2. 대립가설 채택 : 국가전체와 지역에 대한 인종 간 인원수는 관련성이 있다.\n",
    "#                    독립적이지 않다."
   ]
  },
  {
   "cell_type": "markdown",
   "id": "a3ef5284-1b0b-4d36-bff9-4eaf1698c335",
   "metadata": {},
   "source": [
    "## 이원카이제곱 - 동질성 검정(빈도 or 비율 데이터)\n",
    "### 예시 4 - 교육방법에 따른 교육생들의 만족도 분석\n",
    "(2개집단 : 교육방법, 만족도)\n",
    "- 귀무가설 : 교육방법에 따른 교육생들의 만족도에 차이가 없다.(동질이다)\n",
    "- 대립가설 : 교육방법에 따른 교육생들의 만족도에 차이가 있다.(동질하지 않다)"
   ]
  },
  {
   "cell_type": "code",
   "execution_count": 73,
   "id": "86f134a1-7e6d-4323-adbb-ae8a737df104",
   "metadata": {},
   "outputs": [
    {
     "name": "stdout",
     "output_type": "stream",
     "text": [
      "survey : [1 2 3 4 5]\n",
      "method : [1 2 3]\n"
     ]
    }
   ],
   "source": [
    "# 데이터 생성\n",
    "survey = pd.read_csv('./data/survey_method.csv')\n",
    "\n",
    "# survey(만족도) : 1(매우만족), 2(만족), 3(보통), 4(불만족), 5(매우불만족)\n",
    "print('survey :', survey['survey'].unique())\n",
    "# method(교육방법) : 1(방법1), 2(방법2), 3(방법3)\n",
    "print('method :', survey['method'].unique())"
   ]
  },
  {
   "cell_type": "code",
   "execution_count": 79,
   "id": "4affb84e-814b-4369-a8b6-a297c6fdc14e",
   "metadata": {},
   "outputs": [
    {
     "data": {
      "text/html": [
       "<div>\n",
       "<style scoped>\n",
       "    .dataframe tbody tr th:only-of-type {\n",
       "        vertical-align: middle;\n",
       "    }\n",
       "\n",
       "    .dataframe tbody tr th {\n",
       "        vertical-align: top;\n",
       "    }\n",
       "\n",
       "    .dataframe thead th {\n",
       "        text-align: right;\n",
       "    }\n",
       "</style>\n",
       "<table border=\"1\" class=\"dataframe\">\n",
       "  <thead>\n",
       "    <tr style=\"text-align: right;\">\n",
       "      <th></th>\n",
       "      <th>매우만족</th>\n",
       "      <th>만족</th>\n",
       "      <th>보통</th>\n",
       "      <th>불만족</th>\n",
       "      <th>매우불만족</th>\n",
       "    </tr>\n",
       "  </thead>\n",
       "  <tbody>\n",
       "    <tr>\n",
       "      <th>방법1</th>\n",
       "      <td>5</td>\n",
       "      <td>8</td>\n",
       "      <td>15</td>\n",
       "      <td>16</td>\n",
       "      <td>6</td>\n",
       "    </tr>\n",
       "    <tr>\n",
       "      <th>방법2</th>\n",
       "      <td>8</td>\n",
       "      <td>14</td>\n",
       "      <td>11</td>\n",
       "      <td>11</td>\n",
       "      <td>6</td>\n",
       "    </tr>\n",
       "    <tr>\n",
       "      <th>방법3</th>\n",
       "      <td>8</td>\n",
       "      <td>7</td>\n",
       "      <td>11</td>\n",
       "      <td>15</td>\n",
       "      <td>9</td>\n",
       "    </tr>\n",
       "  </tbody>\n",
       "</table>\n",
       "</div>"
      ],
      "text/plain": [
       "     매우만족  만족  보통  불만족  매우불만족\n",
       "방법1     5   8  15   16      6\n",
       "방법2     8  14  11   11      6\n",
       "방법3     8   7  11   15      9"
      ]
     },
     "execution_count": 79,
     "metadata": {},
     "output_type": "execute_result"
    }
   ],
   "source": [
    "sur_met_ctab = pd.crosstab(index= survey['method'], columns=survey['survey'])\n",
    "sur_met_ctab.index = ['방법1','방법2','방법3']\n",
    "sur_met_ctab.columns = ['매우만족', '만족', '보통', '불만족', '매우불만족']\n",
    "sur_met_ctab"
   ]
  },
  {
   "cell_type": "code",
   "execution_count": 97,
   "id": "94d12cd2-c471-4636-8ddb-1ca5e9c8845c",
   "metadata": {},
   "outputs": [
    {
     "name": "stdout",
     "output_type": "stream",
     "text": [
      "검정 결과 = (6.544667820529891, 0.5864574374550608, 8, array([[ 7.        ,  9.66666667, 12.33333333, 14.        ,  7.        ],\n",
      "       [ 7.        ,  9.66666667, 12.33333333, 14.        ,  7.        ],\n",
      "       [ 7.        ,  9.66666667, 12.33333333, 14.        ,  7.        ]]))\n",
      "검정 통계량 = 6.545, p-value = 0.586\n"
     ]
    }
   ],
   "source": [
    "# 검정하기\n",
    "result = stats.chi2_contingency(sur_met_ctab)\n",
    "\n",
    "print('검정 결과 =', result)\n",
    "print('검정 통계량 = %.3f, p-value = %.3f' % (result[0], result[1]))\n",
    "\n",
    "# 검증결과\n",
    "# 1. p-value = 0.586 > 0.05 이므로 귀무가설 채택\n",
    "# 2. 귀무가설 채택 : 교육방법에 따른 교육생들의 만족도에 차이가 없다.\n",
    "#                    동질이다."
   ]
  },
  {
   "cell_type": "markdown",
   "id": "be645908-9889-421d-967c-30871f183bee",
   "metadata": {},
   "source": [
    "### 예시 5 - 연령대별 SNS 이용률 차이 검정\n",
    "(2개집단 : 연령, SNS이용률)\n",
    "- 귀무가설: 연령대별로 SNS 서비스 이용 현황에 차이가 없다.(동질하다)\n",
    "- 대립가설: 연령대별로 SNS 서비스 이용 현황에 차이가 있다.(동질하지 않다)"
   ]
  },
  {
   "cell_type": "code",
   "execution_count": 91,
   "id": "1df1e858-55f7-4528-947f-41a6ddf37885",
   "metadata": {},
   "outputs": [
    {
     "name": "stdout",
     "output_type": "stream",
     "text": [
      "연령대 : [1 2 3]\n",
      "SNS : ['F' 'T' 'K' 'C' 'E']\n"
     ]
    }
   ],
   "source": [
    "# 데이터 생성\n",
    "sns = pd.read_csv('./data/snsbyage.csv')\n",
    "\n",
    "# age(연령대) : 1(청소년), 2(중년), 3(노년) \n",
    "print('연령대 :', sns['age'].unique())\n",
    "# sevice(SNS서비스)\n",
    "print('SNS :', sns['service'].unique())"
   ]
  },
  {
   "cell_type": "code",
   "execution_count": 93,
   "id": "9df38e8a-37d4-491f-9048-008a3f24bd9a",
   "metadata": {},
   "outputs": [
    {
     "data": {
      "text/html": [
       "<div>\n",
       "<style scoped>\n",
       "    .dataframe tbody tr th:only-of-type {\n",
       "        vertical-align: middle;\n",
       "    }\n",
       "\n",
       "    .dataframe tbody tr th {\n",
       "        vertical-align: top;\n",
       "    }\n",
       "\n",
       "    .dataframe thead th {\n",
       "        text-align: right;\n",
       "    }\n",
       "</style>\n",
       "<table border=\"1\" class=\"dataframe\">\n",
       "  <thead>\n",
       "    <tr style=\"text-align: right;\">\n",
       "      <th>service</th>\n",
       "      <th>C</th>\n",
       "      <th>E</th>\n",
       "      <th>F</th>\n",
       "      <th>K</th>\n",
       "      <th>T</th>\n",
       "    </tr>\n",
       "  </thead>\n",
       "  <tbody>\n",
       "    <tr>\n",
       "      <th>청소년</th>\n",
       "      <td>81</td>\n",
       "      <td>16</td>\n",
       "      <td>207</td>\n",
       "      <td>111</td>\n",
       "      <td>117</td>\n",
       "    </tr>\n",
       "    <tr>\n",
       "      <th>중년</th>\n",
       "      <td>109</td>\n",
       "      <td>15</td>\n",
       "      <td>107</td>\n",
       "      <td>236</td>\n",
       "      <td>104</td>\n",
       "    </tr>\n",
       "    <tr>\n",
       "      <th>노년</th>\n",
       "      <td>32</td>\n",
       "      <td>17</td>\n",
       "      <td>78</td>\n",
       "      <td>133</td>\n",
       "      <td>76</td>\n",
       "    </tr>\n",
       "  </tbody>\n",
       "</table>\n",
       "</div>"
      ],
      "text/plain": [
       "service    C   E    F    K    T\n",
       "청소년       81  16  207  111  117\n",
       "중년       109  15  107  236  104\n",
       "노년        32  17   78  133   76"
      ]
     },
     "execution_count": 93,
     "metadata": {},
     "output_type": "execute_result"
    }
   ],
   "source": [
    "age_sns_ctab = pd.crosstab(index=sns['age'], columns=sns['service'])\n",
    "age_sns_ctab.index = ['청소년','중년','노년']\n",
    "age_sns_ctab"
   ]
  },
  {
   "cell_type": "code",
   "execution_count": 96,
   "id": "6aba4a1c-e6b6-4e52-8334-04367423647d",
   "metadata": {},
   "outputs": [
    {
     "name": "stdout",
     "output_type": "stream",
     "text": [
      "검정 결과 = (102.75202494484225, 1.1679064204212775e-18, 8, array([[ 82.07366227,  17.74565671, 144.9228631 , 177.45656706,\n",
      "        109.80125087],\n",
      "       [ 88.09034051,  19.04656011, 155.54690757, 190.46560111,\n",
      "        117.85059069],\n",
      "       [ 51.83599722,  11.20778318,  91.53022933, 112.07783183,\n",
      "         69.34815844]]))\n",
      "검정 통계량 = 102.752, p-value = 0.000\n"
     ]
    }
   ],
   "source": [
    "# 검정하기\n",
    "result = stats.chi2_contingency(age_sns_ctab)\n",
    "\n",
    "print('검정 결과 =', result)\n",
    "print('검정 통계량 = %.3f, p-value = %.3f' % (result[0], result[1]))\n",
    "\n",
    "# 검증결과\n",
    "# 1. p-value = 0.000 < 0.05 이므로 귀무가설 기각\n",
    "# 2. 대립가설 채택 : 연령대별로 SNS 서비스 이용 현황에 차이가 있다.\n",
    "#                    동질하지 않다."
   ]
  },
  {
   "cell_type": "code",
   "execution_count": null,
   "id": "55c8565c-8e42-4d0f-8ed7-df41772459ff",
   "metadata": {},
   "outputs": [],
   "source": []
  }
 ],
 "metadata": {
  "kernelspec": {
   "display_name": "Python 3 (ipykernel)",
   "language": "python",
   "name": "python3"
  },
  "language_info": {
   "codemirror_mode": {
    "name": "ipython",
    "version": 3
   },
   "file_extension": ".py",
   "mimetype": "text/x-python",
   "name": "python",
   "nbconvert_exporter": "python",
   "pygments_lexer": "ipython3",
   "version": "3.9.12"
  }
 },
 "nbformat": 4,
 "nbformat_minor": 5
}
