{
 "cells": [
  {
   "cell_type": "markdown",
   "metadata": {},
   "source": [
    "### 1번문제\n",
    "반지름 값을 입력받아 원의 넓이를 구하여 출력하는 프로그램을 구현하세요.<br>\n",
    "파이는 3.141592 입니다."
   ]
  },
  {
   "cell_type": "code",
   "execution_count": 64,
   "metadata": {},
   "outputs": [
    {
     "name": "stdout",
     "output_type": "stream",
     "text": [
      "---원 넓이 계산기 프로그램 v1.1---\n",
      "입력하신 원의 반지름은 50.0입니다.\n",
      "원의 넓이는 493.4800147232001입니다.\n",
      "---원 넓이 계산기 프로그램 종료---\n"
     ]
    }
   ],
   "source": [
    "# 1번문제\n",
    "print('---원 넓이 계산기 프로그램 v1.1---')\n",
    "\n",
    "radius = float(input(\"반지름을 입력하세요:\"))\n",
    "#if a != type == float:\n",
    "    #print('숫자를 입력하세요')\n",
    "area = radius * 3.141592 ** 2\n",
    "\n",
    "print('입력하신 원의 반지름은',f'{radius}입니다.')\n",
    "print('원의 넓이는',f'{area}입니다.')\n",
    "print('---원 넓이 계산기 프로그램 종료---')"
   ]
  },
  {
   "cell_type": "markdown",
   "metadata": {},
   "source": [
    "### 2번문제\n",
    "태양계는 수성, 금성, 지구, 화성, 목성, 토성, 천왕성, 혜왕성, 명왕성으로 구성됩니다.<br>\n",
    "영어이름은 Mercury, Venus, Earth, Mars, Jupiter,  Saturn, Uranus, Neptune 입니다.<br>\n",
    "행성의 한글이름을 입력하면 영어행성명이 출력되는 프로그램을 구현하세요."
   ]
  },
  {
   "cell_type": "code",
   "execution_count": 59,
   "metadata": {},
   "outputs": [
    {
     "name": "stdout",
     "output_type": "stream",
     "text": [
      "---행성 영문이름 찾기 프로그램 v1.2---\n",
      "입력하신 행성은 금성 입니다.\n",
      "입력하신 행성의 영문이름은 Venus 입니다.\n",
      "---행성 영문이름 찾기 프로그램 종료---\n"
     ]
    }
   ],
   "source": [
    "# 2번문제\n",
    "print('---행성 영문이름 찾기 프로그램 v1.2---')\n",
    "\n",
    "dic = {'수성':'Mercury', '금성':'Venus', '지구':'Earth', '화성':'Mars',\n",
    "       '목성':'Jupiter', '토성':'Saturn', '천왕성':'Uranus', '혜왕성':'Neptune '}\n",
    "name = input('찾으실 행성의 한글이름을 입력하세요.')\n",
    "\n",
    "print('입력하신 행성은', f'{name}', '입니다.')\n",
    "print('입력하신 행성의 영문이름은', f'{dic[name]}', '입니다.')\n",
    "print('---행성 영문이름 찾기 프로그램 종료---')"
   ]
  },
  {
   "cell_type": "markdown",
   "metadata": {},
   "source": [
    "### 3번문제\n",
    "입력한 한글 문자열의 단어의 수를 출력하는 프로그램을 구현하세요.<br>\n",
    "예) 흐르는 강물을 거꾸로 거슬러 오르는 연어들의 = 6  "
   ]
  },
  {
   "cell_type": "code",
   "execution_count": 60,
   "metadata": {},
   "outputs": [
    {
     "name": "stdout",
     "output_type": "stream",
     "text": [
      "---단어 갯수 계산 프로그램 v1.3---\n",
      "입력하신 단어들은 ['하나', '둘', '셋', '넷'] 입니다.\n",
      "입력하신 단어의 수는 4개 입니다.\n",
      "---단어 갯수 계산 프로그램 종료---\n"
     ]
    }
   ],
   "source": [
    "# 3번문제\n",
    "print('---단어 갯수 계산 프로그램 v1.3---')\n",
    "\n",
    "word = list(input('여러 단어를 입력하세요.(구분자는 /)').split('/'))\n",
    "\n",
    "print('입력하신 단어들은', f'{word}', '입니다.')\n",
    "print('입력하신 단어의 수는', f'{len(word)}개', '입니다.')\n",
    "print('---단어 갯수 계산 프로그램 종료---')"
   ]
  },
  {
   "cell_type": "markdown",
   "metadata": {},
   "source": [
    "### 4번문제\n",
    "입력한 수를 거꾸로 출력하는 프로그램을 구현하세요.<br>\n",
    "예) 1 4 5 9 2 --> 2 9 5 4 1  (exam04.py)"
   ]
  },
  {
   "cell_type": "code",
   "execution_count": 61,
   "metadata": {},
   "outputs": [
    {
     "name": "stdout",
     "output_type": "stream",
     "text": [
      "---숫자 역순 변환 프로그램 v1.4---\n",
      "입력한 숫자의 역순은 987654321 입니다.\n",
      "---숫자 역순 변환 프로그램 종료---\n"
     ]
    }
   ],
   "source": [
    "# 4번문제\n",
    "print('---숫자 역순 변환 프로그램 v1.4---')\n",
    "\n",
    "i = int(input('역순으로 출력할 숫자를 입력하세요.'))\n",
    "\n",
    "print('입력한 숫자의 역순은', f'{int(str(i)[::-1])}', '입니다.')\n",
    "print('---숫자 역순 변환 프로그램 종료---')"
   ]
  },
  {
   "cell_type": "markdown",
   "metadata": {},
   "source": [
    "### 5번 문제\n",
    "구구단을 수행할 단번호를 입력하면 그 단의 9까지의 결과를 나열하는 프로그램을 입력하세요.<br>\n",
    "예) 3 --> 3 6 9 12 15 18 21 24 27"
   ]
  },
  {
   "cell_type": "code",
   "execution_count": 63,
   "metadata": {},
   "outputs": [
    {
     "name": "stdout",
     "output_type": "stream",
     "text": [
      "---구구단 프로그램 v1.5---\n",
      "[7단 시작]\n",
      "7*1= 7 \n",
      "7*2=14 \n",
      "7*3=21 \n",
      "7*4=28 \n",
      "7*5=35 \n",
      "7*6=42 \n",
      "7*7=49 \n",
      "7*8=56 \n",
      "7*9=63 \n",
      "---구구단 프로그램 종료---\n"
     ]
    }
   ],
   "source": [
    "# 5번문제\n",
    "print('---구구단 프로그램 v1.5---')\n",
    "x = int(input('수행할 구구단의 숫자를 입력하세요.'))\n",
    "print(f'[{x}단 시작]')\n",
    "for y in range(1, 10):\n",
    "    print(f'{x}*{y}={x*y:2d}',end=' ')\n",
    "    print()\n",
    "print('---구구단 프로그램 종료---')"
   ]
  }
 ],
 "metadata": {
  "interpreter": {
   "hash": "38ae1ba9371524da054e8e3fbefd778d16b5a8ac7937a3f395010f627bb73919"
  },
  "kernelspec": {
   "display_name": "Python 3.9.12 64-bit",
   "language": "python",
   "name": "python3"
  },
  "language_info": {
   "codemirror_mode": {
    "name": "ipython",
    "version": 3
   },
   "file_extension": ".py",
   "mimetype": "text/x-python",
   "name": "python",
   "nbconvert_exporter": "python",
   "pygments_lexer": "ipython3",
   "version": "3.9.12"
  },
  "orig_nbformat": 4
 },
 "nbformat": 4,
 "nbformat_minor": 2
}
