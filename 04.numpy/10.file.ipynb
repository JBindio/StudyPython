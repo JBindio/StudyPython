{
 "cells": [
  {
   "cell_type": "code",
   "execution_count": 1,
   "id": "0afc49ae",
   "metadata": {},
   "outputs": [],
   "source": [
    "import numpy as np"
   ]
  },
  {
   "cell_type": "markdown",
   "id": "80f25fba",
   "metadata": {},
   "source": [
    "#### 파일 입출력"
   ]
  },
  {
   "cell_type": "code",
   "execution_count": 5,
   "id": "642132b8",
   "metadata": {},
   "outputs": [
    {
     "name": "stdout",
     "output_type": "stream",
     "text": [
      "[[ 0.70396975  0.58308879 -1.16107468 -1.09363928  0.27499765]\n",
      " [ 0.90470207 -0.01679377  0.94446354 -0.09912007  0.02291036]\n",
      " [ 1.52559177  0.35213229  0.35259221  1.14007051  1.00487808]]\n"
     ]
    }
   ],
   "source": [
    "n = np.random.randn(3,5)\n",
    "print(n)\n",
    "n.tofile('C:/STUDY/StudyPython/04.numpy/file/n.npy')"
   ]
  },
  {
   "cell_type": "code",
   "execution_count": 8,
   "id": "4171287f",
   "metadata": {},
   "outputs": [
    {
     "name": "stdout",
     "output_type": "stream",
     "text": [
      "[[ 0.70396975  0.58308879 -1.16107468 -1.09363928  0.27499765]\n",
      " [ 0.90470207 -0.01679377  0.94446354 -0.09912007  0.02291036]\n",
      " [ 1.52559177  0.35213229  0.35259221  1.14007051  1.00487808]]\n"
     ]
    }
   ],
   "source": [
    "m = np.fromfile('./file/n.npy').reshape(3,5)\n",
    "print(m)"
   ]
  },
  {
   "cell_type": "code",
   "execution_count": 12,
   "id": "0868eef2",
   "metadata": {},
   "outputs": [
    {
     "name": "stdout",
     "output_type": "stream",
     "text": [
      "[[ 0.70396975  0.58308879 -1.16107468 -1.09363928  0.27499765]\n",
      " [ 0.90470207 -0.01679377  0.94446354 -0.09912007  0.02291036]\n",
      " [ 1.52559177  0.35213229  0.35259221  1.14007051  1.00487808]]\n"
     ]
    }
   ],
   "source": [
    "# save, load - 파일 저장/불러오기\n",
    "np.save('./file/n1.npy',n)\n",
    "m1 = np.load('./file/n1.npy')\n",
    "print(m1)"
   ]
  }
 ],
 "metadata": {
  "interpreter": {
   "hash": "38ae1ba9371524da054e8e3fbefd778d16b5a8ac7937a3f395010f627bb73919"
  },
  "kernelspec": {
   "display_name": "Python 3 (ipykernel)",
   "language": "python",
   "name": "python3"
  },
  "language_info": {
   "codemirror_mode": {
    "name": "ipython",
    "version": 3
   },
   "file_extension": ".py",
   "mimetype": "text/x-python",
   "name": "python",
   "nbconvert_exporter": "python",
   "pygments_lexer": "ipython3",
   "version": "3.9.12"
  }
 },
 "nbformat": 4,
 "nbformat_minor": 5
}
