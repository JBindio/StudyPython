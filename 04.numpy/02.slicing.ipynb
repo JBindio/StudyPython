{
 "cells": [
  {
   "cell_type": "markdown",
   "id": "db07ae39",
   "metadata": {},
   "source": [
    "#### 슬라이싱"
   ]
  },
  {
   "cell_type": "code",
   "execution_count": 2,
   "id": "e3fb441d",
   "metadata": {},
   "outputs": [],
   "source": [
    "import numpy as np"
   ]
  },
  {
   "cell_type": "code",
   "execution_count": 4,
   "id": "d23a8287",
   "metadata": {},
   "outputs": [],
   "source": [
    "matirx = np.array([[1,2,3,4,5],\n",
    "                  [6,7,8,9,10],\n",
    "                  [11,12,13,14,15],\n",
    "                  [16,17,18,19,20]])"
   ]
  },
  {
   "cell_type": "code",
   "execution_count": 9,
   "id": "a3cde050",
   "metadata": {},
   "outputs": [
    {
     "name": "stdout",
     "output_type": "stream",
     "text": [
      "[ 1  6 11 16]\n"
     ]
    }
   ],
   "source": [
    "# 0열 전체 슬라이싱print(matirx[:,0])"
   ]
  },
  {
   "cell_type": "code",
   "execution_count": 22,
   "id": "6a3b9d2c",
   "metadata": {},
   "outputs": [
    {
     "name": "stdout",
     "output_type": "stream",
     "text": [
      "[[ 1]\n",
      " [ 6]\n",
      " [11]\n",
      " [16]]\n",
      "[[ 1]\n",
      " [ 6]\n",
      " [11]\n",
      " [16]]\n"
     ]
    }
   ],
   "source": [
    "# 0열 전체 슬라이싱 (2차원 유지)\n",
    "print(matirx[:,[0]])\n",
    "print(matirx[:,:1])"
   ]
  },
  {
   "cell_type": "code",
   "execution_count": 17,
   "id": "778c3680",
   "metadata": {},
   "outputs": [
    {
     "name": "stdout",
     "output_type": "stream",
     "text": [
      "[ 6  7  8  9 10]\n",
      "[ 6  7  8  9 10]\n"
     ]
    }
   ],
   "source": [
    "# 1행 전체 슬라이싱\n",
    "print(matirx[1,:])\n",
    "print(matirx[1])\n"
   ]
  },
  {
   "cell_type": "code",
   "execution_count": 20,
   "id": "c1ee4f63",
   "metadata": {},
   "outputs": [
    {
     "name": "stdout",
     "output_type": "stream",
     "text": [
      "[[ 6  7  8  9 10]]\n",
      "[[ 6  7  8  9 10]]\n"
     ]
    }
   ],
   "source": [
    "# 1행 전체 슬라이싱(2차원 유지)\n",
    "print(matirx[[1]])\n",
    "print(matirx[1:2,:])\n"
   ]
  },
  {
   "cell_type": "code",
   "execution_count": 24,
   "id": "9fc9a9b0",
   "metadata": {},
   "outputs": [
    {
     "name": "stdout",
     "output_type": "stream",
     "text": [
      "[[ 4  5]\n",
      " [ 9 10]\n",
      " [14 15]\n",
      " [19 20]]\n"
     ]
    }
   ],
   "source": [
    "# 3,4열 전체 슬라이싱\n",
    "print(matirx[:,3:])\n"
   ]
  },
  {
   "cell_type": "code",
   "execution_count": 30,
   "id": "08f0ceb4",
   "metadata": {},
   "outputs": [
    {
     "name": "stdout",
     "output_type": "stream",
     "text": [
      "[2 3 4]\n",
      "[2 3 4]\n"
     ]
    }
   ],
   "source": [
    "# 0행 1-3열 슬라이싱\n",
    "print(matirx[0,1:4])\n",
    "print(matirx[0,1:-1])\n"
   ]
  },
  {
   "cell_type": "code",
   "execution_count": 31,
   "id": "2a6a8f42",
   "metadata": {},
   "outputs": [
    {
     "name": "stdout",
     "output_type": "stream",
     "text": [
      "[[13 14 15]\n",
      " [18 19 20]]\n"
     ]
    }
   ],
   "source": [
    "# 2-3행, 2-4열 슬라이싱\n",
    "print(matirx[2:4,2:])\n"
   ]
  },
  {
   "cell_type": "code",
   "execution_count": 32,
   "id": "76e7fea5",
   "metadata": {},
   "outputs": [
    {
     "name": "stdout",
     "output_type": "stream",
     "text": [
      "[[ 7  8]\n",
      " [12 13]]\n"
     ]
    }
   ],
   "source": [
    "# 1-2행, 1-2열 슬라이싱\n",
    "print(matirx[1:3,1:3])\n"
   ]
  },
  {
   "cell_type": "markdown",
   "id": "3511fe41",
   "metadata": {},
   "source": [
    "#### 인덱싱 + 슬라이싱"
   ]
  },
  {
   "cell_type": "code",
   "execution_count": 33,
   "id": "45540a3b",
   "metadata": {},
   "outputs": [
    {
     "name": "stdout",
     "output_type": "stream",
     "text": [
      "[[ 8  9 10]\n",
      " [18 19 20]]\n"
     ]
    }
   ],
   "source": [
    "# 1,3행, 2-4열 슬라이싱\n",
    "print(matirx[[1,3],2:])\n"
   ]
  },
  {
   "cell_type": "code",
   "execution_count": 35,
   "id": "6b3a3210",
   "metadata": {},
   "outputs": [
    {
     "name": "stdout",
     "output_type": "stream",
     "text": [
      "[[ 7  9]\n",
      " [12 14]]\n"
     ]
    }
   ],
   "source": [
    "# 1-2행, 1,3열 슬라이싱\n",
    "print(matirx[1:3,[1,3]])\n"
   ]
  },
  {
   "cell_type": "code",
   "execution_count": 41,
   "id": "948298fd",
   "metadata": {},
   "outputs": [
    {
     "name": "stdout",
     "output_type": "stream",
     "text": [
      "[[[ 1  2  3]\n",
      "  [ 4  5  6]]\n",
      "\n",
      " [[ 7  8  9]\n",
      "  [10 11 12]]]\n"
     ]
    }
   ],
   "source": [
    "tensor = np.array([[[1,2,3],\n",
    "                    [4,5,6]],\n",
    "                    [[7,8,9],\n",
    "                     [10,11,12]]])\n",
    "print(tensor)"
   ]
  },
  {
   "cell_type": "code",
   "execution_count": 82,
   "metadata": {},
   "outputs": [
    {
     "name": "stdout",
     "output_type": "stream",
     "text": [
      "[10  2  6]\n"
     ]
    }
   ],
   "source": [
    "# 10, 2, 6 배열 추출\n",
    "print(tensor[[1,0,0],[1,0,1],[0,1,2]])\n",
    "            #  차원     행      열"
   ]
  },
  {
   "cell_type": "code",
   "execution_count": 84,
   "metadata": {},
   "outputs": [
    {
     "name": "stdout",
     "output_type": "stream",
     "text": [
      "[[1 2]\n",
      " [4 5]]\n",
      "[ 9 12]\n"
     ]
    }
   ],
   "source": [
    "# [[1,2,   , [9,12] 추출\n",
    "#   4,5]]\n",
    "print(tensor[0,:2,:-1])\n",
    "print(tensor[1,:,2])"
   ]
  }
 ],
 "metadata": {
  "interpreter": {
   "hash": "38ae1ba9371524da054e8e3fbefd778d16b5a8ac7937a3f395010f627bb73919"
  },
  "kernelspec": {
   "display_name": "Python 3 (ipykernel)",
   "language": "python",
   "name": "python3"
  },
  "language_info": {
   "codemirror_mode": {
    "name": "ipython",
    "version": 3
   },
   "file_extension": ".py",
   "mimetype": "text/x-python",
   "name": "python",
   "nbconvert_exporter": "python",
   "pygments_lexer": "ipython3",
   "version": "3.9.12"
  }
 },
 "nbformat": 4,
 "nbformat_minor": 5
}
