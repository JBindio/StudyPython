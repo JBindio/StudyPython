{
 "cells": [
  {
   "cell_type": "markdown",
   "id": "d892aa21",
   "metadata": {},
   "source": [
    "#### 인덱싱"
   ]
  },
  {
   "cell_type": "code",
   "execution_count": null,
   "id": "0e662099",
   "metadata": {},
   "outputs": [
    {
     "name": "stdout",
     "output_type": "stream",
     "text": [
      "1\n",
      "4\n",
      "7\n"
     ]
    }
   ],
   "source": [
    "list1 = [[[1,2],[3,4]],[[5,6],[7,8]]]\n",
    "print(list1[0][0][0])\n",
    "print(list1[0][1][1])\n",
    "print(list1[1][1][0])"
   ]
  },
  {
   "cell_type": "code",
   "execution_count": null,
   "id": "dc998831",
   "metadata": {},
   "outputs": [
    {
     "name": "stdout",
     "output_type": "stream",
     "text": [
      "1\n",
      "4\n",
      "7\n"
     ]
    }
   ],
   "source": [
    "arr1 = np.array([[[1,2],[3,4]],[[5,6],[7,8]]])\n",
    "print(arr1[0][0][0])\n",
    "print(arr1[0][1][1])\n",
    "print(arr1[1][1][0])"
   ]
  },
  {
   "cell_type": "code",
   "execution_count": null,
   "id": "481d3687",
   "metadata": {},
   "outputs": [
    {
     "name": "stdout",
     "output_type": "stream",
     "text": [
      "1\n",
      "4\n",
      "7\n"
     ]
    }
   ],
   "source": [
    "arr1 = np.array([[[1,2],[3,4]],[[5,6],[7,8]]])\n",
    "print(arr1[0,0,0])\n",
    "print(arr1[0,1,1])\n",
    "print(arr1[1,1,0])"
   ]
  },
  {
   "cell_type": "code",
   "execution_count": null,
   "id": "95d100d6",
   "metadata": {},
   "outputs": [
    {
     "name": "stdout",
     "output_type": "stream",
     "text": [
      "[[1 2]]\n",
      "[[1 2]\n",
      " [5 6]]\n",
      "[1 4 5]\n",
      "[2 2]\n"
     ]
    }
   ],
   "source": [
    "arr1 = np.array(\n",
    "                [[1,2],\n",
    "                 [3,4],\n",
    "                 [5,6]])\n",
    "# 0행 가져와 2차원 배열 만들기\n",
    "print(arr1[[0]])\n",
    "# 0, 2행 가져와 2차원 배열 만들기\n",
    "print(arr1[[0,2]])\n",
    "# 1,4,5 가지고오기\n",
    "print(arr1[[0,1,2],[0,1,0]])\n",
    "# 같은 위치 데이터 여러번 사용가능\n",
    "print(arr1[[0,0],[1,1]])"
   ]
  },
  {
   "cell_type": "code",
   "execution_count": null,
   "id": "c89c3ae0",
   "metadata": {},
   "outputs": [
    {
     "name": "stdout",
     "output_type": "stream",
     "text": [
      "[ 1  6  7 11]\n"
     ]
    }
   ],
   "source": [
    "arr2 = np.array([[1,2,3],\n",
    "                 [4,5,6],\n",
    "                 [7,8,9],\n",
    "                 [10,11,12]])\n",
    "\n",
    "b = np.array([0,1,2,3])\n",
    "c = np.array([0,2,0,1])\n",
    "\n",
    "# 다음 코드의 실행결과는?\n",
    "print(arr2[b,c])"
   ]
  },
  {
   "cell_type": "markdown",
   "id": "cd290d0d",
   "metadata": {},
   "source": [
    "### Boolean 인덱싱"
   ]
  },
  {
   "cell_type": "code",
   "execution_count": 2,
   "id": "580f9ea5",
   "metadata": {},
   "outputs": [],
   "source": [
    "import numpy as np"
   ]
  },
  {
   "cell_type": "code",
   "execution_count": 25,
   "id": "9ec4ff7f",
   "metadata": {},
   "outputs": [
    {
     "name": "stdout",
     "output_type": "stream",
     "text": [
      "[1 3 4]\n",
      "[4 5]\n"
     ]
    }
   ],
   "source": [
    "arr1 = np.array([1,2,3,4,5])\n",
    "\n",
    "print(arr1[[True,False,True,True,False]])\n",
    "print(arr1[arr1 > 3])"
   ]
  },
  {
   "cell_type": "code",
   "execution_count": 24,
   "id": "ed343d6e",
   "metadata": {},
   "outputs": [
    {
     "name": "stdout",
     "output_type": "stream",
     "text": [
      "[91 93]\n",
      "[96 91]\n"
     ]
    }
   ],
   "source": [
    "score = np.array([[78, 91, 84, 89, 93, 65],\n",
    "                  [82, 87, 96, 79, 91, 73]])\n",
    "print(score[0][(score[0] >= 90)])\n",
    "print(score[1][(score[1] >= 90)])"
   ]
  }
 ],
 "metadata": {
  "interpreter": {
   "hash": "38ae1ba9371524da054e8e3fbefd778d16b5a8ac7937a3f395010f627bb73919"
  },
  "kernelspec": {
   "display_name": "Python 3 (ipykernel)",
   "language": "python",
   "name": "python3"
  },
  "language_info": {
   "codemirror_mode": {
    "name": "ipython",
    "version": 3
   },
   "file_extension": ".py",
   "mimetype": "text/x-python",
   "name": "python",
   "nbconvert_exporter": "python",
   "pygments_lexer": "ipython3",
   "version": "3.9.12"
  }
 },
 "nbformat": 4,
 "nbformat_minor": 5
}
