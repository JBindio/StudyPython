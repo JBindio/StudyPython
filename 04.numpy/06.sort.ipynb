{
 "cells": [
  {
   "cell_type": "code",
   "execution_count": 1,
   "id": "0afc49ae",
   "metadata": {},
   "outputs": [],
   "source": [
    "import numpy as np"
   ]
  },
  {
   "cell_type": "markdown",
   "id": "1c2c7c4d",
   "metadata": {},
   "source": [
    "#### 배열정렬(Sort)"
   ]
  },
  {
   "cell_type": "code",
   "execution_count": 11,
   "id": "fcd81b72",
   "metadata": {},
   "outputs": [
    {
     "name": "stdout",
     "output_type": "stream",
     "text": [
      "[38 19 37 88 50]\n",
      "오름차순 정렬\n",
      " [19 37 38 50 88]\n",
      "내림차순 정렬\n",
      " [88 50 38 37 19]\n"
     ]
    }
   ],
   "source": [
    "vector = np.array([np.random.randint(1,100)\n",
    "                   for n in range(5)])\n",
    "print(vector)\n",
    "print('오름차순 정렬\\n',np.sort(vector)) # 오름차순 정렬\n",
    "print('내림차순 정렬\\n',np.sort(vector)[::-1]) # 내림차순 정렬"
   ]
  },
  {
   "cell_type": "code",
   "execution_count": 29,
   "id": "68f5ae89",
   "metadata": {},
   "outputs": [
    {
     "name": "stdout",
     "output_type": "stream",
     "text": [
      "[1, 2, 3, 4, 5]\n"
     ]
    },
    {
     "data": {
      "text/plain": [
       "[3, 9, 15, 21, 27]"
      ]
     },
     "execution_count": 29,
     "metadata": {},
     "output_type": "execute_result"
    }
   ],
   "source": [
    "# for문 복습\n",
    "# 리스트 a에 1~5 넣기\n",
    "a = []\n",
    "for i in range(1,6):\n",
    "    a.append(i)\n",
    "print(a)\n",
    "\n",
    "# 다른방법\n",
    "[i for i in range(1,6)]\n",
    "\n",
    "# 활용\n",
    "list1 = list(range(1,11))\n",
    "list2 = [num * 3 for num in list1 if num % 2 == 1]\n",
    "list2"
   ]
  },
  {
   "cell_type": "code",
   "execution_count": 39,
   "id": "2ca91dfd",
   "metadata": {},
   "outputs": [
    {
     "name": "stdout",
     "output_type": "stream",
     "text": [
      "[[89 43 39 72 21]\n",
      " [10 82  2 99 99]\n",
      " [98 60 15 61 66]\n",
      " [30 12 90 85 94]]\n",
      "\n",
      "열 기준 오름차순 정렬\n",
      " [[21 39 43 72 89]\n",
      " [ 2 10 82 99 99]\n",
      " [15 60 61 66 98]\n",
      " [12 30 85 90 94]]\n",
      "행 기준 오름차순 정렬\n",
      " [[10 12  2 61 21]\n",
      " [30 43 15 72 66]\n",
      " [89 60 39 85 94]\n",
      " [98 82 90 99 99]]\n",
      "\n",
      "열 기준 내림차순 정렬\n",
      " [[12 30 85 90 94]\n",
      " [15 60 61 66 98]\n",
      " [ 2 10 82 99 99]\n",
      " [21 39 43 72 89]]\n",
      "행 기준 내림차순 정렬\n",
      " [[98 82 90 99 99]\n",
      " [89 60 39 85 94]\n",
      " [30 43 15 72 66]\n",
      " [10 12  2 61 21]]\n"
     ]
    }
   ],
   "source": [
    "matrix = np.array([np.random.randint(1,100)\n",
    "                   for n in range(20)]).reshape(4,5)\n",
    "print(matrix)\n",
    "print()\n",
    "print('열 기준 오름차순 정렬\\n',np.sort(matrix)) # 열 기준 오름차순 정렬\n",
    "print('행 기준 오름차순 정렬\\n',np.sort(matrix,axis=0)) # 행 기준 오름차순 정렬\n",
    "print()\n",
    "print('열 기준 내림차순 정렬\\n',np.sort(matrix)[::-1]) # 열 기준내림차순 정렬\n",
    "print('행 기준 내림차순 정렬\\n',np.sort(matrix,axis=0)[::-1]) # 행 기준 내림차순 정렬"
   ]
  }
 ],
 "metadata": {
  "interpreter": {
   "hash": "38ae1ba9371524da054e8e3fbefd778d16b5a8ac7937a3f395010f627bb73919"
  },
  "kernelspec": {
   "display_name": "Python 3 (ipykernel)",
   "language": "python",
   "name": "python3"
  },
  "language_info": {
   "codemirror_mode": {
    "name": "ipython",
    "version": 3
   },
   "file_extension": ".py",
   "mimetype": "text/x-python",
   "name": "python",
   "nbconvert_exporter": "python",
   "pygments_lexer": "ipython3",
   "version": "3.9.12"
  }
 },
 "nbformat": 4,
 "nbformat_minor": 5
}
