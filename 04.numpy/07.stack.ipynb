{
 "cells": [
  {
   "cell_type": "code",
   "execution_count": 2,
   "id": "0afc49ae",
   "metadata": {},
   "outputs": [],
   "source": [
    "import numpy as np"
   ]
  },
  {
   "cell_type": "markdown",
   "id": "4a8f17db",
   "metadata": {},
   "source": [
    "#### 배열 수직 합치기(Vstack)"
   ]
  },
  {
   "cell_type": "code",
   "execution_count": 3,
   "id": "dee892bc",
   "metadata": {},
   "outputs": [
    {
     "name": "stdout",
     "output_type": "stream",
     "text": [
      "[[1 2 3]\n",
      " [4 5 6]]\n"
     ]
    }
   ],
   "source": [
    "vector1 = [1,2,3]\n",
    "vector2 = [4,5,6]\n",
    "print(np.vstack([vector1, vector2]))"
   ]
  },
  {
   "cell_type": "markdown",
   "id": "37d34982",
   "metadata": {},
   "source": [
    "#### 배열 수평 합치기(Hstack)"
   ]
  },
  {
   "cell_type": "code",
   "execution_count": 4,
   "id": "5aaf34e7",
   "metadata": {},
   "outputs": [
    {
     "name": "stdout",
     "output_type": "stream",
     "text": [
      "[[1 4]\n",
      " [2 5]\n",
      " [3 6]]\n"
     ]
    }
   ],
   "source": [
    "vector1 = np.array([1,2,3]).reshape(3,1)\n",
    "vector2 = np.array([4,5,6]).reshape(3,1)\n",
    "\n",
    "print(np.hstack([vector1, vector2]))"
   ]
  },
  {
   "cell_type": "markdown",
   "id": "1f1976b7",
   "metadata": {},
   "source": [
    "#### 배열 합치기 (Concatenate)"
   ]
  },
  {
   "cell_type": "code",
   "execution_count": 5,
   "id": "feefe740",
   "metadata": {},
   "outputs": [
    {
     "name": "stdout",
     "output_type": "stream",
     "text": [
      "[1 2 3 4 5 6]\n"
     ]
    }
   ],
   "source": [
    "vector1 = np.array([1,2,3])\n",
    "vector2 = np.array([4,5,6])\n",
    "print(np.concatenate([vector1, vector2],axis=0))"
   ]
  },
  {
   "cell_type": "code",
   "execution_count": 6,
   "id": "92af59a6",
   "metadata": {},
   "outputs": [
    {
     "name": "stdout",
     "output_type": "stream",
     "text": [
      "수직 합치기\n",
      " [[1]\n",
      " [2]\n",
      " [3]\n",
      " [4]\n",
      " [5]\n",
      " [6]]\n",
      "\n",
      "수평 합치기\n",
      " [[1 4]\n",
      " [2 5]\n",
      " [3 6]]\n"
     ]
    }
   ],
   "source": [
    "vector1 = np.array([1,2,3]).reshape(3,1)\n",
    "vector2 = np.array([4,5,6]).reshape(3,1)\n",
    "print('수직 합치기\\n',np.concatenate([vector1, vector2],axis=0))\n",
    "print()\n",
    "print('수평 합치기\\n',np.concatenate([vector1, vector2],axis=1))"
   ]
  },
  {
   "cell_type": "code",
   "execution_count": 7,
   "id": "feefe740",
   "metadata": {},
   "outputs": [
    {
     "name": "stdout",
     "output_type": "stream",
     "text": [
      "[[1 2 4]\n",
      " [3 1 5]\n",
      " [2 3 6]]\n"
     ]
    }
   ],
   "source": [
    "# 2차원 + 1차원\n",
    "matrix = np.array([[1,2,3],[1,2,3]]).reshape(3,2)\n",
    "vector = np.array([4,5,6]).reshape(3,1)\n",
    "print(np.concatenate([matrix, vector],axis=1))"
   ]
  },
  {
   "cell_type": "code",
   "execution_count": 8,
   "id": "f24020b8",
   "metadata": {},
   "outputs": [
    {
     "name": "stdout",
     "output_type": "stream",
     "text": [
      "수직 합치기\n",
      " [[1 2]\n",
      " [3 4]\n",
      " [5 6]\n",
      " [7 8]]\n",
      "\n",
      "수평 합치기\n",
      " [[1 2 5 6]\n",
      " [3 4 7 8]]\n"
     ]
    }
   ],
   "source": [
    "matrix1 = np.arange(1,5).reshape(2,2)\n",
    "matrix2 = np.arange(5,9).reshape(2,2)\n",
    "print('수직 합치기\\n', np.concatenate([matrix1,matrix2],axis=0))\n",
    "print()\n",
    "print('수평 합치기\\n', np.concatenate([matrix1,matrix2],axis=1))"
   ]
  },
  {
   "cell_type": "markdown",
   "id": "05648d04",
   "metadata": {},
   "source": [
    "####  Transpose - 행, 열 위치변경"
   ]
  },
  {
   "cell_type": "code",
   "execution_count": 10,
   "id": "1e97a0a9",
   "metadata": {},
   "outputs": [
    {
     "name": "stdout",
     "output_type": "stream",
     "text": [
      "[[5]\n",
      " [6]]\n",
      "[[5]\n",
      " [6]]\n",
      "(1, 2) (2, 1)\n"
     ]
    }
   ],
   "source": [
    "matrix3 = np.array([[5,6]])\n",
    "print(matrix3.transpose())\n",
    "print(matrix3.T)\n",
    "print(matrix3.shape, matrix3.transpose().shape)\n"
   ]
  },
  {
   "cell_type": "markdown",
   "id": "f660da52",
   "metadata": {},
   "source": [
    "#### Transpose + Concatenate"
   ]
  },
  {
   "cell_type": "code",
   "execution_count": 15,
   "id": "c82685e2",
   "metadata": {},
   "outputs": [
    {
     "name": "stdout",
     "output_type": "stream",
     "text": [
      "[[1 2]\n",
      " [3 4]\n",
      " [5 6]]\n",
      "\n",
      "[[1 2 5]\n",
      " [3 4 6]]\n"
     ]
    }
   ],
   "source": [
    "print(np.concatenate([matrix1, matrix3]))\n",
    "# print(np.concatenate([matrix1, matrix3],axis=1))\n",
    "print()\n",
    "print(np.concatenate([matrix1, matrix3.T],axis=1))\n"
   ]
  }
 ],
 "metadata": {
  "interpreter": {
   "hash": "38ae1ba9371524da054e8e3fbefd778d16b5a8ac7937a3f395010f627bb73919"
  },
  "kernelspec": {
   "display_name": "Python 3 (ipykernel)",
   "language": "python",
   "name": "python3"
  },
  "language_info": {
   "codemirror_mode": {
    "name": "ipython",
    "version": 3
   },
   "file_extension": ".py",
   "mimetype": "text/x-python",
   "name": "python",
   "nbconvert_exporter": "python",
   "pygments_lexer": "ipython3",
   "version": "3.9.12"
  }
 },
 "nbformat": 4,
 "nbformat_minor": 5
}
