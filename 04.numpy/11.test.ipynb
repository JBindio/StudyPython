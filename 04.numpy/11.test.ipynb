{
 "cells": [
  {
   "cell_type": "code",
   "execution_count": 13,
   "id": "20fa9d3a",
   "metadata": {},
   "outputs": [
    {
     "name": "stdout",
     "output_type": "stream",
     "text": [
      "[[2014    1  218    4   -9   -4]\n",
      " [2014    2  872   19  -45   -4]\n",
      " [2014    3  401    8  -45  -10]\n",
      " [2014    4  464   10  -41   -8]\n",
      " [2014    5   99    2   -5   -4]\n",
      " [2014    6  182    4   19   11]\n",
      " [2014    7   99    2    8    8]\n",
      " [2014    8  163    3  -47  -22]\n",
      " [2014    9  386    8   14    3]\n",
      " [2014   10   20    0    0    0]\n",
      " [2014   11  103    2  -16  -13]\n",
      " [2014   12  144    3   -6   -4]\n",
      " [2014   13  400    8  -35   -8]\n",
      " [2014   14  317    6  -35   -9]\n",
      " [2014   15   86    1  -14  -14]\n",
      " [2014   16  387    8   -5   -1]\n",
      " [2014   17  242    5  -31  -11]]\n"
     ]
    }
   ],
   "source": [
    "import numpy as np\n",
    "data = np.loadtxt('./data/ex2_전년대비_시도별_교통사망사고.csv', delimiter=',',dtype=int)\n",
    "\n",
    "# 발생년도 구분 발생건수 구성비(%) 증감수 증감률\n",
    "\t\t\n",
    "# 강원1\t 경기2\t경남3\t경북4\t광주5\t대구6\t대전7\t부산8\t서울9\n",
    "# 세종10 울산11\t인천12\t전남13\t전북14\t제주15\t충남16\t충북17\n",
    "\n",
    "print(data)"
   ]
  },
  {
   "cell_type": "markdown",
   "id": "b25b85dc",
   "metadata": {},
   "source": [
    "#### [문제1] 위 파일을 읽어보고 상위 3개의 (발생년도, 발생건수, 구성비)의 데이터를 추출해 봅시다."
   ]
  },
  {
   "cell_type": "code",
   "execution_count": 63,
   "id": "8cb79a93",
   "metadata": {},
   "outputs": [
    {
     "name": "stdout",
     "output_type": "stream",
     "text": [
      "[[2014  218    4]\n",
      " [2014  872   19]\n",
      " [2014  401    8]]\n"
     ]
    }
   ],
   "source": [
    "\n",
    "print(data[:3,[0,2,3]])\n",
    "#data[data[:,2].argsort()]"
   ]
  },
  {
   "cell_type": "markdown",
   "id": "049f4394",
   "metadata": {},
   "source": [
    "#### [문제2] 위 데이터에서 부산에서 발생한 교통사망사고 모든 현황을 추출해 봅시다."
   ]
  },
  {
   "cell_type": "code",
   "execution_count": 36,
   "id": "34d30f4e",
   "metadata": {},
   "outputs": [
    {
     "name": "stdout",
     "output_type": "stream",
     "text": [
      "[[2014    8  163    3  -47  -22]]\n"
     ]
    }
   ],
   "source": [
    "print(data[data[:,1] == 8])"
   ]
  },
  {
   "cell_type": "markdown",
   "id": "a844e577",
   "metadata": {},
   "source": [
    "#### [문제3] 위 데이터에서 전국 사고 발생건수의 합계와 전국 평균을 계산해 봅시다."
   ]
  },
  {
   "cell_type": "code",
   "execution_count": 88,
   "id": "48e9ed18",
   "metadata": {},
   "outputs": [
    {
     "name": "stdout",
     "output_type": "stream",
     "text": [
      "합계 = 4583\n",
      "평균 = 269.59\n"
     ]
    }
   ],
   "source": [
    "print('합계 =', data[:,2].sum())\n",
    "print('평균 =', round(data[:,2].mean(),2))"
   ]
  },
  {
   "cell_type": "markdown",
   "id": "8f06c471",
   "metadata": {},
   "source": [
    "#### [문제4] 위 데이터에서 교통사고 증감수가 가장 큰 지역의 모든 현황을 추출해 봅시다."
   ]
  },
  {
   "cell_type": "code",
   "execution_count": 94,
   "id": "d125da56",
   "metadata": {},
   "outputs": [
    {
     "name": "stdout",
     "output_type": "stream",
     "text": [
      "[2014    8  163    3  -47  -22]\n"
     ]
    }
   ],
   "source": [
    "a = data[data[:,4].argsort()]\n",
    "print(a[0])"
   ]
  },
  {
   "cell_type": "markdown",
   "id": "355026c1",
   "metadata": {},
   "source": [
    "#### [문제5] 위 데이터에서 교통사고 증감률이 가장 작은 지역의 모든 현황을 추출해 봅시다."
   ]
  },
  {
   "cell_type": "code",
   "execution_count": 96,
   "id": "4fcadd4b",
   "metadata": {},
   "outputs": [
    {
     "name": "stdout",
     "output_type": "stream",
     "text": [
      "[[2014   10   20    0    0    0]]\n"
     ]
    }
   ],
   "source": [
    "print(data[data[:,5] == 0])"
   ]
  },
  {
   "cell_type": "markdown",
   "id": "ef1c6516",
   "metadata": {},
   "source": [
    "#### [문제6] 위 데이터에서 사고 발생 건수가 400건 이상인 곳의 지역과 교통사고 발생건수, 증감수, 증감률을 추출해 봅시다."
   ]
  },
  {
   "cell_type": "code",
   "execution_count": 97,
   "id": "b9cfaa1f",
   "metadata": {},
   "outputs": [
    {
     "name": "stdout",
     "output_type": "stream",
     "text": [
      "[[  2 872 -45  -4]\n",
      " [  3 401 -45 -10]\n",
      " [  4 464 -41  -8]\n",
      " [ 13 400 -35  -8]]\n"
     ]
    }
   ],
   "source": [
    "print(data[data[:,2] >= 400][:,[1,2,4,5]])"
   ]
  }
 ],
 "metadata": {
  "interpreter": {
   "hash": "38ae1ba9371524da054e8e3fbefd778d16b5a8ac7937a3f395010f627bb73919"
  },
  "kernelspec": {
   "display_name": "Python 3.9.12 64-bit",
   "language": "python",
   "name": "python3"
  },
  "language_info": {
   "codemirror_mode": {
    "name": "ipython",
    "version": 3
   },
   "file_extension": ".py",
   "mimetype": "text/x-python",
   "name": "python",
   "nbconvert_exporter": "python",
   "pygments_lexer": "ipython3",
   "version": "3.9.12"
  }
 },
 "nbformat": 4,
 "nbformat_minor": 5
}
