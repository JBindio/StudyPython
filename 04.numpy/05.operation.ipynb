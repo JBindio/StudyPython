{
 "cells": [
  {
   "cell_type": "code",
   "execution_count": 2,
   "id": "e3fb441d",
   "metadata": {},
   "outputs": [],
   "source": [
    "import numpy as np"
   ]
  },
  {
   "cell_type": "markdown",
   "id": "9eaec577",
   "metadata": {},
   "source": [
    "#### 합(sum)"
   ]
  },
  {
   "cell_type": "code",
   "execution_count": 36,
   "id": "27401d90",
   "metadata": {},
   "outputs": [
    {
     "name": "stdout",
     "output_type": "stream",
     "text": [
      "[[1 2 3]\n",
      " [4 5 6]]\n",
      "\n",
      "배열의 합\n",
      " 21\n"
     ]
    }
   ],
   "source": [
    "matrix = np.arange(1,7).reshape(2,3)\n",
    "print(matrix)\n",
    "print()\n",
    "print('배열의 합\\n', matrix.sum())\n"
   ]
  },
  {
   "cell_type": "code",
   "execution_count": 34,
   "id": "33900875",
   "metadata": {},
   "outputs": [
    {
     "name": "stdout",
     "output_type": "stream",
     "text": [
      "행의 합\n",
      " [5 7 9]\n",
      "\n",
      "열의 합\n",
      " [ 6 15]\n"
     ]
    }
   ],
   "source": [
    "print('행의 합\\n', matrix.sum(axis=0)) # 행 끼리 더하기(세로)\n",
    "print()\n",
    "print('열의 합\\n', matrix.sum(axis=1)) # 열 끼리 더하기(가로)"
   ]
  },
  {
   "cell_type": "code",
   "execution_count": 27,
   "id": "e3498fa1",
   "metadata": {},
   "outputs": [
    {
     "name": "stdout",
     "output_type": "stream",
     "text": [
      "[[[ 1  2  3]\n",
      "  [ 4  5  6]]\n",
      "\n",
      " [[ 7  8  9]\n",
      "  [10 11 12]]\n",
      "\n",
      " [[13 14 15]\n",
      "  [16 17 18]]]\n",
      "\n",
      "배열의 합\n",
      " 171\n"
     ]
    }
   ],
   "source": [
    "# 3차원 배열의 합\n",
    "tensor = np.arange(1,19).reshape(3,2,3)\n",
    "print(tensor)\n",
    "print()\n",
    "print('배열의 합\\n', tensor.sum()) # np.sum(tensor)"
   ]
  },
  {
   "cell_type": "code",
   "execution_count": 25,
   "id": "0ac32817",
   "metadata": {},
   "outputs": [
    {
     "name": "stdout",
     "output_type": "stream",
     "text": [
      "차원의 합\n",
      " [[21 24 27]\n",
      " [30 33 36]]\n",
      "\n",
      "행의 합\n",
      " [[ 5  7  9]\n",
      " [17 19 21]\n",
      " [29 31 33]]\n",
      "\n",
      "열의 합\n",
      " [[ 6 15]\n",
      " [24 33]\n",
      " [42 51]]\n"
     ]
    }
   ],
   "source": [
    "print('차원의 합\\n', tensor.sum(axis=0)) # 차원 끼리의 합\n",
    "print()\n",
    "print('행의 합\\n', tensor.sum(axis=1)) # 행 끼리의 합\n",
    "print()\n",
    "print('열의 합\\n', tensor.sum(axis=2)) # 열 끼리의 합\n"
   ]
  },
  {
   "cell_type": "markdown",
   "id": "dbd11858",
   "metadata": {},
   "source": [
    "#### 평균(mean)"
   ]
  },
  {
   "cell_type": "code",
   "execution_count": 33,
   "id": "09eacb54",
   "metadata": {},
   "outputs": [
    {
     "name": "stdout",
     "output_type": "stream",
     "text": [
      "[[1 2 3]\n",
      " [4 5 6]]\n",
      "\n",
      "배열의 평균\n",
      " 3.5\n",
      "\n",
      "행의 평균\n",
      " [2.5 3.5 4.5]\n",
      "\n",
      "열의 평균\n",
      " [2. 5.]\n"
     ]
    }
   ],
   "source": [
    "print(matrix)\n",
    "print()\n",
    "print('배열의 평균\\n', matrix.mean()) # matrix의 평균\n",
    "print()\n",
    "print('행의 평균\\n', matrix.mean(axis=0)) # 행의 평균\n",
    "print()\n",
    "print('열의 평균\\n', matrix.mean(axis=1)) # 열의 평균\n"
   ]
  },
  {
   "cell_type": "markdown",
   "id": "eea233b2",
   "metadata": {},
   "source": [
    "#### 표준편차(std)"
   ]
  },
  {
   "cell_type": "code",
   "execution_count": 31,
   "id": "115e31fb",
   "metadata": {},
   "outputs": [
    {
     "name": "stdout",
     "output_type": "stream",
     "text": [
      "배열의 표준편차\n",
      " 1.707825127659933\n",
      "\n",
      "행의 표준편차\n",
      " [1.5 1.5 1.5]\n",
      "\n",
      "열의 표준편차\n",
      " [0.81649658 0.81649658]\n"
     ]
    }
   ],
   "source": [
    "print('배열의 표준편차\\n', matrix.std())\n",
    "print()\n",
    "print('행의 표준편차\\n', matrix.std(axis=0))\n",
    "print()\n",
    "print('열의 표준편차\\n', matrix.std(axis=1))"
   ]
  },
  {
   "cell_type": "markdown",
   "id": "67c12fa1",
   "metadata": {},
   "source": [
    "#### 그 외 수학 연산자"
   ]
  },
  {
   "cell_type": "code",
   "execution_count": 40,
   "id": "63527bf3",
   "metadata": {},
   "outputs": [
    {
     "name": "stdout",
     "output_type": "stream",
     "text": [
      "지수\n",
      " [[  2.71828183   7.3890561   20.08553692]\n",
      " [ 54.59815003 148.4131591  403.42879349]]\n",
      "\n",
      "로그\n",
      " [[0.         0.69314718 1.09861229]\n",
      " [1.38629436 1.60943791 1.79175947]]\n",
      "\n",
      "제곱근\n",
      " [[1.         1.41421356 1.73205081]\n",
      " [2.         2.23606798 2.44948974]]\n",
      "\n",
      "삼각함수\n",
      " [[ 0.84147098  0.90929743  0.14112001]\n",
      " [-0.7568025  -0.95892427 -0.2794155 ]]\n"
     ]
    }
   ],
   "source": [
    "print('지수\\n', np.exp(matrix))\n",
    "print()\n",
    "print('로그\\n', np.log(matrix))\n",
    "print()\n",
    "print('제곱근\\n', np.sqrt(matrix))\n",
    "print()\n",
    "print('삼각함수\\n', np.sin(matrix))\n"
   ]
  }
 ],
 "metadata": {
  "interpreter": {
   "hash": "38ae1ba9371524da054e8e3fbefd778d16b5a8ac7937a3f395010f627bb73919"
  },
  "kernelspec": {
   "display_name": "Python 3 (ipykernel)",
   "language": "python",
   "name": "python3"
  },
  "language_info": {
   "codemirror_mode": {
    "name": "ipython",
    "version": 3
   },
   "file_extension": ".py",
   "mimetype": "text/x-python",
   "name": "python",
   "nbconvert_exporter": "python",
   "pygments_lexer": "ipython3",
   "version": "3.9.12"
  }
 },
 "nbformat": 4,
 "nbformat_minor": 5
}
