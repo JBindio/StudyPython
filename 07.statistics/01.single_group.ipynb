{
 "cells": [
  {
   "cell_type": "markdown",
   "id": "4a37710f-5686-40ac-a8af-1e0e60cd88f9",
   "metadata": {},
   "source": [
    "## T-검정 : 한 집단의 평균 검정 : 단일 집단 검정(one sample t-test)"
   ]
  },
  {
   "cell_type": "code",
   "execution_count": 1,
   "id": "1957e239-fa24-44c1-bf05-793c71f593c6",
   "metadata": {},
   "outputs": [],
   "source": [
    "# 하나의 데이터 집단의 평균과 비요하고자하는 관측 평균값을 통해\n",
    "# 차이를 검정하는 방법\n",
    "\n",
    "# 데이터 집단의 평균과 거리가 가까울 수록 귀무가설 채택(평균 차이가 없다)\n",
    "#   - p-value 유의수준의 값이 높아진다 (p-value > 0.05)\n",
    "\n",
    "# 데이터 집단의 평균과 거리가 멀 수록 대립가설 채택(평균 차이가 있다)\n",
    "#   - p-value 유의수준의 값이 낮아진다 (p-value < 0.05)\n",
    "\n",
    "# 사용 함수 : stats.ttest_1samp(x,y), 한 집단(x), 관측평균값(y)"
   ]
  },
  {
   "cell_type": "markdown",
   "id": "e803cd5c-99eb-442d-abf4-730e304c97c8",
   "metadata": {
    "tags": []
   },
   "source": [
    "### 예시1 - 학생 키에 대한 평균 차이 검정 (단일검정)"
   ]
  },
  {
   "cell_type": "code",
   "execution_count": 2,
   "id": "9c5d675a-3366-4aa2-92dc-e968233472c1",
   "metadata": {},
   "outputs": [],
   "source": [
    "# 랜덤한 데이터 생성\n",
    "import numpy as np\n",
    "\n",
    "# T-검정에 사용되는 라이브러리\n",
    "# Scipy 라이브러리 (검정하기 위한 라이브러리)\n",
    "from scipy import stats"
   ]
  },
  {
   "cell_type": "markdown",
   "id": "66dff507-3c0f-4c99-ab1c-a7f6f886e491",
   "metadata": {},
   "source": [
    "#### 데이터 생성하기"
   ]
  },
  {
   "cell_type": "code",
   "execution_count": 3,
   "id": "b142f345-4986-4e71-9c85-107fc3f8cfb6",
   "metadata": {},
   "outputs": [
    {
     "name": "stdout",
     "output_type": "stream",
     "text": [
      "[169 167 175 166 162 180 172 162 173 162 181 175 181 181 162 165 172 176\n",
      " 167 165]\n"
     ]
    }
   ],
   "source": [
    "hight_list = np.array([169, 167, 175, 166, 162, 180, 172,\n",
    "                       162, 173, 162, 181, 175, 181, 181,\n",
    "                       162, 165, 172, 176, 167, 165])\n",
    "print(hight_list)"
   ]
  },
  {
   "cell_type": "code",
   "execution_count": 4,
   "id": "fe9430e6-3d41-4a01-93b8-f10efe7ee9d2",
   "metadata": {},
   "outputs": [
    {
     "name": "stdout",
     "output_type": "stream",
     "text": [
      "평균은 170.65 입니다\n"
     ]
    }
   ],
   "source": [
    "print('평균은', hight_list.mean() ,'입니다')"
   ]
  },
  {
   "cell_type": "markdown",
   "id": "03961088-b7ff-4864-b496-cc557187a7e0",
   "metadata": {},
   "source": [
    "#### 한 집단 검정하기"
   ]
  },
  {
   "cell_type": "code",
   "execution_count": 5,
   "id": "94220840-5e9e-4cb4-b068-942a56497389",
   "metadata": {},
   "outputs": [
    {
     "name": "stdout",
     "output_type": "stream",
     "text": [
      "한 집단 평균 검정 (단일 표본검정) =  Ttest_1sampResult(statistic=3.6742535450095763, pvalue=0.0016115867466840847)\n",
      "t-검정 통계량 = 3.674, p-value = 0.002\n"
     ]
    }
   ],
   "source": [
    "# 관측 평균값 정의\n",
    "pmean = 165\n",
    "\n",
    "# 검정하기\n",
    "tTestResult = stats.ttest_1samp(hight_list, popmean = pmean)\n",
    "tTestResult\n",
    "\n",
    "# statistic = 오차율\n",
    "# pvalue = p-value\n",
    "\n",
    "# 귀무가설 : 평균은 165일 것이다\n",
    "# 대립가설 : 평균은 165가 아닐 것이다\n",
    "print('한 집단 평균 검정 (단일 표본검정) = ', tTestResult)\n",
    "print('t-검정 통계량 = %.3f, p-value = %.3f' %(tTestResult))"
   ]
  },
  {
   "cell_type": "markdown",
   "id": "cddc2a28-887d-4fee-8838-021b95fd9802",
   "metadata": {},
   "source": [
    "#### 해석"
   ]
  },
  {
   "cell_type": "code",
   "execution_count": 6,
   "id": "527c0d53-5481-4412-9163-9e55cdaa08bb",
   "metadata": {},
   "outputs": [],
   "source": [
    "# 1. p-value = 0.002 =< 0.05 이므로 귀무가설 기각\n",
    "# 2. 대립가설 채택 : 한개의 집단과 관측값의 평균은 서로 같지 않다."
   ]
  },
  {
   "cell_type": "markdown",
   "id": "05b7b8f3-e3d7-44fe-88b3-8c1d83702871",
   "metadata": {},
   "source": [
    "### 예시2 - 어느 남성 집단의 평균 키 검정 (집단검정)\n",
    "- 귀무가설 : 남성 집단의 평균 키가 177이다. 샘플의 평균과 모집단의 평균은 같다.\n",
    "- 대립가설 : 남성 집단의 평균 키가 177이 아니다. 샘플의 평균과 모집단의 평균 다르다."
   ]
  },
  {
   "cell_type": "code",
   "execution_count": 7,
   "id": "07300607-968b-4edc-9d8c-85ede9cc6d59",
   "metadata": {},
   "outputs": [],
   "source": [
    "import numpy as np\n",
    "import pandas as pd\n",
    "import matplotlib.pyplot as plt\n",
    "import scipy.stats as stats"
   ]
  },
  {
   "cell_type": "markdown",
   "id": "7b995d48-3adf-4f65-8eb8-b14e50b9df74",
   "metadata": {},
   "source": [
    "#### 데이터 생성하기"
   ]
  },
  {
   "cell_type": "code",
   "execution_count": 8,
   "id": "414d57f0-8e88-46bb-b278-b62ca5269373",
   "metadata": {},
   "outputs": [
    {
     "name": "stdout",
     "output_type": "stream",
     "text": [
      "one_sample_01 평균은 177.21999999999997 입니다\n",
      "one_sample_02 평균은 169.21999999999997 입니다\n"
     ]
    }
   ],
   "source": [
    "### 데이터 생성하기\n",
    "one_sample_01 = [177.0, 182.7, 169.6, 176.8, 180.0]\n",
    "print('one_sample_01 평균은', np.array(one_sample_01).mean(), '입니다')\n",
    "\n",
    "one_sample_02 = [167.0, 162.7, 169.6, 176.8, 170.0]\n",
    "print('one_sample_02 평균은', np.array(one_sample_02).mean(),'입니다')"
   ]
  },
  {
   "cell_type": "markdown",
   "id": "2bc498ba-3b3c-4aee-991e-32e122b282ff",
   "metadata": {},
   "source": [
    "#### one_sample_01(모집단1) 평균 차이 검정하기"
   ]
  },
  {
   "cell_type": "code",
   "execution_count": 9,
   "id": "dd55283e-41ae-41cc-8a88-6ee5d1fef22d",
   "metadata": {},
   "outputs": [
    {
     "name": "stdout",
     "output_type": "stream",
     "text": [
      "한 집단 평균 검정 (단일 표본검정) =  Ttest_1sampResult(statistic=0.10039070766877535, pvalue=0.9248646407498543)\n",
      "t-검정 통계량 = 0.100, p-value = 0.925\n"
     ]
    }
   ],
   "source": [
    "tTestResult_01 = stats.ttest_1samp(one_sample_01, popmean=177)\n",
    "print('한 집단 평균 검정 (단일 표본검정) = ', tTestResult_01)\n",
    "print('t-검정 통계량 = %.3f, p-value = %.3f' %(tTestResult_01))\n",
    "\n",
    "# 1. p-value = 0.925 >= 0.05 이므로 귀무가설 채택\n",
    "# 2. 귀무가설 채택 : 한개의 집단과 관측값의 평균은 서로 같다."
   ]
  },
  {
   "cell_type": "markdown",
   "id": "497d1dfa-9b39-4d9e-982a-b0adf6046f8f",
   "metadata": {},
   "source": [
    "#### one_sample_02(모집단2) 평균 차이 검정하기"
   ]
  },
  {
   "cell_type": "code",
   "execution_count": 10,
   "id": "3c7f7893-b85f-43cb-a897-0e7d0a96e1c7",
   "metadata": {},
   "outputs": [
    {
     "name": "stdout",
     "output_type": "stream",
     "text": [
      "한 집단 평균 검정 (단일 표본검정) =  Ttest_1sampResult(statistic=-3.3850411682038235, pvalue=0.02765632703927135)\n",
      "t-검정 통계량 = -3.385, p-value = 0.028\n"
     ]
    }
   ],
   "source": [
    "tTestResult_02 = stats.ttest_1samp(one_sample_02, popmean=177)\n",
    "print('한 집단 평균 검정 (단일 표본검정) = ', tTestResult_02)\n",
    "print('t-검정 통계량 = %.3f, p-value = %.3f' %(tTestResult_02))\n",
    "\n",
    "# 1. p-value = 0.028 >= 0.05 이므로 귀무가설 기각\n",
    "# 2. 대립가설 채택 : 한개의 집단과 관측값의 평균은 서로 같지않다."
   ]
  },
  {
   "cell_type": "markdown",
   "id": "7646a5fd-4d29-48df-8838-dd7baac95740",
   "metadata": {},
   "source": [
    "### 예시 3 - 어느 집단 자료 평균 검정\n",
    "- 귀무가설 : 자료들의 평균은 0 이다\n",
    "- 대립가설 : 자료들의 평균은 0 이 아니다"
   ]
  },
  {
   "cell_type": "markdown",
   "id": "679010ca-fe91-4cdf-b645-57b78c11e50b",
   "metadata": {},
   "source": [
    "#### 데이터 생성하기"
   ]
  },
  {
   "cell_type": "code",
   "execution_count": 11,
   "id": "e1456c91-b5c0-45b1-a149-dcb3f1e0f708",
   "metadata": {},
   "outputs": [
    {
     "name": "stdout",
     "output_type": "stream",
     "text": [
      "생성된 난수 = [-1.0856306   0.99734545  0.2829785  -1.50629471 -0.57860025  1.65143654\n",
      " -2.42667924 -0.42891263  1.26593626 -0.8667404 ]\n",
      "10개 평균 =  -0.26951611032632805\n"
     ]
    }
   ],
   "source": [
    "np.random.seed(123)\n",
    "\n",
    "# 난수 평균 변수\n",
    "nCnt = 0\n",
    "\n",
    "# 생성할 난수의 갯수 변수\n",
    "mValue = 10\n",
    "\n",
    "# 평균이 0인 정규분포를 따르는 난수 10개 생성\n",
    "x = stats.norm(nCnt).rvs(mValue)\n",
    "print('생성된 난수 =', x)\n",
    "print('10개 평균 = ', np.mean(x))"
   ]
  },
  {
   "cell_type": "markdown",
   "id": "c48b76e9-5b74-4e8d-857d-a8429c5aa907",
   "metadata": {},
   "source": [
    "### 정규성 검정(stats.shapiro())"
   ]
  },
  {
   "cell_type": "code",
   "execution_count": 57,
   "id": "21ae8867-1254-4b67-9d5f-4b66fb76b105",
   "metadata": {},
   "outputs": [
    {
     "name": "stdout",
     "output_type": "stream",
     "text": [
      "정규성 검정 결과 = ShapiroResult(statistic=0.9674148559570312, pvalue=0.8658965229988098)\n",
      "검정 통계량 = 0.967, p-value = 0.866\n"
     ]
    }
   ],
   "source": [
    "# 검증시 대부분의 집단은 정규분포를 따른다는 가정하에 진행\n",
    "# p-value의 값이 커질 수록, 평균의 분포는 정규분포를 따른다\n",
    "\n",
    "resultSh = stats.shapiro(x)\n",
    "print('정규성 검정 결과 =', resultSh)\n",
    "print('검정 통계량 = %.3f, p-value = %.3f' %(resultSh))\n",
    "\n",
    "# 1. p-value = 0.866 >= 0.05 이므로 정규성을 만족한다"
   ]
  },
  {
   "cell_type": "markdown",
   "id": "56166ba7-b314-420c-b840-e22112e23513",
   "metadata": {},
   "source": [
    "#### 정규분포 시각화"
   ]
  },
  {
   "cell_type": "code",
   "execution_count": 15,
   "id": "d27624f3-ac53-4a80-ab31-2f7368698134",
   "metadata": {},
   "outputs": [
    {
     "name": "stderr",
     "output_type": "stream",
     "text": [
      "C:\\Users\\admin\\anaconda3\\lib\\site-packages\\seaborn\\distributions.py:2619: FutureWarning: `distplot` is a deprecated function and will be removed in a future version. Please adapt your code to use either `displot` (a figure-level function with similar flexibility) or `histplot` (an axes-level function for histograms).\n",
      "  warnings.warn(msg, FutureWarning)\n"
     ]
    },
    {
     "data": {
      "image/png": "[encoded data removed]",
      "text/plain": [
       "<Figure size 640x480 with 1 Axes>"
      ]
     },
     "metadata": {},
     "output_type": "display_data"
    }
   ],
   "source": [
    "import seaborn as sns\n",
    "import matplotlib\n",
    "from matplotlib import font_manager, rc\n",
    "import platform\n",
    "\n",
    "# seaborn 설정 리셋\n",
    "sns.reset_defaults()\n",
    "\n",
    "# 폰트설정\n",
    "if platform.system() == 'Windows' :\n",
    "    path = 'c:/Windows/Fonts/malgun.ttf'\n",
    "    font_name = font_manager.FontProperties(fname=path).get_name()\n",
    "    rc('font', family=font_name)\n",
    "elif platform.system() == 'Darwin':\n",
    "    rc('font', family='AppleGothic')\n",
    "else :\n",
    "    print('Check your OS System')\n",
    "    \n",
    "# 그래프에 마이너스 표시\n",
    "matplotlib.rcParams['axes.unicode_minus'] = False\n",
    "\n",
    "# x : 데이터 집합\n",
    "sns.distplot(x, fit=stats.norm)\n",
    "plt.show()"
   ]
  },
  {
   "cell_type": "code",
   "execution_count": 17,
   "id": "5a22f704-62a1-43e7-8e52-7efcc5ef714d",
   "metadata": {},
   "outputs": [
    {
     "name": "stdout",
     "output_type": "stream",
     "text": [
      "한 집단 평균 검정 (단일 표본검정) =  Ttest_1sampResult(statistic=-0.6540040368674593, pvalue=0.5294637946339893)\n",
      "t-검정 통계량 = -0.654, p-value = 0.529\n"
     ]
    }
   ],
   "source": [
    "tTestResult_x_01 = stats.ttest_1samp(x, popmean=0)\n",
    "print('한 집단 평균 검정 (단일 표본검정) = ', tTestResult_x_01)\n",
    "print('t-검정 통계량 = %.3f, p-value = %.3f' %(tTestResult_x_01))\n",
    "\n",
    "# 1. p-value = 0.529 >= 0.05 이므로 귀무가설 채택\n",
    "# 2. 귀무가설 채택 : 한개의 집단과 관측값의 평균은 서로 같다."
   ]
  },
  {
   "cell_type": "code",
   "execution_count": 18,
   "id": "f26c62a2-b7b3-4c0d-a354-581c255d2bee",
   "metadata": {},
   "outputs": [
    {
     "name": "stdout",
     "output_type": "stream",
     "text": [
      "한 집단 평균 검정 (단일 표본검정) =  Ttest_1sampResult(statistic=-2.595272886660806, pvalue=0.028961904737220684)\n",
      "t-검정 통계량 = -2.595, p-value = 0.029\n"
     ]
    }
   ],
   "source": [
    "tTestResult_x_02 = stats.ttest_1samp(x, popmean=0.8)\n",
    "print('한 집단 평균 검정 (단일 표본검정) = ', tTestResult_x_02)\n",
    "print('t-검정 통계량 = %.3f, p-value = %.3f' %(tTestResult_x_02))\n",
    "\n",
    "# 1. p-value = 0.029 <= 0.05 이므로 귀무가설 기각\n",
    "# 2. 대립가설 채택 : 한개의 집단과 관측값의 평균은 서로 같지않다."
   ]
  },
  {
   "cell_type": "markdown",
   "id": "0f78a99b-00ad-4d34-abfb-ad054a1a67ba",
   "metadata": {},
   "source": [
    "### 예시 4 - 중학교 1개반 학생들의 시험결과가 딤긴 student.csv 사용\n",
    "- 귀무가설 : 학생들의 국어점수 평균은 80점이다\n",
    "- 대립가설 : 학생들의 국어점수 평균은 80점이 아니다"
   ]
  },
  {
   "cell_type": "markdown",
   "id": "db6f630f-ab04-48b2-848e-ebffa844df0f",
   "metadata": {},
   "source": [
    "#### 데이터 생성"
   ]
  },
  {
   "cell_type": "code",
   "execution_count": 19,
   "id": "7b32f35d-fdeb-47ce-b88b-56f9a01c61e9",
   "metadata": {},
   "outputs": [
    {
     "data": {
      "text/html": [
       "<div>\n",
       "<style scoped>\n",
       "    .dataframe tbody tr th:only-of-type {\n",
       "        vertical-align: middle;\n",
       "    }\n",
       "\n",
       "    .dataframe tbody tr th {\n",
       "        vertical-align: top;\n",
       "    }\n",
       "\n",
       "    .dataframe thead th {\n",
       "        text-align: right;\n",
       "    }\n",
       "</style>\n",
       "<table border=\"1\" class=\"dataframe\">\n",
       "  <thead>\n",
       "    <tr style=\"text-align: right;\">\n",
       "      <th></th>\n",
       "      <th>이름</th>\n",
       "      <th>국어</th>\n",
       "      <th>영어</th>\n",
       "      <th>수학</th>\n",
       "    </tr>\n",
       "  </thead>\n",
       "  <tbody>\n",
       "    <tr>\n",
       "      <th>0</th>\n",
       "      <td>홍길동1</td>\n",
       "      <td>90</td>\n",
       "      <td>45</td>\n",
       "      <td>56</td>\n",
       "    </tr>\n",
       "    <tr>\n",
       "      <th>1</th>\n",
       "      <td>홍길동2</td>\n",
       "      <td>80</td>\n",
       "      <td>65</td>\n",
       "      <td>77</td>\n",
       "    </tr>\n",
       "    <tr>\n",
       "      <th>2</th>\n",
       "      <td>홍길동3</td>\n",
       "      <td>87</td>\n",
       "      <td>67</td>\n",
       "      <td>54</td>\n",
       "    </tr>\n",
       "    <tr>\n",
       "      <th>3</th>\n",
       "      <td>홍길동4</td>\n",
       "      <td>55</td>\n",
       "      <td>88</td>\n",
       "      <td>65</td>\n",
       "    </tr>\n",
       "    <tr>\n",
       "      <th>4</th>\n",
       "      <td>홍길동5</td>\n",
       "      <td>66</td>\n",
       "      <td>90</td>\n",
       "      <td>33</td>\n",
       "    </tr>\n",
       "    <tr>\n",
       "      <th>5</th>\n",
       "      <td>홍길동6</td>\n",
       "      <td>78</td>\n",
       "      <td>44</td>\n",
       "      <td>45</td>\n",
       "    </tr>\n",
       "    <tr>\n",
       "      <th>6</th>\n",
       "      <td>홍길동7</td>\n",
       "      <td>45</td>\n",
       "      <td>55</td>\n",
       "      <td>76</td>\n",
       "    </tr>\n",
       "    <tr>\n",
       "      <th>7</th>\n",
       "      <td>홍길동8</td>\n",
       "      <td>78</td>\n",
       "      <td>66</td>\n",
       "      <td>87</td>\n",
       "    </tr>\n",
       "    <tr>\n",
       "      <th>8</th>\n",
       "      <td>홍길동9</td>\n",
       "      <td>95</td>\n",
       "      <td>77</td>\n",
       "      <td>65</td>\n",
       "    </tr>\n",
       "    <tr>\n",
       "      <th>9</th>\n",
       "      <td>홍길동10</td>\n",
       "      <td>78</td>\n",
       "      <td>67</td>\n",
       "      <td>90</td>\n",
       "    </tr>\n",
       "    <tr>\n",
       "      <th>10</th>\n",
       "      <td>홍길동11</td>\n",
       "      <td>55</td>\n",
       "      <td>57</td>\n",
       "      <td>96</td>\n",
       "    </tr>\n",
       "    <tr>\n",
       "      <th>11</th>\n",
       "      <td>홍길동12</td>\n",
       "      <td>99</td>\n",
       "      <td>87</td>\n",
       "      <td>67</td>\n",
       "    </tr>\n",
       "    <tr>\n",
       "      <th>12</th>\n",
       "      <td>홍길동13</td>\n",
       "      <td>88</td>\n",
       "      <td>82</td>\n",
       "      <td>45</td>\n",
       "    </tr>\n",
       "    <tr>\n",
       "      <th>13</th>\n",
       "      <td>홍길동14</td>\n",
       "      <td>78</td>\n",
       "      <td>65</td>\n",
       "      <td>45</td>\n",
       "    </tr>\n",
       "    <tr>\n",
       "      <th>14</th>\n",
       "      <td>홍길동15</td>\n",
       "      <td>67</td>\n",
       "      <td>98</td>\n",
       "      <td>76</td>\n",
       "    </tr>\n",
       "    <tr>\n",
       "      <th>15</th>\n",
       "      <td>홍길동16</td>\n",
       "      <td>73</td>\n",
       "      <td>45</td>\n",
       "      <td>45</td>\n",
       "    </tr>\n",
       "    <tr>\n",
       "      <th>16</th>\n",
       "      <td>홍길동17</td>\n",
       "      <td>92</td>\n",
       "      <td>67</td>\n",
       "      <td>67</td>\n",
       "    </tr>\n",
       "    <tr>\n",
       "      <th>17</th>\n",
       "      <td>홍길동18</td>\n",
       "      <td>91</td>\n",
       "      <td>33</td>\n",
       "      <td>45</td>\n",
       "    </tr>\n",
       "    <tr>\n",
       "      <th>18</th>\n",
       "      <td>홍길동19</td>\n",
       "      <td>98</td>\n",
       "      <td>90</td>\n",
       "      <td>67</td>\n",
       "    </tr>\n",
       "  </tbody>\n",
       "</table>\n",
       "</div>"
      ],
      "text/plain": [
       "       이름  국어  영어  수학\n",
       "0    홍길동1  90  45  56\n",
       "1    홍길동2  80  65  77\n",
       "2    홍길동3  87  67  54\n",
       "3    홍길동4  55  88  65\n",
       "4    홍길동5  66  90  33\n",
       "5    홍길동6  78  44  45\n",
       "6    홍길동7  45  55  76\n",
       "7    홍길동8  78  66  87\n",
       "8    홍길동9  95  77  65\n",
       "9   홍길동10  78  67  90\n",
       "10  홍길동11  55  57  96\n",
       "11  홍길동12  99  87  67\n",
       "12  홍길동13  88  82  45\n",
       "13  홍길동14  78  65  45\n",
       "14  홍길동15  67  98  76\n",
       "15  홍길동16  73  45  45\n",
       "16  홍길동17  92  67  67\n",
       "17  홍길동18  91  33  45\n",
       "18  홍길동19  98  90  67"
      ]
     },
     "execution_count": 19,
     "metadata": {},
     "output_type": "execute_result"
    }
   ],
   "source": [
    "student = pd.read_csv('./data/student.csv')\n",
    "student"
   ]
  },
  {
   "cell_type": "code",
   "execution_count": 20,
   "id": "103fc2a4-7a66-4acb-93d8-3d7c6383ffd7",
   "metadata": {},
   "outputs": [],
   "source": [
    "kor = student['국어']\n",
    "kor_Mean = kor.mean()"
   ]
  },
  {
   "cell_type": "code",
   "execution_count": 21,
   "id": "acf92c48-e91b-4c8c-9266-ea6abd66c10c",
   "metadata": {},
   "outputs": [
    {
     "data": {
      "text/plain": [
       "78.57894736842105"
      ]
     },
     "execution_count": 21,
     "metadata": {},
     "output_type": "execute_result"
    }
   ],
   "source": [
    "kor_Mean"
   ]
  },
  {
   "cell_type": "code",
   "execution_count": 53,
   "id": "f0c25968-3cd2-4339-a7eb-5f50822a7499",
   "metadata": {},
   "outputs": [
    {
     "name": "stdout",
     "output_type": "stream",
     "text": [
      "정규성 검정 결과 = ShapiroResult(statistic=0.9356319904327393, pvalue=0.21971704065799713)\n",
      "검정 통계량 = 0.936, p-value = 0.220\n"
     ]
    }
   ],
   "source": [
    "# 검증시 대부분의 집단은 정규분포를 따른다는 가정하에 진행\n",
    "# p-value의 값이 커질 수록, 평균의 분포는 정규분포를 따른다\n",
    "\n",
    "result_Stu_Sh = stats.shapiro(kor)\n",
    "print('정규성 검정 결과 =', result_Stu_Sh)\n",
    "print('검정 통계량 = %.3f, p-value = %.3f' %(result_Stu_Sh))\n",
    "\n",
    "# 1. p-value = 0.220 >= 0.05 이므로 정규성을 만족한다"
   ]
  },
  {
   "cell_type": "code",
   "execution_count": 23,
   "id": "376f7c30-04ad-4b8e-abe2-3c7902c9a662",
   "metadata": {},
   "outputs": [
    {
     "name": "stderr",
     "output_type": "stream",
     "text": [
      "C:\\Users\\admin\\anaconda3\\lib\\site-packages\\seaborn\\distributions.py:2619: FutureWarning: `distplot` is a deprecated function and will be removed in a future version. Please adapt your code to use either `displot` (a figure-level function with similar flexibility) or `histplot` (an axes-level function for histograms).\n",
      "  warnings.warn(msg, FutureWarning)\n"
     ]
    },
    {
     "data": {
      "image/png": "[encoded data removed]",
      "text/plain": [
       "<Figure size 640x480 with 1 Axes>"
      ]
     },
     "metadata": {},
     "output_type": "display_data"
    }
   ],
   "source": [
    "sns.distplot(kor, fit=stats.norm)\n",
    "plt.show()"
   ]
  },
  {
   "cell_type": "code",
   "execution_count": 24,
   "id": "e6f3cd32-02d5-4198-8ac5-2733dc72b7fb",
   "metadata": {},
   "outputs": [
    {
     "name": "stdout",
     "output_type": "stream",
     "text": [
      "한 집단 평균 검정 (단일 표본검정) =  Ttest_1sampResult(statistic=-0.40289533293226004, pvalue=0.6917702523394662)\n",
      "t-검정 통계량 = -0.403, p-value = 0.692\n"
     ]
    }
   ],
   "source": [
    "tTestResult_Kor = stats.ttest_1samp(kor, popmean=80)\n",
    "print('한 집단 평균 검정 (단일 표본검정) = ', tTestResult_Kor)\n",
    "print('t-검정 통계량 = %.3f, p-value = %.3f' %(tTestResult_Kor))\n",
    "\n",
    "# 1. p-value = 0.692 >= 0.05 이므로 귀무가설 채택\n",
    "# 2. 귀무가설 채택 : 한개의 집단과 관측값의 평균은 서로 같다.\n",
    "#                  : 국어점수의 평균은 80점과 가깝다"
   ]
  },
  {
   "cell_type": "markdown",
   "id": "7adad18c-ebc4-42d8-a651-dded57b195f4",
   "metadata": {},
   "source": [
    "### 예시 5 - 여아 신생아 몸무게의 평균 검정 \n",
    "#### 분석근거\n",
    "일반적으로 여아 신생아의 몸무게 평균은 2800g으로 알려져 왔다.<br>\n",
    "일부에서는 이보다 크다고 주장하고 있다. 누구의 말이 맞을까?"
   ]
  },
  {
   "cell_type": "code",
   "execution_count": 46,
   "id": "e43f291c-8c12-450c-99bd-9a7f3c94d624",
   "metadata": {},
   "outputs": [],
   "source": [
    "baby = pd.read_csv('./data/babyboom.csv')"
   ]
  },
  {
   "cell_type": "code",
   "execution_count": 47,
   "id": "9c4fa2b4-b86c-4527-866d-795bf57c19d3",
   "metadata": {},
   "outputs": [],
   "source": [
    "girl = baby[baby['gender'] == 1]"
   ]
  },
  {
   "cell_type": "code",
   "execution_count": 48,
   "id": "2d86d460-3042-46d9-98a7-29eb6aa6b656",
   "metadata": {},
   "outputs": [],
   "source": [
    "girl_weight = girl['weight']"
   ]
  },
  {
   "cell_type": "code",
   "execution_count": 51,
   "id": "09055d95-79b8-4c97-b2b5-daae11561cc9",
   "metadata": {},
   "outputs": [
    {
     "name": "stdout",
     "output_type": "stream",
     "text": [
      "정규성 검정 결과 = ShapiroResult(statistic=0.8702831864356995, pvalue=0.017984945327043533)\n",
      "검정 통계량 = 0.870, p-value = 0.018\n"
     ]
    }
   ],
   "source": [
    "# 검증시 대부분의 집단은 정규분포를 따른다는 가정하에 진행\n",
    "# p-value의 값이 커질 수록, 평균의 분포는 정규분포를 따른다\n",
    "\n",
    "result_girl_sh = stats.shapiro(girl_weight)\n",
    "print('정규성 검정 결과 =', result_girl_sh)\n",
    "print('검정 통계량 = %.3f, p-value = %.3f' %(result_girl_sh))\n",
    "\n",
    "# 1. p-value = 0.018 <= 0.05 이므로 정규성을 만족하지 못한다"
   ]
  },
  {
   "cell_type": "code",
   "execution_count": 63,
   "id": "2dcf1951-e3d0-439d-a4ea-4625d398ff97",
   "metadata": {},
   "outputs": [
    {
     "name": "stderr",
     "output_type": "stream",
     "text": [
      "C:\\Users\\admin\\anaconda3\\lib\\site-packages\\seaborn\\distributions.py:2619: FutureWarning: `distplot` is a deprecated function and will be removed in a future version. Please adapt your code to use either `displot` (a figure-level function with similar flexibility) or `histplot` (an axes-level function for histograms).\n",
      "  warnings.warn(msg, FutureWarning)\n"
     ]
    },
    {
     "data": {
      "image/png": "[encoded data removed]",
      "text/plain": [
       "<Figure size 640x480 with 1 Axes>"
      ]
     },
     "metadata": {},
     "output_type": "display_data"
    }
   ],
   "source": [
    "sns.distplot(girl_weight, fit=stats.norm)\n",
    "plt.show()"
   ]
  },
  {
   "cell_type": "code",
   "execution_count": 69,
   "id": "08f1ea2e-35d9-4e9a-a6a8-45b575e3c754",
   "metadata": {},
   "outputs": [
    {
     "name": "stdout",
     "output_type": "stream",
     "text": [
      "한 집단 평균 검정 (단일 표본검정) =  Ttest_1sampResult(statistic=2.233187669387536, pvalue=0.03926844173060218)\n",
      "t-검정 통계량 = 2.233, p-value = 0.039\n"
     ]
    }
   ],
   "source": [
    "tTestResult_girl_weight = stats.ttest_1samp(girl_weight, popmean=2800)\n",
    "print('한 집단 평균 검정 (단일 표본검정) = ', tTestResult_girl_weight)\n",
    "print('t-검정 통계량 = %.3f, p-value = %.3f' %(tTestResult_girl_weight))\n",
    "\n",
    "# 1. p-value = 0.039 <= 0.05 이므로 귀무가설 기각\n",
    "# 2. 대립가설 채택 : 한개의 집단과 관측값의 평균은 서로 같지않다.\n",
    "#                  : 여아 신생아의 몸무게 평균은 2800g과 가깝지않다."
   ]
  },
  {
   "cell_type": "code",
   "execution_count": 64,
   "id": "2a66f062-a74a-4994-8961-67d15adff010",
   "metadata": {},
   "outputs": [
    {
     "data": {
      "text/plain": [
       "3132.4444444444443"
      ]
     },
     "execution_count": 64,
     "metadata": {},
     "output_type": "execute_result"
    }
   ],
   "source": [
    "np.mean(girl_weight)"
   ]
  },
  {
   "cell_type": "code",
   "execution_count": null,
   "id": "c7658381-9e72-436f-8509-90ddc2ac283b",
   "metadata": {},
   "outputs": [],
   "source": []
  },
  {
   "cell_type": "code",
   "execution_count": null,
   "id": "c1293a4a-a203-4fa9-b62d-24cd7f4f7d30",
   "metadata": {},
   "outputs": [],
   "source": []
  },
  {
   "cell_type": "code",
   "execution_count": null,
   "id": "80ced3a1-bb19-47fb-855a-c3652461fd31",
   "metadata": {},
   "outputs": [],
   "source": []
  },
  {
   "cell_type": "code",
   "execution_count": null,
   "id": "208b00cb-428c-45b6-9fef-d3dd71689c4e",
   "metadata": {},
   "outputs": [],
   "source": []
  },
  {
   "cell_type": "code",
   "execution_count": null,
   "id": "003c6140-fe54-4a61-818b-e789ab493c99",
   "metadata": {},
   "outputs": [],
   "source": []
  }
 ],
 "metadata": {
  "kernelspec": {
   "display_name": "Python 3 (ipykernel)",
   "language": "python",
   "name": "python3"
  },
  "language_info": {
   "codemirror_mode": {
    "name": "ipython",
    "version": 3
   },
   "file_extension": ".py",
   "mimetype": "text/x-python",
   "name": "python",
   "nbconvert_exporter": "python",
   "pygments_lexer": "ipython3",
   "version": "3.9.12"
  }
 },
 "nbformat": 4,
 "nbformat_minor": 5
}
