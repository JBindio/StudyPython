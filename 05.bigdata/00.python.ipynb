{
 "cells": [
  {
   "cell_type": "markdown",
   "metadata": {},
   "source": [
    "### 파이썬 기초\n",
    "[문제]</br>\n",
    "dict_val 이라는 딕셔너리 변수에 아래 값을 넣기</br>\n",
    "a 키에는 리스트 \"aa\", \"bb\", \"cc\" 넣기</br>\n",
    "b 키에는 리스트 \"a\", \"b\", \"c\" 넣기</br>\n",
    "</br>\n",
    "dict_val에 들어있는 키 값에 대한 리스트 출력하기"
   ]
  },
  {
   "cell_type": "code",
   "execution_count": 158,
   "metadata": {},
   "outputs": [
    {
     "name": "stdout",
     "output_type": "stream",
     "text": [
      "['aa', 'bb', 'cc']\n",
      "['a', 'b', 'c']\n"
     ]
    }
   ],
   "source": [
    "dict_val = {\"a\":[\"aa\", \"bb\", \"cc\"],\n",
    "            \"b\":[\"a\", \"b\", \"c\"]}\n",
    "\n",
    "print(dict_val[\"a\"])\n",
    "print(dict_val[\"b\"])"
   ]
  },
  {
   "cell_type": "code",
   "execution_count": 159,
   "metadata": {},
   "outputs": [
    {
     "name": "stdout",
     "output_type": "stream",
     "text": [
      "['aa', 'bb', 'cc']\n",
      "aa\n",
      "bb\n",
      "cc\n",
      "['a', 'b', 'c']\n",
      "a\n",
      "b\n",
      "c\n"
     ]
    }
   ],
   "source": [
    "for k in dict_val :\n",
    "    print(dict_val[k])\n",
    "    for v in dict_val[k]:\n",
    "        print(v)"
   ]
  },
  {
   "cell_type": "code",
   "execution_count": 160,
   "metadata": {},
   "outputs": [
    {
     "name": "stdout",
     "output_type": "stream",
     "text": [
      "['aa', 'bb', 'cc']\n",
      "aa\n",
      "bb\n",
      "cc\n",
      "aa\n",
      "bb\n",
      "cc\n",
      "aa\n",
      "bb\n",
      "cc\n",
      "aa\n",
      "bb\n",
      "cc\n",
      "['a', 'b', 'c']\n",
      "a\n",
      "b\n",
      "c\n",
      "a\n",
      "b\n",
      "c\n",
      "a\n",
      "b\n",
      "c\n",
      "a\n",
      "b\n",
      "c\n"
     ]
    }
   ],
   "source": [
    "for k in dict_val :\n",
    "    # key 값 가져오기\n",
    "    print(dict_val[k])\n",
    "    # 변수를 이용해 리스트 생성\n",
    "    list_val = dict_val[k]\n",
    "    # 리스트의 값을 이용하는 방식\n",
    "    for v in dict_val[k]:\n",
    "        print(v)\n",
    "    # 리스트의 인덱스를 이용하는 방식\n",
    "    for i in range(0, len(dict_val[k])) :\n",
    "        print(dict_val[k][i])\n",
    "    # 생성된 리스트의 값을 이용하는 방식\n",
    "    for var in list_val:\n",
    "        print(var)\n",
    "    # 생성된 리스트의 인덱스를 이용하는 방식\n",
    "    for index in range(0, len(list_val)) :\n",
    "        print(list_val[index])"
   ]
  },
  {
   "cell_type": "markdown",
   "metadata": {},
   "source": [
    "list_val 이라는 리스트 변수에 딕셔너리 값 넣기</br>\n",
    "첫번째 리스트는 a 라는 키, 값은 리스트 \"aa\", \"bb\", \"cc\" 넣기</br>\n",
    "두번째 리스트는 b 라는 키, 값은 리스트  \"a\", \"b\", \"c\" 넣기</br>"
   ]
  },
  {
   "cell_type": "code",
   "execution_count": 161,
   "metadata": {},
   "outputs": [
    {
     "data": {
      "text/plain": [
       "[{'a': ['aa', 'bb', 'cc']}, {'b': ['a', 'b', 'c']}]"
      ]
     },
     "execution_count": 161,
     "metadata": {},
     "output_type": "execute_result"
    }
   ],
   "source": [
    "list_val = [{\"a\" : [\"aa\",\"bb\",\"cc\"]}, \n",
    "            {\"b\" : [\"a\",\"b\",\"c\"]}]\n",
    "list_val"
   ]
  },
  {
   "cell_type": "code",
   "execution_count": 162,
   "metadata": {},
   "outputs": [
    {
     "data": {
      "text/plain": [
       "[{'a': ['aa', 'bb', 'cc']}, {'b': ['a', 'b', 'c']}]"
      ]
     },
     "execution_count": 162,
     "metadata": {},
     "output_type": "execute_result"
    }
   ],
   "source": [
    "dict1 = {\"a\" : [\"aa\",\"bb\",\"cc\"]}\n",
    "dict2 = {\"b\" : [\"a\",\"b\",\"c\"]}\n",
    "list_val2 = [dict1, dict2]\n",
    "list_val2"
   ]
  },
  {
   "cell_type": "code",
   "execution_count": 163,
   "metadata": {},
   "outputs": [
    {
     "name": "stdout",
     "output_type": "stream",
     "text": [
      "{'a': ['aa', 'bb', 'cc']}\n",
      "['aa', 'bb', 'cc']\n",
      "aa\n",
      "bb\n",
      "cc\n",
      "{'b': ['a', 'b', 'c']}\n",
      "['a', 'b', 'c']\n",
      "a\n",
      "b\n",
      "c\n"
     ]
    }
   ],
   "source": [
    "# list_var 에 들어있는 딕셔너리의 키에 대응하는 값들을 모두 출력\n",
    "for d in list_val:\n",
    "    print(d)\n",
    "    \n",
    "    for k in d:\n",
    "        print(d[k])\n",
    "        \n",
    "        for v in d[k]:\n",
    "            print(v)"
   ]
  },
  {
   "cell_type": "code",
   "execution_count": 164,
   "metadata": {},
   "outputs": [
    {
     "name": "stdout",
     "output_type": "stream",
     "text": [
      "{'a': ['aa', 'bb', 'cc']}\n",
      "['aa', 'bb', 'cc']\n",
      "aa\n",
      "bb\n",
      "cc\n",
      "{'b': ['a', 'b', 'c']}\n",
      "['a', 'b', 'c']\n",
      "a\n",
      "b\n",
      "c\n",
      "['bb', 'b']\n"
     ]
    }
   ],
   "source": [
    "# list_val에 들어있는 딕셔너리의 키에 대응하는 값중에\n",
    "# \"b\" 라는 단어가 들어 있으면 해당 키에 대응하는 값을\n",
    "# list_temp 라는 리스트 변수에 담아주세요\n",
    "# list_temp 에 값이 잘 담겨져 있는지 출력하세요\n",
    "list_temp = []\n",
    "\n",
    "for d in list_val:\n",
    "    print(d)\n",
    "    \n",
    "    for k in d:\n",
    "        print(d[k])\n",
    " \n",
    "        for v in d[k]:\n",
    "            print(v)\n",
    "\n",
    "            # if v[0] == \"b\":\n",
    "            #     list_temp.append(v)\n",
    "            \n",
    "            # if \"b\" in v :\n",
    "            #     list_temp.append(v)\n",
    "\n",
    "            if v.find(\"b\") >= 0:\n",
    "                list_temp.append(v)\n",
    "\n",
    "print(list_temp)"
   ]
  },
  {
   "cell_type": "code",
   "execution_count": 165,
   "metadata": {},
   "outputs": [
    {
     "data": {
      "text/plain": [
       "2"
      ]
     },
     "execution_count": 165,
     "metadata": {},
     "output_type": "execute_result"
    }
   ],
   "source": [
    "len(list_val)"
   ]
  },
  {
   "cell_type": "code",
   "execution_count": 166,
   "metadata": {},
   "outputs": [
    {
     "name": "stdout",
     "output_type": "stream",
     "text": [
      "{'a': ['aa', 'bb', 'cc']}\n",
      "{'b': ['a', 'b', 'c']}\n"
     ]
    }
   ],
   "source": [
    "for i in range(0, len(list_val)):\n",
    "    print(list_val[i])"
   ]
  },
  {
   "cell_type": "code",
   "execution_count": 167,
   "metadata": {},
   "outputs": [
    {
     "name": "stdout",
     "output_type": "stream",
     "text": [
      "{'a': ['aa', 'bb', 'cc']}\n",
      "{'b': ['a', 'b', 'c']}\n"
     ]
    }
   ],
   "source": [
    "for v in list_val:\n",
    "    print(v)"
   ]
  }
 ],
 "metadata": {
  "interpreter": {
   "hash": "38ae1ba9371524da054e8e3fbefd778d16b5a8ac7937a3f395010f627bb73919"
  },
  "kernelspec": {
   "display_name": "Python 3 (ipykernel)",
   "language": "python",
   "name": "python3"
  },
  "language_info": {
   "codemirror_mode": {
    "name": "ipython",
    "version": 3
   },
   "file_extension": ".py",
   "mimetype": "text/x-python",
   "name": "python",
   "nbconvert_exporter": "python",
   "pygments_lexer": "ipython3",
   "version": "3.9.12"
  }
 },
 "nbformat": 4,
 "nbformat_minor": 4
}
