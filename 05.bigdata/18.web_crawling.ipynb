{
 "cells": [
  {
   "cell_type": "markdown",
   "metadata": {},
   "source": [
    "### 웹 크롤링"
   ]
  },
  {
   "cell_type": "code",
   "execution_count": 89,
   "metadata": {},
   "outputs": [],
   "source": [
    "import pandas as pd\n",
    "from bs4 import BeautifulSoup as bs\n",
    "import requests"
   ]
  },
  {
   "cell_type": "markdown",
   "metadata": {},
   "source": [
    "### 웹드라이버 라이브러리"
   ]
  },
  {
   "cell_type": "code",
   "execution_count": 90,
   "metadata": {},
   "outputs": [],
   "source": [
    "# conda install -c conda-forge selenium\n",
    "from selenium import webdriver"
   ]
  },
  {
   "cell_type": "code",
   "execution_count": 91,
   "metadata": {},
   "outputs": [
    {
     "name": "stderr",
     "output_type": "stream",
     "text": [
      "C:\\Users\\admin\\AppData\\Local\\Temp\\ipykernel_7604\\2421840669.py:1: DeprecationWarning: executable_path has been deprecated, please pass in a Service object\n",
      "  driver = webdriver.Chrome('C:/ChromeDriver_exe/chromedriver_102.exe')\n"
     ]
    }
   ],
   "source": [
    "driver = webdriver.Chrome('C:/ChromeDriver_exe/chromedriver_102.exe')"
   ]
  },
  {
   "cell_type": "code",
   "execution_count": 92,
   "metadata": {},
   "outputs": [
    {
     "ename": "WebDriverException",
     "evalue": "Message: chrome not reachable\n  (Session info: chrome=102.0.5005.115)\nStacktrace:\nBacktrace:\n\tOrdinal0 [0x00A9D953+2414931]\n\tOrdinal0 [0x00A2F5E1+1963489]\n\tOrdinal0 [0x0091C580+836992]\n\tOrdinal0 [0x009101E2+786914]\n\tOrdinal0 [0x00910A18+789016]\n\tOrdinal0 [0x009122F2+795378]\n\tOrdinal0 [0x0090BCA9+769193]\n\tOrdinal0 [0x0091DA30+842288]\n\tOrdinal0 [0x00973FF2+1196018]\n\tOrdinal0 [0x009642B6+1131190]\n\tOrdinal0 [0x0093E860+976992]\n\tOrdinal0 [0x0093F756+980822]\n\tGetHandleVerifier [0x00D0CC62+2510274]\n\tGetHandleVerifier [0x00CFF760+2455744]\n\tGetHandleVerifier [0x00B2EABA+551962]\n\tGetHandleVerifier [0x00B2D916+547446]\n\tOrdinal0 [0x00A35F3B+1990459]\n\tOrdinal0 [0x00A3A898+2009240]\n\tOrdinal0 [0x00A3A985+2009477]\n\tOrdinal0 [0x00A43AD1+2046673]\n\tBaseThreadInitThunk [0x753BFA29+25]\n\tRtlGetAppContainerNamedObjectPath [0x76FA7A9E+286]\n\tRtlGetAppContainerNamedObjectPath [0x76FA7A6E+238]\n",
     "output_type": "error",
     "traceback": [
      "\u001b[1;31m---------------------------------------------------------------------------\u001b[0m",
      "\u001b[1;31mWebDriverException\u001b[0m                        Traceback (most recent call last)",
      "\u001b[1;32mc:\\Users\\admin\\STUDY\\StudyPython\\05.bigdata\\18.web_crawling.ipynb Cell 6'\u001b[0m in \u001b[0;36m<cell line: 1>\u001b[1;34m()\u001b[0m\n\u001b[1;32m----> <a href='vscode-notebook-cell:/c%3A/Users/admin/STUDY/StudyPython/05.bigdata/18.web_crawling.ipynb#ch0000006?line=0'>1</a>\u001b[0m driver\u001b[39m.\u001b[39;49mget(\u001b[39m'\u001b[39;49m\u001b[39mhttp://www.naver.com\u001b[39;49m\u001b[39m'\u001b[39;49m)\n",
      "File \u001b[1;32mc:\\Users\\admin\\anaconda3\\lib\\site-packages\\selenium\\webdriver\\remote\\webdriver.py:442\u001b[0m, in \u001b[0;36mWebDriver.get\u001b[1;34m(self, url)\u001b[0m\n\u001b[0;32m    438\u001b[0m \u001b[39mdef\u001b[39;00m \u001b[39mget\u001b[39m(\u001b[39mself\u001b[39m, url: \u001b[39mstr\u001b[39m) \u001b[39m-\u001b[39m\u001b[39m>\u001b[39m \u001b[39mNone\u001b[39;00m:\n\u001b[0;32m    439\u001b[0m     \u001b[39m\"\"\"\u001b[39;00m\n\u001b[0;32m    440\u001b[0m \u001b[39m    Loads a web page in the current browser session.\u001b[39;00m\n\u001b[0;32m    441\u001b[0m \u001b[39m    \"\"\"\u001b[39;00m\n\u001b[1;32m--> 442\u001b[0m     \u001b[39mself\u001b[39;49m\u001b[39m.\u001b[39;49mexecute(Command\u001b[39m.\u001b[39;49mGET, {\u001b[39m'\u001b[39;49m\u001b[39murl\u001b[39;49m\u001b[39m'\u001b[39;49m: url})\n",
      "File \u001b[1;32mc:\\Users\\admin\\anaconda3\\lib\\site-packages\\selenium\\webdriver\\remote\\webdriver.py:430\u001b[0m, in \u001b[0;36mWebDriver.execute\u001b[1;34m(self, driver_command, params)\u001b[0m\n\u001b[0;32m    428\u001b[0m response \u001b[39m=\u001b[39m \u001b[39mself\u001b[39m\u001b[39m.\u001b[39mcommand_executor\u001b[39m.\u001b[39mexecute(driver_command, params)\n\u001b[0;32m    429\u001b[0m \u001b[39mif\u001b[39;00m response:\n\u001b[1;32m--> 430\u001b[0m     \u001b[39mself\u001b[39;49m\u001b[39m.\u001b[39;49merror_handler\u001b[39m.\u001b[39;49mcheck_response(response)\n\u001b[0;32m    431\u001b[0m     response[\u001b[39m'\u001b[39m\u001b[39mvalue\u001b[39m\u001b[39m'\u001b[39m] \u001b[39m=\u001b[39m \u001b[39mself\u001b[39m\u001b[39m.\u001b[39m_unwrap_value(\n\u001b[0;32m    432\u001b[0m         response\u001b[39m.\u001b[39mget(\u001b[39m'\u001b[39m\u001b[39mvalue\u001b[39m\u001b[39m'\u001b[39m, \u001b[39mNone\u001b[39;00m))\n\u001b[0;32m    433\u001b[0m     \u001b[39mreturn\u001b[39;00m response\n",
      "File \u001b[1;32mc:\\Users\\admin\\anaconda3\\lib\\site-packages\\selenium\\webdriver\\remote\\errorhandler.py:247\u001b[0m, in \u001b[0;36mErrorHandler.check_response\u001b[1;34m(self, response)\u001b[0m\n\u001b[0;32m    245\u001b[0m         alert_text \u001b[39m=\u001b[39m value[\u001b[39m'\u001b[39m\u001b[39malert\u001b[39m\u001b[39m'\u001b[39m]\u001b[39m.\u001b[39mget(\u001b[39m'\u001b[39m\u001b[39mtext\u001b[39m\u001b[39m'\u001b[39m)\n\u001b[0;32m    246\u001b[0m     \u001b[39mraise\u001b[39;00m exception_class(message, screen, stacktrace, alert_text)  \u001b[39m# type: ignore[call-arg]  # mypy is not smart enough here\u001b[39;00m\n\u001b[1;32m--> 247\u001b[0m \u001b[39mraise\u001b[39;00m exception_class(message, screen, stacktrace)\n",
      "\u001b[1;31mWebDriverException\u001b[0m: Message: chrome not reachable\n  (Session info: chrome=102.0.5005.115)\nStacktrace:\nBacktrace:\n\tOrdinal0 [0x00A9D953+2414931]\n\tOrdinal0 [0x00A2F5E1+1963489]\n\tOrdinal0 [0x0091C580+836992]\n\tOrdinal0 [0x009101E2+786914]\n\tOrdinal0 [0x00910A18+789016]\n\tOrdinal0 [0x009122F2+795378]\n\tOrdinal0 [0x0090BCA9+769193]\n\tOrdinal0 [0x0091DA30+842288]\n\tOrdinal0 [0x00973FF2+1196018]\n\tOrdinal0 [0x009642B6+1131190]\n\tOrdinal0 [0x0093E860+976992]\n\tOrdinal0 [0x0093F756+980822]\n\tGetHandleVerifier [0x00D0CC62+2510274]\n\tGetHandleVerifier [0x00CFF760+2455744]\n\tGetHandleVerifier [0x00B2EABA+551962]\n\tGetHandleVerifier [0x00B2D916+547446]\n\tOrdinal0 [0x00A35F3B+1990459]\n\tOrdinal0 [0x00A3A898+2009240]\n\tOrdinal0 [0x00A3A985+2009477]\n\tOrdinal0 [0x00A43AD1+2046673]\n\tBaseThreadInitThunk [0x753BFA29+25]\n\tRtlGetAppContainerNamedObjectPath [0x76FA7A9E+286]\n\tRtlGetAppContainerNamedObjectPath [0x76FA7A6E+238]\n"
     ]
    }
   ],
   "source": [
    "driver.get('http://www.naver.com')"
   ]
  },
  {
   "cell_type": "code",
   "execution_count": null,
   "metadata": {},
   "outputs": [],
   "source": [
    "html = \"\"\"\n",
    "<html>\n",
    "<head>\n",
    "<title> 테스트 페이지 입니다 </title>\n",
    "</head>\n",
    "<body>\n",
    "    <h1> 우리동네시장</h1>\n",
    "    <div class = 'sale'>\n",
    "        <p id='fruits1' class='fruits'>\n",
    "            <span class = 'name'> 바나나 </span>\n",
    "            <span class = 'price'> 3000원 </span>\n",
    "            <span class = 'inventory'> 500개 </span>\n",
    "            <span class = 'store'> 가나다상회 </span>\n",
    "            <a href = 'http://bit.ly/forPlaywithData' > 홈페이지 </a>\n",
    "        </p>\n",
    "    </div>\n",
    "        <div class = 'prepare'>\n",
    "            <p id='fruits2' class='fruits'>\n",
    "            <span class ='name'> 파인애플 </span>\n",
    "        </p>\n",
    "    </div>\n",
    "</body>\n",
    "</html> \n",
    "\"\"\""
   ]
  },
  {
   "cell_type": "code",
   "execution_count": null,
   "metadata": {},
   "outputs": [],
   "source": [
    "soup = bs(html, 'html.parser')"
   ]
  },
  {
   "cell_type": "markdown",
   "metadata": {},
   "source": [
    "### 태그 조회 하기 soup.select(태그)"
   ]
  },
  {
   "cell_type": "code",
   "execution_count": null,
   "metadata": {},
   "outputs": [
    {
     "data": {
      "text/plain": [
       "[<span class=\"name\"> 바나나 </span>,\n",
       " <span class=\"price\"> 3000원 </span>,\n",
       " <span class=\"inventory\"> 500개 </span>,\n",
       " <span class=\"store\"> 가나다상회 </span>,\n",
       " <span class=\"name\"> 파인애플 </span>]"
      ]
     },
     "execution_count": 17,
     "metadata": {},
     "output_type": "execute_result"
    }
   ],
   "source": [
    "soup.select('span')"
   ]
  },
  {
   "cell_type": "code",
   "execution_count": null,
   "metadata": {},
   "outputs": [
    {
     "data": {
      "text/plain": [
       "[<p class=\"fruits\" id=\"fruits1\">\n",
       " <span class=\"name\"> 바나나 </span>\n",
       " <span class=\"price\"> 3000원 </span>\n",
       " <span class=\"inventory\"> 500개 </span>\n",
       " <span class=\"store\"> 가나다상회 </span>\n",
       " <a href=\"http://bit.ly/forPlaywithData\"> 홈페이지 </a>\n",
       " </p>,\n",
       " <p class=\"fruits\" id=\"fruits2\">\n",
       " <span class=\"name\"> 파인애플 </span>\n",
       " </p>]"
      ]
     },
     "execution_count": 35,
     "metadata": {},
     "output_type": "execute_result"
    }
   ],
   "source": [
    "soup.select('p')"
   ]
  },
  {
   "cell_type": "markdown",
   "metadata": {},
   "source": [
    "### ID조회 = soup.select('#ID')"
   ]
  },
  {
   "cell_type": "code",
   "execution_count": null,
   "metadata": {},
   "outputs": [
    {
     "data": {
      "text/plain": [
       "[<p class=\"fruits\" id=\"fruits1\">\n",
       " <span class=\"name\"> 바나나 </span>\n",
       " <span class=\"price\"> 3000원 </span>\n",
       " <span class=\"inventory\"> 500개 </span>\n",
       " <span class=\"store\"> 가나다상회 </span>\n",
       " <a href=\"http://bit.ly/forPlaywithData\"> 홈페이지 </a>\n",
       " </p>]"
      ]
     },
     "execution_count": 36,
     "metadata": {},
     "output_type": "execute_result"
    }
   ],
   "source": [
    "soup.select('#fruits1')"
   ]
  },
  {
   "cell_type": "markdown",
   "metadata": {},
   "source": [
    "### Class조회 = soup.select('.class')\n"
   ]
  },
  {
   "cell_type": "code",
   "execution_count": null,
   "metadata": {},
   "outputs": [
    {
     "data": {
      "text/plain": [
       "[<span class=\"price\"> 3000원 </span>]"
      ]
     },
     "execution_count": 40,
     "metadata": {},
     "output_type": "execute_result"
    }
   ],
   "source": [
    "soup.select('.price')"
   ]
  },
  {
   "cell_type": "code",
   "execution_count": null,
   "metadata": {},
   "outputs": [
    {
     "data": {
      "text/plain": [
       "[<span class=\"name\"> 바나나 </span>, <span class=\"name\"> 파인애플 </span>]"
      ]
     },
     "execution_count": 41,
     "metadata": {},
     "output_type": "execute_result"
    }
   ],
   "source": [
    "soup.select('span.name')"
   ]
  },
  {
   "cell_type": "markdown",
   "metadata": {},
   "source": [
    "### 자식 태그 조회 = > soup.select('부모태그 > 자식태그')"
   ]
  },
  {
   "cell_type": "code",
   "execution_count": null,
   "metadata": {},
   "outputs": [
    {
     "data": {
      "text/plain": [
       "[<span class=\"name\"> 바나나 </span>]"
      ]
     },
     "execution_count": 51,
     "metadata": {},
     "output_type": "execute_result"
    }
   ],
   "source": [
    "soup.select('#fruits1 > span.name')"
   ]
  },
  {
   "cell_type": "code",
   "execution_count": null,
   "metadata": {},
   "outputs": [
    {
     "data": {
      "text/plain": [
       "[<span class=\"name\"> 바나나 </span>]"
      ]
     },
     "execution_count": 58,
     "metadata": {},
     "output_type": "execute_result"
    }
   ],
   "source": [
    "# 태그명이 div이면서 클래스이름이 sale인 태그의 자식 중에 id가 furits1인 태그 밑에 있는 \n",
    "# 자식에 대한 태그명이 span이면서 클래스 이름이 name인 태그 조회\n",
    "soup.select('div.sale>#fruits1>span.name')"
   ]
  },
  {
   "cell_type": "markdown",
   "metadata": {},
   "source": [
    "### 자손 태그 조회 = soup.select('부모 공백 자손')"
   ]
  },
  {
   "cell_type": "code",
   "execution_count": null,
   "metadata": {},
   "outputs": [
    {
     "data": {
      "text/plain": [
       "[<span class=\"name\"> 바나나 </span>]"
      ]
     },
     "execution_count": 65,
     "metadata": {},
     "output_type": "execute_result"
    }
   ],
   "source": [
    "soup.select('div.sale span.name')"
   ]
  },
  {
   "cell_type": "markdown",
   "metadata": {},
   "source": [
    "### 텍스트로 변환 select는 리스트이므로 인덱싱 한후.text"
   ]
  },
  {
   "cell_type": "code",
   "execution_count": null,
   "metadata": {},
   "outputs": [
    {
     "data": {
      "text/plain": [
       "' 바나나 '"
      ]
     },
     "execution_count": 68,
     "metadata": {},
     "output_type": "execute_result"
    }
   ],
   "source": [
    "soup.select('div.sale span.name')[0].text"
   ]
  },
  {
   "cell_type": "code",
   "execution_count": null,
   "metadata": {},
   "outputs": [
    {
     "data": {
      "text/plain": [
       "['name']"
      ]
     },
     "execution_count": 76,
     "metadata": {},
     "output_type": "execute_result"
    }
   ],
   "source": [
    "# 태그내 값은 딕셔너리\n",
    "soup.select('div.sale span.name')[0]['class']"
   ]
  },
  {
   "cell_type": "code",
   "execution_count": null,
   "metadata": {},
   "outputs": [
    {
     "data": {
      "text/plain": [
       "'http://bit.ly/forPlaywithData'"
      ]
     },
     "execution_count": 83,
     "metadata": {},
     "output_type": "execute_result"
    }
   ],
   "source": [
    "soup.select('a')[0]['href']"
   ]
  }
 ],
 "metadata": {
  "kernelspec": {
   "display_name": "Python 3.9.12 ('base')",
   "language": "python",
   "name": "python3"
  },
  "language_info": {
   "codemirror_mode": {
    "name": "ipython",
    "version": 3
   },
   "file_extension": ".py",
   "mimetype": "text/x-python",
   "name": "python",
   "nbconvert_exporter": "python",
   "pygments_lexer": "ipython3",
   "version": "3.9.12"
  },
  "orig_nbformat": 4,
  "vscode": {
   "interpreter": {
    "hash": "610a6f344c2137faf927ea819c63f6cee33a2c04455044b28099f39fe9722347"
   }
  }
 },
 "nbformat": 4,
 "nbformat_minor": 2
}
