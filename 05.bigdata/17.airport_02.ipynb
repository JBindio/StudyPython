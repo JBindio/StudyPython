{
 "cells": [
  {
   "cell_type": "code",
   "execution_count": 1,
   "metadata": {},
   "outputs": [],
   "source": [
    "import pandas as pd\n",
    "from bs4 import BeautifulSoup\n",
    "import requests"
   ]
  },
  {
   "cell_type": "markdown",
   "metadata": {},
   "source": [
    "### OpenAPI 방식"
   ]
  },
  {
   "cell_type": "code",
   "execution_count": 152,
   "metadata": {},
   "outputs": [
    {
     "name": "stderr",
     "output_type": "stream",
     "text": [
      "c:\\Users\\admin\\anaconda3\\lib\\site-packages\\bs4\\builder\\__init__.py:545: XMLParsedAsHTMLWarning: It looks like you're parsing an XML document using an HTML parser. If this really is an HTML document (maybe it's XHTML?), you can ignore or filter this warning. If it's XML, you should know that using an XML parser will be more reliable. To parse this document as XML, make sure you have the lxml package installed, and pass the keyword argument `features=\"xml\"` into the BeautifulSoup constructor.\n",
      "  warnings.warn(\n"
     ]
    },
    {
     "ename": "ValueError",
     "evalue": "Shape of passed values is (7, 1), indices imply (7, 7)",
     "output_type": "error",
     "traceback": [
      "\u001b[1;31m---------------------------------------------------------------------------\u001b[0m",
      "\u001b[1;31mValueError\u001b[0m                                Traceback (most recent call last)",
      "\u001b[1;32mc:\\Users\\admin\\STUDY\\StudyPython\\05.bigdata\\17.airport_02.ipynb Cell 3'\u001b[0m in \u001b[0;36m<cell line: 14>\u001b[1;34m()\u001b[0m\n\u001b[0;32m     <a href='vscode-notebook-cell:/c%3A/Users/admin/STUDY/StudyPython/05.bigdata/17.airport_02.ipynb#ch0000002?line=34'>35</a>\u001b[0m         list_all \u001b[39m=\u001b[39m []\n\u001b[0;32m     <a href='vscode-notebook-cell:/c%3A/Users/admin/STUDY/StudyPython/05.bigdata/17.airport_02.ipynb#ch0000002?line=35'>36</a>\u001b[0m         list_all\u001b[39m.\u001b[39mappend([airporteng_list [i]\u001b[39m.\u001b[39mtext, airportkor_list[i]\u001b[39m.\u001b[39mtext, pk_codenm_list[i]\u001b[39m.\u001b[39mtext, pk_con_list[i]\u001b[39m.\u001b[39mtext,\\\n\u001b[0;32m     <a href='vscode-notebook-cell:/c%3A/Users/admin/STUDY/StudyPython/05.bigdata/17.airport_02.ipynb#ch0000002?line=36'>37</a>\u001b[0m                         pk_con_deg_list [i]\u001b[39m.\u001b[39mtext, pk_occ_space_list[i]\u001b[39m.\u001b[39mtext, pk_total_space_list[i]\u001b[39m.\u001b[39mtext])\n\u001b[1;32m---> <a href='vscode-notebook-cell:/c%3A/Users/admin/STUDY/StudyPython/05.bigdata/17.airport_02.ipynb#ch0000002?line=37'>38</a>\u001b[0m     new_df \u001b[39m=\u001b[39m pd\u001b[39m.\u001b[39;49mDataFrame(list_all[\u001b[39m0\u001b[39;49m],columns\u001b[39m=\u001b[39;49mcol_nm)\n\u001b[0;32m     <a href='vscode-notebook-cell:/c%3A/Users/admin/STUDY/StudyPython/05.bigdata/17.airport_02.ipynb#ch0000002?line=38'>39</a>\u001b[0m new_df\n",
      "File \u001b[1;32mc:\\Users\\admin\\anaconda3\\lib\\site-packages\\pandas\\core\\frame.py:737\u001b[0m, in \u001b[0;36mDataFrame.__init__\u001b[1;34m(self, data, index, columns, dtype, copy)\u001b[0m\n\u001b[0;32m    729\u001b[0m         mgr \u001b[39m=\u001b[39m arrays_to_mgr(\n\u001b[0;32m    730\u001b[0m             arrays,\n\u001b[0;32m    731\u001b[0m             columns,\n\u001b[1;32m   (...)\u001b[0m\n\u001b[0;32m    734\u001b[0m             typ\u001b[39m=\u001b[39mmanager,\n\u001b[0;32m    735\u001b[0m         )\n\u001b[0;32m    736\u001b[0m     \u001b[39melse\u001b[39;00m:\n\u001b[1;32m--> 737\u001b[0m         mgr \u001b[39m=\u001b[39m ndarray_to_mgr(\n\u001b[0;32m    738\u001b[0m             data,\n\u001b[0;32m    739\u001b[0m             index,\n\u001b[0;32m    740\u001b[0m             columns,\n\u001b[0;32m    741\u001b[0m             dtype\u001b[39m=\u001b[39;49mdtype,\n\u001b[0;32m    742\u001b[0m             copy\u001b[39m=\u001b[39;49mcopy,\n\u001b[0;32m    743\u001b[0m             typ\u001b[39m=\u001b[39;49mmanager,\n\u001b[0;32m    744\u001b[0m         )\n\u001b[0;32m    745\u001b[0m \u001b[39melse\u001b[39;00m:\n\u001b[0;32m    746\u001b[0m     mgr \u001b[39m=\u001b[39m dict_to_mgr(\n\u001b[0;32m    747\u001b[0m         {},\n\u001b[0;32m    748\u001b[0m         index,\n\u001b[1;32m   (...)\u001b[0m\n\u001b[0;32m    751\u001b[0m         typ\u001b[39m=\u001b[39mmanager,\n\u001b[0;32m    752\u001b[0m     )\n",
      "File \u001b[1;32mc:\\Users\\admin\\anaconda3\\lib\\site-packages\\pandas\\core\\internals\\construction.py:351\u001b[0m, in \u001b[0;36mndarray_to_mgr\u001b[1;34m(values, index, columns, dtype, copy, typ)\u001b[0m\n\u001b[0;32m    346\u001b[0m \u001b[39m# _prep_ndarray ensures that values.ndim == 2 at this point\u001b[39;00m\n\u001b[0;32m    347\u001b[0m index, columns \u001b[39m=\u001b[39m _get_axes(\n\u001b[0;32m    348\u001b[0m     values\u001b[39m.\u001b[39mshape[\u001b[39m0\u001b[39m], values\u001b[39m.\u001b[39mshape[\u001b[39m1\u001b[39m], index\u001b[39m=\u001b[39mindex, columns\u001b[39m=\u001b[39mcolumns\n\u001b[0;32m    349\u001b[0m )\n\u001b[1;32m--> 351\u001b[0m _check_values_indices_shape_match(values, index, columns)\n\u001b[0;32m    353\u001b[0m \u001b[39mif\u001b[39;00m typ \u001b[39m==\u001b[39m \u001b[39m\"\u001b[39m\u001b[39marray\u001b[39m\u001b[39m\"\u001b[39m:\n\u001b[0;32m    355\u001b[0m     \u001b[39mif\u001b[39;00m \u001b[39missubclass\u001b[39m(values\u001b[39m.\u001b[39mdtype\u001b[39m.\u001b[39mtype, \u001b[39mstr\u001b[39m):\n",
      "File \u001b[1;32mc:\\Users\\admin\\anaconda3\\lib\\site-packages\\pandas\\core\\internals\\construction.py:422\u001b[0m, in \u001b[0;36m_check_values_indices_shape_match\u001b[1;34m(values, index, columns)\u001b[0m\n\u001b[0;32m    420\u001b[0m passed \u001b[39m=\u001b[39m values\u001b[39m.\u001b[39mshape\n\u001b[0;32m    421\u001b[0m implied \u001b[39m=\u001b[39m (\u001b[39mlen\u001b[39m(index), \u001b[39mlen\u001b[39m(columns))\n\u001b[1;32m--> 422\u001b[0m \u001b[39mraise\u001b[39;00m \u001b[39mValueError\u001b[39;00m(\u001b[39mf\u001b[39m\u001b[39m\"\u001b[39m\u001b[39mShape of passed values is \u001b[39m\u001b[39m{\u001b[39;00mpassed\u001b[39m}\u001b[39;00m\u001b[39m, indices imply \u001b[39m\u001b[39m{\u001b[39;00mimplied\u001b[39m}\u001b[39;00m\u001b[39m\"\u001b[39m)\n",
      "\u001b[1;31mValueError\u001b[0m: Shape of passed values is (7, 1), indices imply (7, 7)"
     ]
    }
   ],
   "source": [
    "# URL 코드정리(xml 형태)\n",
    "\n",
    "apikey = \"PVdeh44WlF%2BHj6bGzfI2BXUldlea7Ggo%2FjjXvhbHCMNNFotchb2byGTopt4uAFS07RQzqmeU3M2Y8HcMmlYW9w%3D%3D\"\n",
    "\n",
    "pageNO = 1\n",
    "numOfRows = 10\n",
    "schAirportCode = ['GMP', 'PUS', 'CJU', 'TAE', 'KWJ', 'RSU', 'USN', 'KUV', 'WJU', 'CJJ']\n",
    "code = 'GMP'\n",
    "api = '''http://openapi.airport.co.kr/service/rest/AirportParkingCongestion/airportParkingCongestionRT?schAirportCode={aircode}&serviceKey={key}&numOfRows={row}&pageNo={no}'''\n",
    "\n",
    "col_nm = ['공항명(영문)', '공항명(국문)', '주차장명', '주차장 혼잡도', '주차장 혼잡률', '입고된 차량 수', '전체 주차면 수']\n",
    "new_df = pd.DataFrame(columns=col_nm)\n",
    "\n",
    "for i in range(len(schAirportCode)):\n",
    "    url = api.format(aircode = schAirportCode[i],\n",
    "                     key = apikey,\n",
    "                     no = pageNO,\n",
    "                     row = numOfRows,)\n",
    "\n",
    "    res = requests.get(url)\n",
    "    res = res.text\n",
    "    soup = BeautifulSoup(res, 'html.parser')\n",
    "    \n",
    "    airporteng_list = soup.find_all('airporteng')\n",
    "    airportkor_list = soup.find_all('airportkor')\n",
    "    pk_codenm_list = soup.find_all('parkingairportcodename')\n",
    "    pk_con_list = soup.find_all('parkingcongestion')\n",
    "    pk_con_deg_list = soup.find_all('parkingcongestiondegree')\n",
    "    pk_occ_space_list = soup.find_all('parkingoccupiedspace')\n",
    "    pk_total_space_list = soup.find_all('parkingtotalspace')\n",
    "    \n",
    "\n",
    "\n",
    "    for i in range(len(airporteng_list)):\n",
    "        list_all = []\n",
    "        list_all.append([airporteng_list [i].text, airportkor_list[i].text, pk_codenm_list[i].text, pk_con_list[i].text,\\\n",
    "                        pk_con_deg_list [i].text, pk_occ_space_list[i].text, pk_total_space_list[i].text])\n",
    "    new_df = pd.DataFrame(list_all[0],columns=col_nm)\n",
    "new_df\n",
    "        # for c in range(len(list_all)):\n",
    "        #     final_df = pd.concat([new_df,list_all[c]])\n",
    "# final_df"
   ]
  },
  {
   "cell_type": "code",
   "execution_count": 36,
   "metadata": {},
   "outputs": [],
   "source": [
    "airporteng_list = soup.find_all('airporteng')\n",
    "airportkor_list = soup.find_all('airportkor')\n",
    "pk_codenm_list = soup.find_all('parkingairportcodename')\n",
    "pk_con_list = soup.find_all('parkingcongestion')\n",
    "pk_con_deg_list = soup.find_all('parkingcongestiondegree')\n",
    "pk_occ_space_list = soup.find_all('parkingoccupiedspace')\n",
    "pk_total_space_list = soup.find_all('parkingtotalspace')"
   ]
  },
  {
   "cell_type": "code",
   "execution_count": 40,
   "metadata": {},
   "outputs": [
    {
     "data": {
      "text/plain": [
       "2"
      ]
     },
     "execution_count": 40,
     "metadata": {},
     "output_type": "execute_result"
    }
   ],
   "source": [
    "date_list = soup.find_all('sysgetdate')\n",
    "len(date_list)"
   ]
  },
  {
   "cell_type": "code",
   "execution_count": 38,
   "metadata": {},
   "outputs": [],
   "source": [
    "time_list = soup.find_all('sysgettime')"
   ]
  },
  {
   "cell_type": "code",
   "execution_count": 39,
   "metadata": {},
   "outputs": [
    {
     "data": {
      "text/plain": [
       "[['CHEONGJU INTERNATIONAL AIRPORT',\n",
       "  '청주국제공항',\n",
       "  '제1주차장',\n",
       "  '만차',\n",
       "  '97.28%',\n",
       "  '2143',\n",
       "  '2203'],\n",
       " ['CHEONGJU INTERNATIONAL AIRPORT',\n",
       "  '청주국제공항',\n",
       "  '제2주차장',\n",
       "  '원활',\n",
       "  '69.29%',\n",
       "  '1180',\n",
       "  '1703']]"
      ]
     },
     "execution_count": 39,
     "metadata": {},
     "output_type": "execute_result"
    }
   ],
   "source": [
    "list_all = []\n",
    "\n",
    "for i in range(len(airporteng_list)):\n",
    "    list_all.append([airporteng_list [i].text, airportkor_list[i].text, pk_codenm_list[i].text, pk_con_list[i].text,\\\n",
    "                     pk_con_deg_list [i].text, pk_occ_space_list[i].text, pk_total_space_list[i].text])\n",
    "\n",
    "list_all"
   ]
  },
  {
   "cell_type": "code",
   "execution_count": null,
   "metadata": {},
   "outputs": [
    {
     "data": {
      "text/html": [
       "<div>\n",
       "<style scoped>\n",
       "    .dataframe tbody tr th:only-of-type {\n",
       "        vertical-align: middle;\n",
       "    }\n",
       "\n",
       "    .dataframe tbody tr th {\n",
       "        vertical-align: top;\n",
       "    }\n",
       "\n",
       "    .dataframe thead th {\n",
       "        text-align: right;\n",
       "    }\n",
       "</style>\n",
       "<table border=\"1\" class=\"dataframe\">\n",
       "  <thead>\n",
       "    <tr style=\"text-align: right;\">\n",
       "      <th></th>\n",
       "      <th>공항명(영문)</th>\n",
       "      <th>공항명(국문)</th>\n",
       "      <th>주차장명</th>\n",
       "      <th>주차장 혼잡도</th>\n",
       "      <th>주차장 혼잡률</th>\n",
       "      <th>입고된 차량 수</th>\n",
       "      <th>전체 주차면 수</th>\n",
       "    </tr>\n",
       "  </thead>\n",
       "  <tbody>\n",
       "    <tr>\n",
       "      <th>0</th>\n",
       "      <td>GIMPO INTERNATIONAL AIRPORT</td>\n",
       "      <td>김포국제공항</td>\n",
       "      <td>[상세]예약주차장</td>\n",
       "      <td>원활</td>\n",
       "      <td>15.06%</td>\n",
       "      <td>50</td>\n",
       "      <td>332</td>\n",
       "    </tr>\n",
       "    <tr>\n",
       "      <th>1</th>\n",
       "      <td>GIMPO INTERNATIONAL AIRPORT</td>\n",
       "      <td>김포국제공항</td>\n",
       "      <td>국내선 제1주차장</td>\n",
       "      <td>혼잡</td>\n",
       "      <td>91.09%</td>\n",
       "      <td>2076</td>\n",
       "      <td>2279</td>\n",
       "    </tr>\n",
       "    <tr>\n",
       "      <th>2</th>\n",
       "      <td>GIMPO INTERNATIONAL AIRPORT</td>\n",
       "      <td>김포국제공항</td>\n",
       "      <td>국내선 제2주차장</td>\n",
       "      <td>원활</td>\n",
       "      <td>89.69%</td>\n",
       "      <td>1566</td>\n",
       "      <td>1746</td>\n",
       "    </tr>\n",
       "    <tr>\n",
       "      <th>3</th>\n",
       "      <td>GIMPO INTERNATIONAL AIRPORT</td>\n",
       "      <td>김포국제공항</td>\n",
       "      <td>국제선 주차빌딩</td>\n",
       "      <td>원활</td>\n",
       "      <td>0%</td>\n",
       "      <td>0</td>\n",
       "      <td>567</td>\n",
       "    </tr>\n",
       "    <tr>\n",
       "      <th>4</th>\n",
       "      <td>GIMPO INTERNATIONAL AIRPORT</td>\n",
       "      <td>김포국제공항</td>\n",
       "      <td>국제선 지하주차장</td>\n",
       "      <td>원활</td>\n",
       "      <td>18.92%</td>\n",
       "      <td>227</td>\n",
       "      <td>1200</td>\n",
       "    </tr>\n",
       "    <tr>\n",
       "      <th>5</th>\n",
       "      <td>GIMPO INTERNATIONAL AIRPORT</td>\n",
       "      <td>김포국제공항</td>\n",
       "      <td>화물청사 주차장</td>\n",
       "      <td>원활</td>\n",
       "      <td>54.79%</td>\n",
       "      <td>623</td>\n",
       "      <td>1137</td>\n",
       "    </tr>\n",
       "  </tbody>\n",
       "</table>\n",
       "</div>"
      ],
      "text/plain": [
       "                       공항명(영문) 공항명(국문)       주차장명 주차장 혼잡도 주차장 혼잡률 입고된 차량 수  \\\n",
       "0  GIMPO INTERNATIONAL AIRPORT  김포국제공항  [상세]예약주차장      원활  15.06%       50   \n",
       "1  GIMPO INTERNATIONAL AIRPORT  김포국제공항  국내선 제1주차장      혼잡  91.09%     2076   \n",
       "2  GIMPO INTERNATIONAL AIRPORT  김포국제공항  국내선 제2주차장      원활  89.69%     1566   \n",
       "3  GIMPO INTERNATIONAL AIRPORT  김포국제공항   국제선 주차빌딩      원활      0%        0   \n",
       "4  GIMPO INTERNATIONAL AIRPORT  김포국제공항  국제선 지하주차장      원활  18.92%      227   \n",
       "5  GIMPO INTERNATIONAL AIRPORT  김포국제공항   화물청사 주차장      원활  54.79%      623   \n",
       "\n",
       "  전체 주차면 수  \n",
       "0      332  \n",
       "1     2279  \n",
       "2     1746  \n",
       "3      567  \n",
       "4     1200  \n",
       "5     1137  "
      ]
     },
     "execution_count": 77,
     "metadata": {},
     "output_type": "execute_result"
    }
   ],
   "source": [
    "col_nm = ['공항명(영문)', '공항명(국문)', '주차장명', '주차장 혼잡도', '주차장 혼잡률', '입고된 차량 수', '전체 주차면 수']\n",
    "new_df = pd.DataFrame(list_all, columns=col_nm)\n",
    "new_df"
   ]
  }
 ],
 "metadata": {
  "kernelspec": {
   "display_name": "Python 3.9.12 ('base')",
   "language": "python",
   "name": "python3"
  },
  "language_info": {
   "codemirror_mode": {
    "name": "ipython",
    "version": 3
   },
   "file_extension": ".py",
   "mimetype": "text/x-python",
   "name": "python",
   "nbconvert_exporter": "python",
   "pygments_lexer": "ipython3",
   "version": "3.9.12"
  },
  "orig_nbformat": 4,
  "vscode": {
   "interpreter": {
    "hash": "610a6f344c2137faf927ea819c63f6cee33a2c04455044b28099f39fe9722347"
   }
  }
 },
 "nbformat": 4,
 "nbformat_minor": 2
}
