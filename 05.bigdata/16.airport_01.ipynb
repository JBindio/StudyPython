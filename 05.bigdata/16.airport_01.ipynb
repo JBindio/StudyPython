{
 "cells": [
  {
   "cell_type": "code",
   "execution_count": 1,
   "metadata": {},
   "outputs": [],
   "source": [
    "import pandas as pd\n",
    "from bs4 import BeautifulSoup\n",
    "import requests"
   ]
  },
  {
   "cell_type": "markdown",
   "metadata": {},
   "source": [
    "### OpenAPI 방식"
   ]
  },
  {
   "cell_type": "code",
   "execution_count": 21,
   "metadata": {},
   "outputs": [
    {
     "name": "stdout",
     "output_type": "stream",
     "text": [
      "b'<?xml version=\"1.0\" encoding=\"UTF-8\" standalone=\"yes\"?><response><header><resultCode>00</resultCode><resultMsg>NORMAL SERVICE.</resultMsg></header><body><items><item><airportEng>GIMPO INTERNATIONAL AIRPORT</airportEng><airportKor>\\xea\\xb9\\x80\\xed\\x8f\\xac\\xea\\xb5\\xad\\xec\\xa0\\x9c\\xea\\xb3\\xb5\\xed\\x95\\xad</airportKor><parkingAirportCodeName>[\\xec\\x83\\x81\\xec\\x84\\xb8]\\xec\\x98\\x88\\xec\\x95\\xbd\\xec\\xa3\\xbc\\xec\\xb0\\xa8\\xec\\x9e\\xa5</parkingAirportCodeName><parkingCongestion>\\xec\\x9b\\x90\\xed\\x99\\x9c</parkingCongestion><parkingCongestionDegree>19.58%</parkingCongestionDegree><parkingOccupiedSpace>65</parkingOccupiedSpace><parkingTotalSpace>332</parkingTotalSpace><sysGetdate>2022-06-20</sysGetdate><sysGettime>17:38:03</sysGettime></item><item><airportEng>GIMPO INTERNATIONAL AIRPORT</airportEng><airportKor>\\xea\\xb9\\x80\\xed\\x8f\\xac\\xea\\xb5\\xad\\xec\\xa0\\x9c\\xea\\xb3\\xb5\\xed\\x95\\xad</airportKor><parkingAirportCodeName>\\xea\\xb5\\xad\\xeb\\x82\\xb4\\xec\\x84\\xa0 \\xec\\xa0\\x9c1\\xec\\xa3\\xbc\\xec\\xb0\\xa8\\xec\\x9e\\xa5</parkingAirportCodeName><parkingCongestion>\\xec\\x9b\\x90\\xed\\x99\\x9c</parkingCongestion><parkingCongestionDegree>86.22%</parkingCongestionDegree><parkingOccupiedSpace>1965</parkingOccupiedSpace><parkingTotalSpace>2279</parkingTotalSpace><sysGetdate>2022-06-20</sysGetdate><sysGettime>17:38:03</sysGettime></item><item><airportEng>GIMPO INTERNATIONAL AIRPORT</airportEng><airportKor>\\xea\\xb9\\x80\\xed\\x8f\\xac\\xea\\xb5\\xad\\xec\\xa0\\x9c\\xea\\xb3\\xb5\\xed\\x95\\xad</airportKor><parkingAirportCodeName>\\xea\\xb5\\xad\\xeb\\x82\\xb4\\xec\\x84\\xa0 \\xec\\xa0\\x9c2\\xec\\xa3\\xbc\\xec\\xb0\\xa8\\xec\\x9e\\xa5</parkingAirportCodeName><parkingCongestion>\\xec\\x9b\\x90\\xed\\x99\\x9c</parkingCongestion><parkingCongestionDegree>82.99%</parkingCongestionDegree><parkingOccupiedSpace>1449</parkingOccupiedSpace><parkingTotalSpace>1746</parkingTotalSpace><sysGetdate>2022-06-20</sysGetdate><sysGettime>17:38:03</sysGettime></item><item><airportEng>GIMPO INTERNATIONAL AIRPORT</airportEng><airportKor>\\xea\\xb9\\x80\\xed\\x8f\\xac\\xea\\xb5\\xad\\xec\\xa0\\x9c\\xea\\xb3\\xb5\\xed\\x95\\xad</airportKor><parkingAirportCodeName>\\xea\\xb5\\xad\\xec\\xa0\\x9c\\xec\\x84\\xa0 \\xec\\xa3\\xbc\\xec\\xb0\\xa8\\xeb\\xb9\\x8c\\xeb\\x94\\xa9</parkingAirportCodeName><parkingCongestion>\\xec\\x9b\\x90\\xed\\x99\\x9c</parkingCongestion><parkingCongestionDegree>0%</parkingCongestionDegree><parkingOccupiedSpace>0</parkingOccupiedSpace><parkingTotalSpace>567</parkingTotalSpace><sysGetdate>2022-06-20</sysGetdate><sysGettime>17:38:03</sysGettime></item><item><airportEng>GIMPO INTERNATIONAL AIRPORT</airportEng><airportKor>\\xea\\xb9\\x80\\xed\\x8f\\xac\\xea\\xb5\\xad\\xec\\xa0\\x9c\\xea\\xb3\\xb5\\xed\\x95\\xad</airportKor><parkingAirportCodeName>\\xea\\xb5\\xad\\xec\\xa0\\x9c\\xec\\x84\\xa0 \\xec\\xa7\\x80\\xed\\x95\\x98\\xec\\xa3\\xbc\\xec\\xb0\\xa8\\xec\\x9e\\xa5</parkingAirportCodeName><parkingCongestion>\\xec\\x9b\\x90\\xed\\x99\\x9c</parkingCongestion><parkingCongestionDegree>17.17%</parkingCongestionDegree><parkingOccupiedSpace>206</parkingOccupiedSpace><parkingTotalSpace>1200</parkingTotalSpace><sysGetdate>2022-06-20</sysGetdate><sysGettime>17:38:03</sysGettime></item><item><airportEng>GIMPO INTERNATIONAL AIRPORT</airportEng><airportKor>\\xea\\xb9\\x80\\xed\\x8f\\xac\\xea\\xb5\\xad\\xec\\xa0\\x9c\\xea\\xb3\\xb5\\xed\\x95\\xad</airportKor><parkingAirportCodeName>\\xed\\x99\\x94\\xeb\\xac\\xbc\\xec\\xb2\\xad\\xec\\x82\\xac \\xec\\xa3\\xbc\\xec\\xb0\\xa8\\xec\\x9e\\xa5</parkingAirportCodeName><parkingCongestion>\\xec\\x9b\\x90\\xed\\x99\\x9c</parkingCongestion><parkingCongestionDegree>43.1%</parkingCongestionDegree><parkingOccupiedSpace>490</parkingOccupiedSpace><parkingTotalSpace>1137</parkingTotalSpace><sysGetdate>2022-06-20</sysGetdate><sysGettime>17:38:03</sysGettime></item></items><numOfRows>10</numOfRows><pageNo>1</pageNo><totalCount>6</totalCount></body></response>'\n"
     ]
    }
   ],
   "source": [
    "# URL 코드정리(xml 형태)\n",
    "\n",
    "apikey = \"PVdeh44WlF%2BHj6bGzfI2BXUldlea7Ggo%2FjjXvhbHCMNNFotchb2byGTopt4uAFS07RQzqmeU3M2Y8HcMmlYW9w%3D%3D\"\n",
    "\n",
    "pageNO = 1\n",
    "numOfRows = 10\n",
    "schAirportCode = ['GMP', 'PUS', 'CJU', 'TAE', 'KWJ', 'RSU', 'USN', 'KUV', 'WJU', 'CJJ']\n",
    "code = 'GMP'\n",
    "api = '''http://openapi.airport.co.kr/service/rest/AirportParkingCongestion/airportParkingCongestionRT?schAirportCode={aircode}&serviceKey={key}&numOfRows={row}&pageNo={no}'''\n",
    "\n",
    "url = api.format(aircode = schAirportCode[0],\n",
    "                 key = apikey,\n",
    "                 no = pageNO,\n",
    "                 row = numOfRows,)\n",
    "\n",
    "response = requests.get(url)\n",
    "print(response.content)"
   ]
  },
  {
   "cell_type": "code",
   "execution_count": 22,
   "metadata": {},
   "outputs": [
    {
     "name": "stderr",
     "output_type": "stream",
     "text": [
      "c:\\Users\\admin\\anaconda3\\lib\\site-packages\\bs4\\builder\\__init__.py:545: XMLParsedAsHTMLWarning: It looks like you're parsing an XML document using an HTML parser. If this really is an HTML document (maybe it's XHTML?), you can ignore or filter this warning. If it's XML, you should know that using an XML parser will be more reliable. To parse this document as XML, make sure you have the lxml package installed, and pass the keyword argument `features=\"xml\"` into the BeautifulSoup constructor.\n",
      "  warnings.warn(\n"
     ]
    },
    {
     "data": {
      "text/plain": [
       "<?xml version=\"1.0\" encoding=\"UTF-8\" standalone=\"yes\"?><response><header><resultcode>00</resultcode><resultmsg>NORMAL SERVICE.</resultmsg></header><body><items><item><airporteng>GIMPO INTERNATIONAL AIRPORT</airporteng><airportkor>김포국제공항</airportkor><parkingairportcodename>[상세]예약주차장</parkingairportcodename><parkingcongestion>원활</parkingcongestion><parkingcongestiondegree>19.58%</parkingcongestiondegree><parkingoccupiedspace>65</parkingoccupiedspace><parkingtotalspace>332</parkingtotalspace><sysgetdate>2022-06-20</sysgetdate><sysgettime>17:38:03</sysgettime></item><item><airporteng>GIMPO INTERNATIONAL AIRPORT</airporteng><airportkor>김포국제공항</airportkor><parkingairportcodename>국내선 제1주차장</parkingairportcodename><parkingcongestion>원활</parkingcongestion><parkingcongestiondegree>86.22%</parkingcongestiondegree><parkingoccupiedspace>1965</parkingoccupiedspace><parkingtotalspace>2279</parkingtotalspace><sysgetdate>2022-06-20</sysgetdate><sysgettime>17:38:03</sysgettime></item><item><airporteng>GIMPO INTERNATIONAL AIRPORT</airporteng><airportkor>김포국제공항</airportkor><parkingairportcodename>국내선 제2주차장</parkingairportcodename><parkingcongestion>원활</parkingcongestion><parkingcongestiondegree>82.99%</parkingcongestiondegree><parkingoccupiedspace>1449</parkingoccupiedspace><parkingtotalspace>1746</parkingtotalspace><sysgetdate>2022-06-20</sysgetdate><sysgettime>17:38:03</sysgettime></item><item><airporteng>GIMPO INTERNATIONAL AIRPORT</airporteng><airportkor>김포국제공항</airportkor><parkingairportcodename>국제선 주차빌딩</parkingairportcodename><parkingcongestion>원활</parkingcongestion><parkingcongestiondegree>0%</parkingcongestiondegree><parkingoccupiedspace>0</parkingoccupiedspace><parkingtotalspace>567</parkingtotalspace><sysgetdate>2022-06-20</sysgetdate><sysgettime>17:38:03</sysgettime></item><item><airporteng>GIMPO INTERNATIONAL AIRPORT</airporteng><airportkor>김포국제공항</airportkor><parkingairportcodename>국제선 지하주차장</parkingairportcodename><parkingcongestion>원활</parkingcongestion><parkingcongestiondegree>17.17%</parkingcongestiondegree><parkingoccupiedspace>206</parkingoccupiedspace><parkingtotalspace>1200</parkingtotalspace><sysgetdate>2022-06-20</sysgetdate><sysgettime>17:38:03</sysgettime></item><item><airporteng>GIMPO INTERNATIONAL AIRPORT</airporteng><airportkor>김포국제공항</airportkor><parkingairportcodename>화물청사 주차장</parkingairportcodename><parkingcongestion>원활</parkingcongestion><parkingcongestiondegree>43.1%</parkingcongestiondegree><parkingoccupiedspace>490</parkingoccupiedspace><parkingtotalspace>1137</parkingtotalspace><sysgetdate>2022-06-20</sysgetdate><sysgettime>17:38:03</sysgettime></item></items><numofrows>10</numofrows><pageno>1</pageno><totalcount>6</totalcount></body></response>"
      ]
     },
     "execution_count": 22,
     "metadata": {},
     "output_type": "execute_result"
    }
   ],
   "source": [
    "re = response.text\n",
    "soup = BeautifulSoup(re, 'html.parser')\n",
    "soup"
   ]
  },
  {
   "cell_type": "code",
   "execution_count": 23,
   "metadata": {},
   "outputs": [],
   "source": [
    "airporteng_list = soup.find_all('airporteng')\n",
    "airportkor_list = soup.find_all('airportkor')\n",
    "pk_codenm_list = soup.find_all('parkingairportcodename')\n",
    "pk_con_list = soup.find_all('parkingcongestion')\n",
    "pk_con_deg_list = soup.find_all('parkingcongestiondegree')\n",
    "pk_occ_space_list = soup.find_all('parkingoccupiedspace')\n",
    "pk_total_space_list = soup.find_all('parkingtotalspace')"
   ]
  },
  {
   "cell_type": "code",
   "execution_count": 25,
   "metadata": {},
   "outputs": [
    {
     "data": {
      "text/plain": [
       "6"
      ]
     },
     "execution_count": 25,
     "metadata": {},
     "output_type": "execute_result"
    }
   ],
   "source": [
    "len(pk_total_space_list)"
   ]
  },
  {
   "cell_type": "code",
   "execution_count": 26,
   "metadata": {},
   "outputs": [],
   "source": [
    "date_list = soup.find_all('sysgetdate')"
   ]
  },
  {
   "cell_type": "code",
   "execution_count": 27,
   "metadata": {},
   "outputs": [],
   "source": [
    "time_list = soup.find_all('sysgettime')"
   ]
  },
  {
   "cell_type": "code",
   "execution_count": 28,
   "metadata": {},
   "outputs": [
    {
     "data": {
      "text/plain": [
       "[['GIMPO INTERNATIONAL AIRPORT',\n",
       "  '김포국제공항',\n",
       "  '[상세]예약주차장',\n",
       "  '원활',\n",
       "  '19.58%',\n",
       "  '65',\n",
       "  '332'],\n",
       " ['GIMPO INTERNATIONAL AIRPORT',\n",
       "  '김포국제공항',\n",
       "  '국내선 제1주차장',\n",
       "  '원활',\n",
       "  '86.22%',\n",
       "  '1965',\n",
       "  '2279'],\n",
       " ['GIMPO INTERNATIONAL AIRPORT',\n",
       "  '김포국제공항',\n",
       "  '국내선 제2주차장',\n",
       "  '원활',\n",
       "  '82.99%',\n",
       "  '1449',\n",
       "  '1746'],\n",
       " ['GIMPO INTERNATIONAL AIRPORT', '김포국제공항', '국제선 주차빌딩', '원활', '0%', '0', '567'],\n",
       " ['GIMPO INTERNATIONAL AIRPORT',\n",
       "  '김포국제공항',\n",
       "  '국제선 지하주차장',\n",
       "  '원활',\n",
       "  '17.17%',\n",
       "  '206',\n",
       "  '1200'],\n",
       " ['GIMPO INTERNATIONAL AIRPORT',\n",
       "  '김포국제공항',\n",
       "  '화물청사 주차장',\n",
       "  '원활',\n",
       "  '43.1%',\n",
       "  '490',\n",
       "  '1137']]"
      ]
     },
     "execution_count": 28,
     "metadata": {},
     "output_type": "execute_result"
    }
   ],
   "source": [
    "list_all = []\n",
    "\n",
    "for i in range(len(airporteng_list)):\n",
    "    list_all.append([airporteng_list [i].text, airportkor_list[i].text, pk_codenm_list[i].text, pk_con_list[i].text,\\\n",
    "                     pk_con_deg_list [i].text, pk_occ_space_list[i].text, pk_total_space_list[i].text])\n",
    "\n",
    "list_all"
   ]
  },
  {
   "cell_type": "code",
   "execution_count": 29,
   "metadata": {},
   "outputs": [
    {
     "data": {
      "text/html": [
       "<div>\n",
       "<style scoped>\n",
       "    .dataframe tbody tr th:only-of-type {\n",
       "        vertical-align: middle;\n",
       "    }\n",
       "\n",
       "    .dataframe tbody tr th {\n",
       "        vertical-align: top;\n",
       "    }\n",
       "\n",
       "    .dataframe thead th {\n",
       "        text-align: right;\n",
       "    }\n",
       "</style>\n",
       "<table border=\"1\" class=\"dataframe\">\n",
       "  <thead>\n",
       "    <tr style=\"text-align: right;\">\n",
       "      <th></th>\n",
       "      <th>공항명(영문)</th>\n",
       "      <th>공항명(국문)</th>\n",
       "      <th>주차장명</th>\n",
       "      <th>주차장 혼잡도</th>\n",
       "      <th>주차장 혼잡률</th>\n",
       "      <th>입고된 차량 수</th>\n",
       "      <th>전체 주차면 수</th>\n",
       "    </tr>\n",
       "  </thead>\n",
       "  <tbody>\n",
       "    <tr>\n",
       "      <th>0</th>\n",
       "      <td>GIMPO INTERNATIONAL AIRPORT</td>\n",
       "      <td>김포국제공항</td>\n",
       "      <td>[상세]예약주차장</td>\n",
       "      <td>원활</td>\n",
       "      <td>19.58%</td>\n",
       "      <td>65</td>\n",
       "      <td>332</td>\n",
       "    </tr>\n",
       "    <tr>\n",
       "      <th>1</th>\n",
       "      <td>GIMPO INTERNATIONAL AIRPORT</td>\n",
       "      <td>김포국제공항</td>\n",
       "      <td>국내선 제1주차장</td>\n",
       "      <td>원활</td>\n",
       "      <td>86.22%</td>\n",
       "      <td>1965</td>\n",
       "      <td>2279</td>\n",
       "    </tr>\n",
       "    <tr>\n",
       "      <th>2</th>\n",
       "      <td>GIMPO INTERNATIONAL AIRPORT</td>\n",
       "      <td>김포국제공항</td>\n",
       "      <td>국내선 제2주차장</td>\n",
       "      <td>원활</td>\n",
       "      <td>82.99%</td>\n",
       "      <td>1449</td>\n",
       "      <td>1746</td>\n",
       "    </tr>\n",
       "    <tr>\n",
       "      <th>3</th>\n",
       "      <td>GIMPO INTERNATIONAL AIRPORT</td>\n",
       "      <td>김포국제공항</td>\n",
       "      <td>국제선 주차빌딩</td>\n",
       "      <td>원활</td>\n",
       "      <td>0%</td>\n",
       "      <td>0</td>\n",
       "      <td>567</td>\n",
       "    </tr>\n",
       "    <tr>\n",
       "      <th>4</th>\n",
       "      <td>GIMPO INTERNATIONAL AIRPORT</td>\n",
       "      <td>김포국제공항</td>\n",
       "      <td>국제선 지하주차장</td>\n",
       "      <td>원활</td>\n",
       "      <td>17.17%</td>\n",
       "      <td>206</td>\n",
       "      <td>1200</td>\n",
       "    </tr>\n",
       "    <tr>\n",
       "      <th>5</th>\n",
       "      <td>GIMPO INTERNATIONAL AIRPORT</td>\n",
       "      <td>김포국제공항</td>\n",
       "      <td>화물청사 주차장</td>\n",
       "      <td>원활</td>\n",
       "      <td>43.1%</td>\n",
       "      <td>490</td>\n",
       "      <td>1137</td>\n",
       "    </tr>\n",
       "  </tbody>\n",
       "</table>\n",
       "</div>"
      ],
      "text/plain": [
       "                       공항명(영문) 공항명(국문)       주차장명 주차장 혼잡도 주차장 혼잡률 입고된 차량 수  \\\n",
       "0  GIMPO INTERNATIONAL AIRPORT  김포국제공항  [상세]예약주차장      원활  19.58%       65   \n",
       "1  GIMPO INTERNATIONAL AIRPORT  김포국제공항  국내선 제1주차장      원활  86.22%     1965   \n",
       "2  GIMPO INTERNATIONAL AIRPORT  김포국제공항  국내선 제2주차장      원활  82.99%     1449   \n",
       "3  GIMPO INTERNATIONAL AIRPORT  김포국제공항   국제선 주차빌딩      원활      0%        0   \n",
       "4  GIMPO INTERNATIONAL AIRPORT  김포국제공항  국제선 지하주차장      원활  17.17%      206   \n",
       "5  GIMPO INTERNATIONAL AIRPORT  김포국제공항   화물청사 주차장      원활   43.1%      490   \n",
       "\n",
       "  전체 주차면 수  \n",
       "0      332  \n",
       "1     2279  \n",
       "2     1746  \n",
       "3      567  \n",
       "4     1200  \n",
       "5     1137  "
      ]
     },
     "execution_count": 29,
     "metadata": {},
     "output_type": "execute_result"
    }
   ],
   "source": [
    "col_nm = ['공항명(영문)', '공항명(국문)', '주차장명', '주차장 혼잡도', '주차장 혼잡률', '입고된 차량 수', '전체 주차면 수']\n",
    "new_df = pd.DataFrame(list_all, columns=col_nm)\n",
    "new_df"
   ]
  }
 ],
 "metadata": {
  "kernelspec": {
   "display_name": "Python 3.9.12 ('base')",
   "language": "python",
   "name": "python3"
  },
  "language_info": {
   "codemirror_mode": {
    "name": "ipython",
    "version": 3
   },
   "file_extension": ".py",
   "mimetype": "text/x-python",
   "name": "python",
   "nbconvert_exporter": "python",
   "pygments_lexer": "ipython3",
   "version": "3.9.12"
  },
  "orig_nbformat": 4,
  "vscode": {
   "interpreter": {
    "hash": "610a6f344c2137faf927ea819c63f6cee33a2c04455044b28099f39fe9722347"
   }
  }
 },
 "nbformat": 4,
 "nbformat_minor": 2
}
