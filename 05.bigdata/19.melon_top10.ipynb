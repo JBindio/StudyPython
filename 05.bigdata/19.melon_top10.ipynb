{
 "cells": [
  {
   "cell_type": "markdown",
   "metadata": {},
   "source": [
    "### 웹 크롤링"
   ]
  },
  {
   "cell_type": "code",
   "execution_count": 14,
   "metadata": {},
   "outputs": [],
   "source": [
    "import pandas as pd\n",
    "from bs4 import BeautifulSoup as bs\n",
    "import requests"
   ]
  },
  {
   "cell_type": "markdown",
   "metadata": {},
   "source": [
    "### 웹드라이버 라이브러리"
   ]
  },
  {
   "cell_type": "code",
   "execution_count": 15,
   "metadata": {},
   "outputs": [],
   "source": [
    "# conda install -c conda-forge selenium\n",
    "from selenium import webdriver"
   ]
  },
  {
   "cell_type": "code",
   "execution_count": 16,
   "metadata": {},
   "outputs": [
    {
     "name": "stderr",
     "output_type": "stream",
     "text": [
      "C:\\Users\\admin\\AppData\\Local\\Temp\\ipykernel_12252\\2421840669.py:1: DeprecationWarning: executable_path has been deprecated, please pass in a Service object\n",
      "  driver = webdriver.Chrome('C:/ChromeDriver_exe/chromedriver_102.exe')\n"
     ]
    }
   ],
   "source": [
    "driver = webdriver.Chrome('C:/ChromeDriver_exe/chromedriver_102.exe')"
   ]
  },
  {
   "cell_type": "markdown",
   "metadata": {},
   "source": [
    "### 멜론 노래 순위 정보 크롤링"
   ]
  },
  {
   "cell_type": "code",
   "execution_count": 17,
   "metadata": {},
   "outputs": [],
   "source": [
    "url = 'https://www.melon.com/chart/index.htm'"
   ]
  },
  {
   "cell_type": "code",
   "execution_count": 18,
   "metadata": {},
   "outputs": [],
   "source": [
    "driver.get(url)\n",
    "html = driver.page_source"
   ]
  },
  {
   "cell_type": "code",
   "execution_count": 19,
   "metadata": {},
   "outputs": [],
   "source": [
    "soup = bs(html, 'html.parser')"
   ]
  },
  {
   "cell_type": "code",
   "execution_count": 141,
   "metadata": {},
   "outputs": [
    {
     "data": {
      "text/plain": [
       "100"
      ]
     },
     "execution_count": 141,
     "metadata": {},
     "output_type": "execute_result"
    }
   ],
   "source": [
    "tr = soup.select('tr')[1:101]\n",
    "len(tr)"
   ]
  },
  {
   "cell_type": "code",
   "execution_count": 152,
   "metadata": {},
   "outputs": [
    {
     "data": {
      "text/plain": [
       "'1'"
      ]
     },
     "execution_count": 152,
     "metadata": {},
     "output_type": "execute_result"
    }
   ],
   "source": [
    "tr[0].select('div.wrap.t_center>span')[0].text"
   ]
  },
  {
   "cell_type": "code",
   "execution_count": 153,
   "metadata": {},
   "outputs": [
    {
     "data": {
      "text/plain": [
       "'LOVE DIVE'"
      ]
     },
     "execution_count": 153,
     "metadata": {},
     "output_type": "execute_result"
    }
   ],
   "source": [
    "tr[0].select('div.ellipsis.rank01>span>a')[0].text"
   ]
  },
  {
   "cell_type": "code",
   "execution_count": 154,
   "metadata": {},
   "outputs": [
    {
     "data": {
      "text/plain": [
       "'IVE (아이브)'"
      ]
     },
     "execution_count": 154,
     "metadata": {},
     "output_type": "execute_result"
    }
   ],
   "source": [
    "tr[0].select('div.ellipsis.rank02>span>a')[0].text"
   ]
  },
  {
   "cell_type": "code",
   "execution_count": 145,
   "metadata": {},
   "outputs": [
    {
     "data": {
      "text/plain": [
       "'143,975'"
      ]
     },
     "execution_count": 145,
     "metadata": {},
     "output_type": "execute_result"
    }
   ],
   "source": [
    "like = tr[0].select('div.wrap>button.button_etc.like>span.cnt')[0].text.split('\\n')[-1]\n",
    "like"
   ]
  },
  {
   "cell_type": "code",
   "execution_count": 156,
   "metadata": {},
   "outputs": [
    {
     "name": "stdout",
     "output_type": "stream",
     "text": [
      "1 LOVE DIVE IVE (아이브) 143,975\n"
     ]
    }
   ],
   "source": [
    "rank = tr[0].select('div.wrap.t_center>span')[0].text\n",
    "song = tr[0].select('div.ellipsis.rank01>span>a')[0].text\n",
    "artist = tr[0].select('div.ellipsis.rank02>span>a')[0].text\n",
    "like = tr[0].select('div.wrap>button.button_etc.like>span.cnt')[0].text.split('\\n')[-1]\n",
    "\n",
    "print(rank, song, artist, like)"
   ]
  },
  {
   "cell_type": "code",
   "execution_count": 181,
   "metadata": {},
   "outputs": [
    {
     "ename": "NoSuchWindowException",
     "evalue": "Message: no such window: target window already closed\nfrom unknown error: web view not found\n  (Session info: chrome=102.0.5005.115)\nStacktrace:\nBacktrace:\n\tOrdinal0 [0x00A9D953+2414931]\n\tOrdinal0 [0x00A2F5E1+1963489]\n\tOrdinal0 [0x0091C6B8+837304]\n\tOrdinal0 [0x00904120+737568]\n\tOrdinal0 [0x00966E29+1142313]\n\tOrdinal0 [0x00973FB2+1195954]\n\tOrdinal0 [0x009642B6+1131190]\n\tOrdinal0 [0x0093E860+976992]\n\tOrdinal0 [0x0093F756+980822]\n\tGetHandleVerifier [0x00D0CC62+2510274]\n\tGetHandleVerifier [0x00CFF760+2455744]\n\tGetHandleVerifier [0x00B2EABA+551962]\n\tGetHandleVerifier [0x00B2D916+547446]\n\tOrdinal0 [0x00A35F3B+1990459]\n\tOrdinal0 [0x00A3A898+2009240]\n\tOrdinal0 [0x00A3A985+2009477]\n\tOrdinal0 [0x00A43AD1+2046673]\n\tBaseThreadInitThunk [0x753BFA29+25]\n\tRtlGetAppContainerNamedObjectPath [0x76FA7A9E+286]\n\tRtlGetAppContainerNamedObjectPath [0x76FA7A6E+238]\n",
     "output_type": "error",
     "traceback": [
      "\u001b[1;31m---------------------------------------------------------------------------\u001b[0m",
      "\u001b[1;31mNoSuchWindowException\u001b[0m                     Traceback (most recent call last)",
      "\u001b[1;32mc:\\Users\\admin\\STUDY\\StudyPython\\05.bigdata\\19.melon_top10.ipynb Cell 16'\u001b[0m in \u001b[0;36m<cell line: 5>\u001b[1;34m()\u001b[0m\n\u001b[0;32m      <a href='vscode-notebook-cell:/c%3A/Users/admin/STUDY/StudyPython/05.bigdata/19.melon_top10.ipynb#ch0000027?line=1'>2</a>\u001b[0m \u001b[39mfrom\u001b[39;00m \u001b[39mselenium\u001b[39;00m \u001b[39mimport\u001b[39;00m webdriver\n\u001b[0;32m      <a href='vscode-notebook-cell:/c%3A/Users/admin/STUDY/StudyPython/05.bigdata/19.melon_top10.ipynb#ch0000027?line=3'>4</a>\u001b[0m url \u001b[39m=\u001b[39m \u001b[39m\"\u001b[39m\u001b[39mhttp://www.melon.com/chart/index.htm\u001b[39m\u001b[39m\"\u001b[39m\n\u001b[1;32m----> <a href='vscode-notebook-cell:/c%3A/Users/admin/STUDY/StudyPython/05.bigdata/19.melon_top10.ipynb#ch0000027?line=4'>5</a>\u001b[0m driver\u001b[39m.\u001b[39;49mget(url)\n\u001b[0;32m      <a href='vscode-notebook-cell:/c%3A/Users/admin/STUDY/StudyPython/05.bigdata/19.melon_top10.ipynb#ch0000027?line=6'>7</a>\u001b[0m \u001b[39m# html = driver.page_source\u001b[39;00m\n\u001b[0;32m      <a href='vscode-notebook-cell:/c%3A/Users/admin/STUDY/StudyPython/05.bigdata/19.melon_top10.ipynb#ch0000027?line=7'>8</a>\u001b[0m \u001b[39m# soup = BeautifulSoup(html, \"html.parser\")\u001b[39;00m\n\u001b[0;32m     <a href='vscode-notebook-cell:/c%3A/Users/admin/STUDY/StudyPython/05.bigdata/19.melon_top10.ipynb#ch0000027?line=9'>10</a>\u001b[0m songs \u001b[39m=\u001b[39m driver\u001b[39m.\u001b[39mfind_elements_by_css_selector(\u001b[39m\"\u001b[39m\u001b[39mtr\u001b[39m\u001b[39m\"\u001b[39m)[\u001b[39m1\u001b[39m : \u001b[39m11\u001b[39m]\n",
      "File \u001b[1;32mc:\\Users\\admin\\anaconda3\\lib\\site-packages\\selenium\\webdriver\\remote\\webdriver.py:442\u001b[0m, in \u001b[0;36mWebDriver.get\u001b[1;34m(self, url)\u001b[0m\n\u001b[0;32m    438\u001b[0m \u001b[39mdef\u001b[39;00m \u001b[39mget\u001b[39m(\u001b[39mself\u001b[39m, url: \u001b[39mstr\u001b[39m) \u001b[39m-\u001b[39m\u001b[39m>\u001b[39m \u001b[39mNone\u001b[39;00m:\n\u001b[0;32m    439\u001b[0m     \u001b[39m\"\"\"\u001b[39;00m\n\u001b[0;32m    440\u001b[0m \u001b[39m    Loads a web page in the current browser session.\u001b[39;00m\n\u001b[0;32m    441\u001b[0m \u001b[39m    \"\"\"\u001b[39;00m\n\u001b[1;32m--> 442\u001b[0m     \u001b[39mself\u001b[39;49m\u001b[39m.\u001b[39;49mexecute(Command\u001b[39m.\u001b[39;49mGET, {\u001b[39m'\u001b[39;49m\u001b[39murl\u001b[39;49m\u001b[39m'\u001b[39;49m: url})\n",
      "File \u001b[1;32mc:\\Users\\admin\\anaconda3\\lib\\site-packages\\selenium\\webdriver\\remote\\webdriver.py:430\u001b[0m, in \u001b[0;36mWebDriver.execute\u001b[1;34m(self, driver_command, params)\u001b[0m\n\u001b[0;32m    428\u001b[0m response \u001b[39m=\u001b[39m \u001b[39mself\u001b[39m\u001b[39m.\u001b[39mcommand_executor\u001b[39m.\u001b[39mexecute(driver_command, params)\n\u001b[0;32m    429\u001b[0m \u001b[39mif\u001b[39;00m response:\n\u001b[1;32m--> 430\u001b[0m     \u001b[39mself\u001b[39;49m\u001b[39m.\u001b[39;49merror_handler\u001b[39m.\u001b[39;49mcheck_response(response)\n\u001b[0;32m    431\u001b[0m     response[\u001b[39m'\u001b[39m\u001b[39mvalue\u001b[39m\u001b[39m'\u001b[39m] \u001b[39m=\u001b[39m \u001b[39mself\u001b[39m\u001b[39m.\u001b[39m_unwrap_value(\n\u001b[0;32m    432\u001b[0m         response\u001b[39m.\u001b[39mget(\u001b[39m'\u001b[39m\u001b[39mvalue\u001b[39m\u001b[39m'\u001b[39m, \u001b[39mNone\u001b[39;00m))\n\u001b[0;32m    433\u001b[0m     \u001b[39mreturn\u001b[39;00m response\n",
      "File \u001b[1;32mc:\\Users\\admin\\anaconda3\\lib\\site-packages\\selenium\\webdriver\\remote\\errorhandler.py:247\u001b[0m, in \u001b[0;36mErrorHandler.check_response\u001b[1;34m(self, response)\u001b[0m\n\u001b[0;32m    245\u001b[0m         alert_text \u001b[39m=\u001b[39m value[\u001b[39m'\u001b[39m\u001b[39malert\u001b[39m\u001b[39m'\u001b[39m]\u001b[39m.\u001b[39mget(\u001b[39m'\u001b[39m\u001b[39mtext\u001b[39m\u001b[39m'\u001b[39m)\n\u001b[0;32m    246\u001b[0m     \u001b[39mraise\u001b[39;00m exception_class(message, screen, stacktrace, alert_text)  \u001b[39m# type: ignore[call-arg]  # mypy is not smart enough here\u001b[39;00m\n\u001b[1;32m--> 247\u001b[0m \u001b[39mraise\u001b[39;00m exception_class(message, screen, stacktrace)\n",
      "\u001b[1;31mNoSuchWindowException\u001b[0m: Message: no such window: target window already closed\nfrom unknown error: web view not found\n  (Session info: chrome=102.0.5005.115)\nStacktrace:\nBacktrace:\n\tOrdinal0 [0x00A9D953+2414931]\n\tOrdinal0 [0x00A2F5E1+1963489]\n\tOrdinal0 [0x0091C6B8+837304]\n\tOrdinal0 [0x00904120+737568]\n\tOrdinal0 [0x00966E29+1142313]\n\tOrdinal0 [0x00973FB2+1195954]\n\tOrdinal0 [0x009642B6+1131190]\n\tOrdinal0 [0x0093E860+976992]\n\tOrdinal0 [0x0093F756+980822]\n\tGetHandleVerifier [0x00D0CC62+2510274]\n\tGetHandleVerifier [0x00CFF760+2455744]\n\tGetHandleVerifier [0x00B2EABA+551962]\n\tGetHandleVerifier [0x00B2D916+547446]\n\tOrdinal0 [0x00A35F3B+1990459]\n\tOrdinal0 [0x00A3A898+2009240]\n\tOrdinal0 [0x00A3A985+2009477]\n\tOrdinal0 [0x00A43AD1+2046673]\n\tBaseThreadInitThunk [0x753BFA29+25]\n\tRtlGetAppContainerNamedObjectPath [0x76FA7A9E+286]\n\tRtlGetAppContainerNamedObjectPath [0x76FA7A6E+238]\n"
     ]
    }
   ],
   "source": [
    "# selenium 방식..\n",
    "from selenium import webdriver\n",
    "\n",
    "driver = webdriver.Chrome('C:/ChromeDriver_exe/chromedriver_102.exe')\n",
    "url = \"http://www.melon.com/chart/index.htm\"\n",
    "driver.get(url)\n",
    "\n",
    "# html = driver.page_source\n",
    "# soup = BeautifulSoup(html, \"html.parser\")\n",
    "\n",
    "songs = driver.find_elements_by_css_selector(\"tr\")[1 : 11]\n",
    "\n",
    "list_df = []\n",
    "\n",
    "for song in songs:\n",
    "    rank = song.find_elements_by_css_selector(\"div.t_center > span.rank\")[0].text\n",
    "    title = song.find_elements_by_css_selector(\"div.ellipsis.rank01 > span > a\")[0].text\n",
    "    singer = song.find_elements_by_css_selector(\"div.ellipsis.rank02 > a\")[0].text\n",
    "    like = song.find_elements_by_css_selector(\"button.button_etc > span.cnt\")[0].text.split(\"\\n\")[-1]\n",
    "    \n",
    "    list_df.append([rank, title, singer, like])\n",
    "    \n",
    "list_df    \n",
    "df = pd.DataFrame(list_df, \n",
    "                  columns=[\"순위\", \"제목\", \"가수\", \"좋아요!\"])\n",
    "df"
   ]
  },
  {
   "cell_type": "code",
   "execution_count": 183,
   "metadata": {},
   "outputs": [
    {
     "name": "stderr",
     "output_type": "stream",
     "text": [
      "C:\\Users\\admin\\AppData\\Local\\Temp\\ipykernel_12252\\928675133.py:4: DeprecationWarning: executable_path has been deprecated, please pass in a Service object\n",
      "  driver = webdriver.Chrome('C:/ChromeDriver_exe/chromedriver_102.exe')\n",
      "C:\\Users\\admin\\AppData\\Local\\Temp\\ipykernel_12252\\928675133.py:8: DeprecationWarning: find_element_by_css_selector is deprecated. Please use find_element(by=By.CSS_SELECTOR, value=css_selector) instead\n",
      "  tr = driver.find_element_by_css_selector('tr')[1:101]\n"
     ]
    },
    {
     "ename": "TypeError",
     "evalue": "'WebElement' object is not subscriptable",
     "output_type": "error",
     "traceback": [
      "\u001b[1;31m---------------------------------------------------------------------------\u001b[0m",
      "\u001b[1;31mTypeError\u001b[0m                                 Traceback (most recent call last)",
      "\u001b[1;32mc:\\Users\\admin\\STUDY\\StudyPython\\05.bigdata\\19.melon_top10.ipynb Cell 17'\u001b[0m in \u001b[0;36m<cell line: 8>\u001b[1;34m()\u001b[0m\n\u001b[0;32m      <a href='vscode-notebook-cell:/c%3A/Users/admin/STUDY/StudyPython/05.bigdata/19.melon_top10.ipynb#ch0000025?line=4'>5</a>\u001b[0m url \u001b[39m=\u001b[39m \u001b[39m'\u001b[39m\u001b[39mhttps://www.melon.com/chart/index.htm\u001b[39m\u001b[39m'\u001b[39m\n\u001b[0;32m      <a href='vscode-notebook-cell:/c%3A/Users/admin/STUDY/StudyPython/05.bigdata/19.melon_top10.ipynb#ch0000025?line=5'>6</a>\u001b[0m driver\u001b[39m.\u001b[39mget(url)\n\u001b[1;32m----> <a href='vscode-notebook-cell:/c%3A/Users/admin/STUDY/StudyPython/05.bigdata/19.melon_top10.ipynb#ch0000025?line=7'>8</a>\u001b[0m tr \u001b[39m=\u001b[39m driver\u001b[39m.\u001b[39;49mfind_element_by_css_selector(\u001b[39m'\u001b[39;49m\u001b[39mtr\u001b[39;49m\u001b[39m'\u001b[39;49m)[\u001b[39m1\u001b[39;49m:\u001b[39m101\u001b[39;49m]\n\u001b[0;32m      <a href='vscode-notebook-cell:/c%3A/Users/admin/STUDY/StudyPython/05.bigdata/19.melon_top10.ipynb#ch0000025?line=8'>9</a>\u001b[0m df \u001b[39m=\u001b[39m pd\u001b[39m.\u001b[39mDataFrame()\n\u001b[0;32m     <a href='vscode-notebook-cell:/c%3A/Users/admin/STUDY/StudyPython/05.bigdata/19.melon_top10.ipynb#ch0000025?line=9'>10</a>\u001b[0m col \u001b[39m=\u001b[39m [\u001b[39m'\u001b[39m\u001b[39m순위\u001b[39m\u001b[39m'\u001b[39m,\u001b[39m'\u001b[39m\u001b[39m아티스트\u001b[39m\u001b[39m'\u001b[39m,\u001b[39m'\u001b[39m\u001b[39m제목\u001b[39m\u001b[39m'\u001b[39m,\u001b[39m'\u001b[39m\u001b[39m좋아요\u001b[39m\u001b[39m'\u001b[39m]\n",
      "\u001b[1;31mTypeError\u001b[0m: 'WebElement' object is not subscriptable"
     ]
    }
   ],
   "source": [
    "# selenium 방식\n",
    "from selenium import webdriver\n",
    "\n",
    "driver = webdriver.Chrome('C:/ChromeDriver_exe/chromedriver_102.exe')\n",
    "url = 'https://www.melon.com/chart/index.htm'\n",
    "driver.get(url)\n",
    "\n",
    "tr = driver.find_element_by_css_selector('tr')[1:101]\n",
    "df = pd.DataFrame()\n",
    "col = ['순위','아티스트','제목','좋아요']\n",
    "\n",
    "df_list = []\n",
    "\n",
    "for i in tr:\n",
    "    rank = i.find_element_by_css_selector('div.wrap.t_center>span')[0].text\n",
    "    artist = i.find_element_by_css_selector('div.ellipsis.rank02>span>a')[0].text\n",
    "    song = i.find_element_by_css_selector('div.ellipsis.rank01>span>a')[0].text\n",
    "    like = i.find_element_by_css_selector('div.wrap>button.button_etc.like>span.cnt')[0].text.split('\\n')[-1]\n",
    "    df_list.append([rank, artist, song, like])\n",
    "\n",
    "df = pd.DataFrame(df_list, columns=col)\n",
    "df"
   ]
  },
  {
   "cell_type": "code",
   "execution_count": null,
   "metadata": {},
   "outputs": [],
   "source": []
  },
  {
   "cell_type": "code",
   "execution_count": 177,
   "metadata": {},
   "outputs": [
    {
     "ename": "WebDriverException",
     "evalue": "Message: chrome not reachable\n  (Session info: chrome=102.0.5005.115)\nStacktrace:\nBacktrace:\n\tOrdinal0 [0x00A9D953+2414931]\n\tOrdinal0 [0x00A2F5E1+1963489]\n\tOrdinal0 [0x0091C580+836992]\n\tOrdinal0 [0x009101E2+786914]\n\tOrdinal0 [0x00910A18+789016]\n\tOrdinal0 [0x009122F2+795378]\n\tOrdinal0 [0x0090BCA9+769193]\n\tOrdinal0 [0x0091DA30+842288]\n\tOrdinal0 [0x00973FF2+1196018]\n\tOrdinal0 [0x009642B6+1131190]\n\tOrdinal0 [0x0093E860+976992]\n\tOrdinal0 [0x0093F756+980822]\n\tGetHandleVerifier [0x00D0CC62+2510274]\n\tGetHandleVerifier [0x00CFF760+2455744]\n\tGetHandleVerifier [0x00B2EABA+551962]\n\tGetHandleVerifier [0x00B2D916+547446]\n\tOrdinal0 [0x00A35F3B+1990459]\n\tOrdinal0 [0x00A3A898+2009240]\n\tOrdinal0 [0x00A3A985+2009477]\n\tOrdinal0 [0x00A43AD1+2046673]\n\tBaseThreadInitThunk [0x753BFA29+25]\n\tRtlGetAppContainerNamedObjectPath [0x76FA7A9E+286]\n\tRtlGetAppContainerNamedObjectPath [0x76FA7A6E+238]\n",
     "output_type": "error",
     "traceback": [
      "\u001b[1;31m---------------------------------------------------------------------------\u001b[0m",
      "\u001b[1;31mWebDriverException\u001b[0m                        Traceback (most recent call last)",
      "\u001b[1;32mc:\\Users\\admin\\STUDY\\StudyPython\\05.bigdata\\19.melon_top10.ipynb Cell 17'\u001b[0m in \u001b[0;36m<cell line: 7>\u001b[1;34m()\u001b[0m\n\u001b[0;32m      <a href='vscode-notebook-cell:/c%3A/Users/admin/STUDY/StudyPython/05.bigdata/19.melon_top10.ipynb#ch0000018?line=3'>4</a>\u001b[0m \u001b[39mfrom\u001b[39;00m \u001b[39mselenium\u001b[39;00m \u001b[39mimport\u001b[39;00m webdriver\n\u001b[0;32m      <a href='vscode-notebook-cell:/c%3A/Users/admin/STUDY/StudyPython/05.bigdata/19.melon_top10.ipynb#ch0000018?line=5'>6</a>\u001b[0m url \u001b[39m=\u001b[39m \u001b[39m'\u001b[39m\u001b[39mhttps://www.melon.com/chart/index.htm\u001b[39m\u001b[39m'\u001b[39m\n\u001b[1;32m----> <a href='vscode-notebook-cell:/c%3A/Users/admin/STUDY/StudyPython/05.bigdata/19.melon_top10.ipynb#ch0000018?line=6'>7</a>\u001b[0m driver\u001b[39m.\u001b[39;49mget(url)\n\u001b[0;32m      <a href='vscode-notebook-cell:/c%3A/Users/admin/STUDY/StudyPython/05.bigdata/19.melon_top10.ipynb#ch0000018?line=7'>8</a>\u001b[0m html \u001b[39m=\u001b[39m driver\u001b[39m.\u001b[39mpage_source\n\u001b[0;32m     <a href='vscode-notebook-cell:/c%3A/Users/admin/STUDY/StudyPython/05.bigdata/19.melon_top10.ipynb#ch0000018?line=9'>10</a>\u001b[0m soup \u001b[39m=\u001b[39m bs(html, \u001b[39m'\u001b[39m\u001b[39mhtml.parser\u001b[39m\u001b[39m'\u001b[39m)\n",
      "File \u001b[1;32mc:\\Users\\admin\\anaconda3\\lib\\site-packages\\selenium\\webdriver\\remote\\webdriver.py:442\u001b[0m, in \u001b[0;36mWebDriver.get\u001b[1;34m(self, url)\u001b[0m\n\u001b[0;32m    438\u001b[0m \u001b[39mdef\u001b[39;00m \u001b[39mget\u001b[39m(\u001b[39mself\u001b[39m, url: \u001b[39mstr\u001b[39m) \u001b[39m-\u001b[39m\u001b[39m>\u001b[39m \u001b[39mNone\u001b[39;00m:\n\u001b[0;32m    439\u001b[0m     \u001b[39m\"\"\"\u001b[39;00m\n\u001b[0;32m    440\u001b[0m \u001b[39m    Loads a web page in the current browser session.\u001b[39;00m\n\u001b[0;32m    441\u001b[0m \u001b[39m    \"\"\"\u001b[39;00m\n\u001b[1;32m--> 442\u001b[0m     \u001b[39mself\u001b[39;49m\u001b[39m.\u001b[39;49mexecute(Command\u001b[39m.\u001b[39;49mGET, {\u001b[39m'\u001b[39;49m\u001b[39murl\u001b[39;49m\u001b[39m'\u001b[39;49m: url})\n",
      "File \u001b[1;32mc:\\Users\\admin\\anaconda3\\lib\\site-packages\\selenium\\webdriver\\remote\\webdriver.py:430\u001b[0m, in \u001b[0;36mWebDriver.execute\u001b[1;34m(self, driver_command, params)\u001b[0m\n\u001b[0;32m    428\u001b[0m response \u001b[39m=\u001b[39m \u001b[39mself\u001b[39m\u001b[39m.\u001b[39mcommand_executor\u001b[39m.\u001b[39mexecute(driver_command, params)\n\u001b[0;32m    429\u001b[0m \u001b[39mif\u001b[39;00m response:\n\u001b[1;32m--> 430\u001b[0m     \u001b[39mself\u001b[39;49m\u001b[39m.\u001b[39;49merror_handler\u001b[39m.\u001b[39;49mcheck_response(response)\n\u001b[0;32m    431\u001b[0m     response[\u001b[39m'\u001b[39m\u001b[39mvalue\u001b[39m\u001b[39m'\u001b[39m] \u001b[39m=\u001b[39m \u001b[39mself\u001b[39m\u001b[39m.\u001b[39m_unwrap_value(\n\u001b[0;32m    432\u001b[0m         response\u001b[39m.\u001b[39mget(\u001b[39m'\u001b[39m\u001b[39mvalue\u001b[39m\u001b[39m'\u001b[39m, \u001b[39mNone\u001b[39;00m))\n\u001b[0;32m    433\u001b[0m     \u001b[39mreturn\u001b[39;00m response\n",
      "File \u001b[1;32mc:\\Users\\admin\\anaconda3\\lib\\site-packages\\selenium\\webdriver\\remote\\errorhandler.py:247\u001b[0m, in \u001b[0;36mErrorHandler.check_response\u001b[1;34m(self, response)\u001b[0m\n\u001b[0;32m    245\u001b[0m         alert_text \u001b[39m=\u001b[39m value[\u001b[39m'\u001b[39m\u001b[39malert\u001b[39m\u001b[39m'\u001b[39m]\u001b[39m.\u001b[39mget(\u001b[39m'\u001b[39m\u001b[39mtext\u001b[39m\u001b[39m'\u001b[39m)\n\u001b[0;32m    246\u001b[0m     \u001b[39mraise\u001b[39;00m exception_class(message, screen, stacktrace, alert_text)  \u001b[39m# type: ignore[call-arg]  # mypy is not smart enough here\u001b[39;00m\n\u001b[1;32m--> 247\u001b[0m \u001b[39mraise\u001b[39;00m exception_class(message, screen, stacktrace)\n",
      "\u001b[1;31mWebDriverException\u001b[0m: Message: chrome not reachable\n  (Session info: chrome=102.0.5005.115)\nStacktrace:\nBacktrace:\n\tOrdinal0 [0x00A9D953+2414931]\n\tOrdinal0 [0x00A2F5E1+1963489]\n\tOrdinal0 [0x0091C580+836992]\n\tOrdinal0 [0x009101E2+786914]\n\tOrdinal0 [0x00910A18+789016]\n\tOrdinal0 [0x009122F2+795378]\n\tOrdinal0 [0x0090BCA9+769193]\n\tOrdinal0 [0x0091DA30+842288]\n\tOrdinal0 [0x00973FF2+1196018]\n\tOrdinal0 [0x009642B6+1131190]\n\tOrdinal0 [0x0093E860+976992]\n\tOrdinal0 [0x0093F756+980822]\n\tGetHandleVerifier [0x00D0CC62+2510274]\n\tGetHandleVerifier [0x00CFF760+2455744]\n\tGetHandleVerifier [0x00B2EABA+551962]\n\tGetHandleVerifier [0x00B2D916+547446]\n\tOrdinal0 [0x00A35F3B+1990459]\n\tOrdinal0 [0x00A3A898+2009240]\n\tOrdinal0 [0x00A3A985+2009477]\n\tOrdinal0 [0x00A43AD1+2046673]\n\tBaseThreadInitThunk [0x753BFA29+25]\n\tRtlGetAppContainerNamedObjectPath [0x76FA7A9E+286]\n\tRtlGetAppContainerNamedObjectPath [0x76FA7A6E+238]\n"
     ]
    }
   ],
   "source": [
    "# soup 방식\n",
    "import pandas as pd\n",
    "from bs4 import BeautifulSoup as bs\n",
    "from selenium import webdriver\n",
    "\n",
    "driver = webdriver.Chrome('C:/ChromeDriver_exe/chromedriver_102.exe')\n",
    "url = 'https://www.melon.com/chart/index.htm'\n",
    "\n",
    "driver.get(url)\n",
    "html = driver.page_source\n",
    "\n",
    "soup = bs(html, 'html.parser')\n",
    "\n",
    "tr = soup.select('tr')[1:101]\n",
    "\n",
    "df = pd.DataFrame()\n",
    "col = ['순위','아티스트','제목','좋아요']\n",
    "df_list = []\n",
    "\n",
    "for i in range(len(tr)):\n",
    "    rank = tr[i].select('div.wrap.t_center>span')[0].text\n",
    "    artist = tr[i].select('div.ellipsis.rank02>span>a')[0].text\n",
    "    song = tr[i].select('div.ellipsis.rank01>span>a')[0].text\n",
    "    like = tr[i].select('div.wrap>button.button_etc.like>span.cnt')[0].text.split('\\n')[-1]\n",
    "    df_list.append([rank, artist, song, like])\n",
    "df = pd.DataFrame(df_list, columns=col)\n",
    "df"
   ]
  },
  {
   "cell_type": "code",
   "execution_count": null,
   "metadata": {},
   "outputs": [],
   "source": [
    "total = soup.select('tr#lst50>td>div.wrap>div.wrap_song_info>div>span>a')"
   ]
  },
  {
   "cell_type": "code",
   "execution_count": 95,
   "metadata": {},
   "outputs": [
    {
     "data": {
      "text/html": [
       "<div>\n",
       "<style scoped>\n",
       "    .dataframe tbody tr th:only-of-type {\n",
       "        vertical-align: middle;\n",
       "    }\n",
       "\n",
       "    .dataframe tbody tr th {\n",
       "        vertical-align: top;\n",
       "    }\n",
       "\n",
       "    .dataframe thead th {\n",
       "        text-align: right;\n",
       "    }\n",
       "</style>\n",
       "<table border=\"1\" class=\"dataframe\">\n",
       "  <thead>\n",
       "    <tr style=\"text-align: right;\">\n",
       "      <th></th>\n",
       "    </tr>\n",
       "  </thead>\n",
       "  <tbody>\n",
       "  </tbody>\n",
       "</table>\n",
       "</div>"
      ],
      "text/plain": [
       "Empty DataFrame\n",
       "Columns: []\n",
       "Index: []"
      ]
     },
     "execution_count": 95,
     "metadata": {},
     "output_type": "execute_result"
    }
   ],
   "source": [
    "total = soup.select('tr>div.wrap>div.wrap_song_info>div>span>a')\n",
    "like = soup.select('tr#lst50>td>div.wrap>button.button_etc.like>span.cnt')\n",
    "df = pd.DataFrame()\n",
    "all = []\n",
    "for i in range(0, len(total)-1,2):\n",
    "    song = total[i].text\n",
    "    artist = total[i+1].text\n",
    "    song_artist = artist, song\n",
    "    all.append(song_artist)\n",
    "    df = pd.DataFrame(all,columns=['아티스트','제목'])\n",
    "\n",
    "df.tail()"
   ]
  },
  {
   "cell_type": "code",
   "execution_count": 80,
   "metadata": {},
   "outputs": [
    {
     "data": {
      "text/html": [
       "<div>\n",
       "<style scoped>\n",
       "    .dataframe tbody tr th:only-of-type {\n",
       "        vertical-align: middle;\n",
       "    }\n",
       "\n",
       "    .dataframe tbody tr th {\n",
       "        vertical-align: top;\n",
       "    }\n",
       "\n",
       "    .dataframe thead th {\n",
       "        text-align: right;\n",
       "    }\n",
       "</style>\n",
       "<table border=\"1\" class=\"dataframe\">\n",
       "  <thead>\n",
       "    <tr style=\"text-align: right;\">\n",
       "      <th></th>\n",
       "      <th>아티스트</th>\n",
       "      <th>제목</th>\n",
       "      <th>좋아요</th>\n",
       "    </tr>\n",
       "  </thead>\n",
       "  <tbody>\n",
       "    <tr>\n",
       "      <th>0</th>\n",
       "      <td>IVE (아이브)</td>\n",
       "      <td>LOVE DIVE</td>\n",
       "      <td>143,975</td>\n",
       "    </tr>\n",
       "    <tr>\n",
       "      <th>1</th>\n",
       "      <td>(여자)아이들</td>\n",
       "      <td>TOMBOY</td>\n",
       "      <td>187,980</td>\n",
       "    </tr>\n",
       "    <tr>\n",
       "      <th>2</th>\n",
       "      <td>싸이 (PSY)</td>\n",
       "      <td>That That (prod. &amp; feat. SUGA of BTS)</td>\n",
       "      <td>97,394</td>\n",
       "    </tr>\n",
       "    <tr>\n",
       "      <th>3</th>\n",
       "      <td>멜로망스</td>\n",
       "      <td>사랑인가 봐</td>\n",
       "      <td>132,360</td>\n",
       "    </tr>\n",
       "    <tr>\n",
       "      <th>4</th>\n",
       "      <td>임영웅</td>\n",
       "      <td>우리들의 블루스</td>\n",
       "      <td>64,822</td>\n",
       "    </tr>\n",
       "    <tr>\n",
       "      <th>5</th>\n",
       "      <td>임영웅</td>\n",
       "      <td>사랑은 늘 도망가</td>\n",
       "      <td>164,702</td>\n",
       "    </tr>\n",
       "    <tr>\n",
       "      <th>6</th>\n",
       "      <td>방탄소년단</td>\n",
       "      <td>Yet To Come</td>\n",
       "      <td>98,132</td>\n",
       "    </tr>\n",
       "    <tr>\n",
       "      <th>7</th>\n",
       "      <td>BIG Naughty (서동현)</td>\n",
       "      <td>정이라고 하자 (Feat. 10CM)</td>\n",
       "      <td>126,485</td>\n",
       "    </tr>\n",
       "    <tr>\n",
       "      <th>8</th>\n",
       "      <td>BIGBANG (빅뱅)</td>\n",
       "      <td>봄여름가을겨울 (Still Life)</td>\n",
       "      <td>274,080</td>\n",
       "    </tr>\n",
       "    <tr>\n",
       "      <th>9</th>\n",
       "      <td>임영웅</td>\n",
       "      <td>다시 만날 수 있을까</td>\n",
       "      <td>52,388</td>\n",
       "    </tr>\n",
       "    <tr>\n",
       "      <th>10</th>\n",
       "      <td>경서</td>\n",
       "      <td>나의 X에게</td>\n",
       "      <td>72,783</td>\n",
       "    </tr>\n",
       "    <tr>\n",
       "      <th>11</th>\n",
       "      <td>LE SSERAFIM (르세라핌)</td>\n",
       "      <td>FEARLESS</td>\n",
       "      <td>47,527</td>\n",
       "    </tr>\n",
       "    <tr>\n",
       "      <th>12</th>\n",
       "      <td>BE'O (비오)</td>\n",
       "      <td>LOVE me</td>\n",
       "      <td>85,336</td>\n",
       "    </tr>\n",
       "    <tr>\n",
       "      <th>13</th>\n",
       "      <td>임영웅</td>\n",
       "      <td>무지개</td>\n",
       "      <td>40,624</td>\n",
       "    </tr>\n",
       "    <tr>\n",
       "      <th>14</th>\n",
       "      <td>임영웅</td>\n",
       "      <td>이제 나만 믿어요</td>\n",
       "      <td>155,611</td>\n",
       "    </tr>\n",
       "    <tr>\n",
       "      <th>15</th>\n",
       "      <td>김민석 (멜로망스)</td>\n",
       "      <td>취중고백</td>\n",
       "      <td>129,758</td>\n",
       "    </tr>\n",
       "    <tr>\n",
       "      <th>16</th>\n",
       "      <td>Red Velvet (레드벨벳)</td>\n",
       "      <td>Feel My Rhythm</td>\n",
       "      <td>130,520</td>\n",
       "    </tr>\n",
       "    <tr>\n",
       "      <th>17</th>\n",
       "      <td>방탄소년단</td>\n",
       "      <td>Dynamite</td>\n",
       "      <td>437,898</td>\n",
       "    </tr>\n",
       "    <tr>\n",
       "      <th>18</th>\n",
       "      <td>임영웅</td>\n",
       "      <td>아버지</td>\n",
       "      <td>37,827</td>\n",
       "    </tr>\n",
       "    <tr>\n",
       "      <th>19</th>\n",
       "      <td>방탄소년단</td>\n",
       "      <td>Butter</td>\n",
       "      <td>274,798</td>\n",
       "    </tr>\n",
       "    <tr>\n",
       "      <th>20</th>\n",
       "      <td>임영웅</td>\n",
       "      <td>손이 참 곱던 그대</td>\n",
       "      <td>36,495</td>\n",
       "    </tr>\n",
       "    <tr>\n",
       "      <th>21</th>\n",
       "      <td>임영웅</td>\n",
       "      <td>A bientot</td>\n",
       "      <td>36,885</td>\n",
       "    </tr>\n",
       "    <tr>\n",
       "      <th>22</th>\n",
       "      <td>임영웅</td>\n",
       "      <td>사랑해 진짜</td>\n",
       "      <td>36,863</td>\n",
       "    </tr>\n",
       "    <tr>\n",
       "      <th>23</th>\n",
       "      <td>임영웅</td>\n",
       "      <td>인생찬가</td>\n",
       "      <td>36,401</td>\n",
       "    </tr>\n",
       "    <tr>\n",
       "      <th>24</th>\n",
       "      <td>임영웅</td>\n",
       "      <td>연애편지</td>\n",
       "      <td>35,884</td>\n",
       "    </tr>\n",
       "    <tr>\n",
       "      <th>25</th>\n",
       "      <td>방탄소년단</td>\n",
       "      <td>Permission to Dance</td>\n",
       "      <td>209,123</td>\n",
       "    </tr>\n",
       "    <tr>\n",
       "      <th>26</th>\n",
       "      <td>박재범</td>\n",
       "      <td>GANADARA (Feat. 아이유)</td>\n",
       "      <td>116,593</td>\n",
       "    </tr>\n",
       "    <tr>\n",
       "      <th>27</th>\n",
       "      <td>이무진</td>\n",
       "      <td>신호등</td>\n",
       "      <td>281,173</td>\n",
       "    </tr>\n",
       "    <tr>\n",
       "      <th>28</th>\n",
       "      <td>임영웅</td>\n",
       "      <td>사랑역</td>\n",
       "      <td>35,535</td>\n",
       "    </tr>\n",
       "    <tr>\n",
       "      <th>29</th>\n",
       "      <td>IVE (아이브)</td>\n",
       "      <td>ELEVEN</td>\n",
       "      <td>135,484</td>\n",
       "    </tr>\n",
       "    <tr>\n",
       "      <th>30</th>\n",
       "      <td>주호</td>\n",
       "      <td>내가 아니라도</td>\n",
       "      <td>36,711</td>\n",
       "    </tr>\n",
       "    <tr>\n",
       "      <th>31</th>\n",
       "      <td>경서예지</td>\n",
       "      <td>다정히 내 이름을 부르면</td>\n",
       "      <td>138,141</td>\n",
       "    </tr>\n",
       "    <tr>\n",
       "      <th>32</th>\n",
       "      <td>보금자리</td>\n",
       "      <td>전건호</td>\n",
       "      <td>35,171</td>\n",
       "    </tr>\n",
       "    <tr>\n",
       "      <th>33</th>\n",
       "      <td>사랑해요 그대를</td>\n",
       "      <td>임영웅</td>\n",
       "      <td>35,366</td>\n",
       "    </tr>\n",
       "    <tr>\n",
       "      <th>34</th>\n",
       "      <td>INVU</td>\n",
       "      <td>임영웅</td>\n",
       "      <td>116,880</td>\n",
       "    </tr>\n",
       "    <tr>\n",
       "      <th>35</th>\n",
       "      <td>MY BAG</td>\n",
       "      <td>태연 (TAEYEON)</td>\n",
       "      <td>61,318</td>\n",
       "    </tr>\n",
       "    <tr>\n",
       "      <th>36</th>\n",
       "      <td>That's Hilarious</td>\n",
       "      <td>(여자)아이들</td>\n",
       "      <td>72,436</td>\n",
       "    </tr>\n",
       "    <tr>\n",
       "      <th>37</th>\n",
       "      <td>늦은 밤 헤어지긴 너무 아쉬워</td>\n",
       "      <td>Charlie Puth</td>\n",
       "      <td>27,999</td>\n",
       "    </tr>\n",
       "    <tr>\n",
       "      <th>38</th>\n",
       "      <td>STAY</td>\n",
       "      <td>케이시 (Kassy)</td>\n",
       "      <td>224,266</td>\n",
       "    </tr>\n",
       "    <tr>\n",
       "      <th>39</th>\n",
       "      <td>Justin Bieber</td>\n",
       "      <td>The Kid LAROI</td>\n",
       "      <td>64,633</td>\n",
       "    </tr>\n",
       "    <tr>\n",
       "      <th>40</th>\n",
       "      <td>세븐틴</td>\n",
       "      <td>HOT</td>\n",
       "      <td>73,352</td>\n",
       "    </tr>\n",
       "    <tr>\n",
       "      <th>41</th>\n",
       "      <td>MSG워너비(M.O.M)</td>\n",
       "      <td>듣고 싶을까</td>\n",
       "      <td>42,889</td>\n",
       "    </tr>\n",
       "    <tr>\n",
       "      <th>42</th>\n",
       "      <td>제시 (Jessi)</td>\n",
       "      <td>ZOOM</td>\n",
       "      <td>177,411</td>\n",
       "    </tr>\n",
       "    <tr>\n",
       "      <th>43</th>\n",
       "      <td>태연 (TAEYEON)</td>\n",
       "      <td>Weekend</td>\n",
       "      <td>50,004</td>\n",
       "    </tr>\n",
       "    <tr>\n",
       "      <th>44</th>\n",
       "      <td>주시크 (Joosiq)</td>\n",
       "      <td>아무래도 난</td>\n",
       "      <td>563,443</td>\n",
       "    </tr>\n",
       "    <tr>\n",
       "      <th>45</th>\n",
       "      <td>방탄소년단</td>\n",
       "      <td>봄날</td>\n",
       "      <td>20,950</td>\n",
       "    </tr>\n",
       "    <tr>\n",
       "      <th>46</th>\n",
       "      <td>다비치</td>\n",
       "      <td>팡파레</td>\n",
       "      <td>246,060</td>\n",
       "    </tr>\n",
       "    <tr>\n",
       "      <th>47</th>\n",
       "      <td>aespa</td>\n",
       "      <td>Next Level</td>\n",
       "      <td>53,382</td>\n",
       "    </tr>\n",
       "    <tr>\n",
       "      <th>48</th>\n",
       "      <td>방탄소년단</td>\n",
       "      <td>Born Singer</td>\n",
       "      <td>114,687</td>\n",
       "    </tr>\n",
       "    <tr>\n",
       "      <th>49</th>\n",
       "      <td>YENA (최예나)</td>\n",
       "      <td>SMILEY (Feat. BIBI)</td>\n",
       "      <td>128,855</td>\n",
       "    </tr>\n",
       "  </tbody>\n",
       "</table>\n",
       "</div>"
      ],
      "text/plain": [
       "                  아티스트                                     제목      좋아요\n",
       "0            IVE (아이브)                              LOVE DIVE  143,975\n",
       "1              (여자)아이들                                 TOMBOY  187,980\n",
       "2             싸이 (PSY)  That That (prod. & feat. SUGA of BTS)   97,394\n",
       "3                 멜로망스                                 사랑인가 봐  132,360\n",
       "4                  임영웅                               우리들의 블루스   64,822\n",
       "5                  임영웅                              사랑은 늘 도망가  164,702\n",
       "6                방탄소년단                            Yet To Come   98,132\n",
       "7    BIG Naughty (서동현)                   정이라고 하자 (Feat. 10CM)  126,485\n",
       "8         BIGBANG (빅뱅)                   봄여름가을겨울 (Still Life)  274,080\n",
       "9                  임영웅                            다시 만날 수 있을까   52,388\n",
       "10                  경서                                 나의 X에게   72,783\n",
       "11  LE SSERAFIM (르세라핌)                               FEARLESS   47,527\n",
       "12           BE'O (비오)                                LOVE me   85,336\n",
       "13                 임영웅                                    무지개   40,624\n",
       "14                 임영웅                              이제 나만 믿어요  155,611\n",
       "15          김민석 (멜로망스)                                   취중고백  129,758\n",
       "16   Red Velvet (레드벨벳)                         Feel My Rhythm  130,520\n",
       "17               방탄소년단                               Dynamite  437,898\n",
       "18                 임영웅                                    아버지   37,827\n",
       "19               방탄소년단                                 Butter  274,798\n",
       "20                 임영웅                             손이 참 곱던 그대   36,495\n",
       "21                 임영웅                              A bientot   36,885\n",
       "22                 임영웅                                 사랑해 진짜   36,863\n",
       "23                 임영웅                                   인생찬가   36,401\n",
       "24                 임영웅                                   연애편지   35,884\n",
       "25               방탄소년단                    Permission to Dance  209,123\n",
       "26                 박재범                   GANADARA (Feat. 아이유)  116,593\n",
       "27                 이무진                                    신호등  281,173\n",
       "28                 임영웅                                    사랑역   35,535\n",
       "29           IVE (아이브)                                 ELEVEN  135,484\n",
       "30                  주호                                내가 아니라도   36,711\n",
       "31                경서예지                          다정히 내 이름을 부르면  138,141\n",
       "32                보금자리                                    전건호   35,171\n",
       "33            사랑해요 그대를                                    임영웅   35,366\n",
       "34                INVU                                    임영웅  116,880\n",
       "35              MY BAG                           태연 (TAEYEON)   61,318\n",
       "36    That's Hilarious                                (여자)아이들   72,436\n",
       "37    늦은 밤 헤어지긴 너무 아쉬워                           Charlie Puth   27,999\n",
       "38                STAY                            케이시 (Kassy)  224,266\n",
       "39       Justin Bieber                          The Kid LAROI   64,633\n",
       "40                 세븐틴                                    HOT   73,352\n",
       "41       MSG워너비(M.O.M)                                 듣고 싶을까   42,889\n",
       "42          제시 (Jessi)                                   ZOOM  177,411\n",
       "43        태연 (TAEYEON)                                Weekend   50,004\n",
       "44        주시크 (Joosiq)                                 아무래도 난  563,443\n",
       "45               방탄소년단                                     봄날   20,950\n",
       "46                 다비치                                    팡파레  246,060\n",
       "47               aespa                             Next Level   53,382\n",
       "48               방탄소년단                            Born Singer  114,687\n",
       "49          YENA (최예나)                    SMILEY (Feat. BIBI)  128,855"
      ]
     },
     "execution_count": 80,
     "metadata": {},
     "output_type": "execute_result"
    }
   ],
   "source": [
    "total = soup.select('tr#lst50>td>div.wrap>div.wrap_song_info>div>span>a')\n",
    "like = soup.select('tr#lst50>td>div.wrap>button.button_etc.like>span.cnt')\n",
    "df = pd.DataFrame()\n",
    "all_list = []\n",
    "like_list = []\n",
    "\n",
    "for i in range(0, 100 ,2):\n",
    "    song = total[i].text\n",
    "    artist = total[i+1].text\n",
    "    song_artist = artist, song\n",
    "    all_list.append(song_artist)\n",
    "    df = pd.DataFrame(all_list,columns=['아티스트','제목'])\n",
    "\n",
    "for i in range(len(like)):\n",
    "    like_list.append(like[i].text[5:])\n",
    "df['좋아요'] = like_list\n",
    "df"
   ]
  },
  {
   "cell_type": "code",
   "execution_count": null,
   "metadata": {},
   "outputs": [],
   "source": [
    "for i in range(len(total)):\n",
    "    df['좋아요'] = like[i].text[5:]"
   ]
  },
  {
   "cell_type": "code",
   "execution_count": 69,
   "metadata": {},
   "outputs": [
    {
     "data": {
      "text/plain": [
       "'143,975'"
      ]
     },
     "execution_count": 69,
     "metadata": {},
     "output_type": "execute_result"
    }
   ],
   "source": [
    "like = soup.select('tr#lst50>td>div.wrap>button.button_etc.like>span.cnt')[0].text[5:]"
   ]
  }
 ],
 "metadata": {
  "kernelspec": {
   "display_name": "Python 3.9.12 ('base')",
   "language": "python",
   "name": "python3"
  },
  "language_info": {
   "codemirror_mode": {
    "name": "ipython",
    "version": 3
   },
   "file_extension": ".py",
   "mimetype": "text/x-python",
   "name": "python",
   "nbconvert_exporter": "python",
   "pygments_lexer": "ipython3",
   "version": "3.9.12"
  },
  "orig_nbformat": 4,
  "vscode": {
   "interpreter": {
    "hash": "610a6f344c2137faf927ea819c63f6cee33a2c04455044b28099f39fe9722347"
   }
  }
 },
 "nbformat": 4,
 "nbformat_minor": 2
}
