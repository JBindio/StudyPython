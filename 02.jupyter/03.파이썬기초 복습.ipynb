{
 "cells": [
  {
   "cell_type": "markdown",
   "id": "32103fe8",
   "metadata": {},
   "source": [
    "# 00_파이썬기초 복습"
   ]
  },
  {
   "cell_type": "markdown",
   "id": "8421a321",
   "metadata": {},
   "source": [
    "### 1) range()를 사용하여, 1~100의 수 중, 7의 배수를 리스트 a에 담으시오."
   ]
  },
  {
   "cell_type": "code",
   "execution_count": 2,
   "id": "f9bb61a1",
   "metadata": {
    "scrolled": false
   },
   "outputs": [
    {
     "data": {
      "text/plain": [
       "[7, 14, 21, 28, 35, 42, 49, 56, 63, 70, 77, 84, 91, 98]"
      ]
     },
     "execution_count": 2,
     "metadata": {},
     "output_type": "execute_result"
    }
   ],
   "source": [
    "a = list(range(7,101,7))\n",
    "a"
   ]
  },
  {
   "cell_type": "markdown",
   "id": "610d235c",
   "metadata": {},
   "source": [
    "### 2) a에서 인덱스 4~7까지 조회하시오."
   ]
  },
  {
   "cell_type": "code",
   "execution_count": 4,
   "id": "abfa02b3",
   "metadata": {},
   "outputs": [
    {
     "data": {
      "text/plain": [
       "[35, 42, 49, 56]"
      ]
     },
     "execution_count": 4,
     "metadata": {},
     "output_type": "execute_result"
    }
   ],
   "source": [
    "a[4:8]"
   ]
  },
  {
   "cell_type": "markdown",
   "id": "f267bed8",
   "metadata": {},
   "source": [
    "### 3) a의 끝에서 세번째 값을 조회하시오."
   ]
  },
  {
   "cell_type": "code",
   "execution_count": 5,
   "id": "1fa943c6",
   "metadata": {},
   "outputs": [
    {
     "data": {
      "text/plain": [
       "84"
      ]
     },
     "execution_count": 5,
     "metadata": {},
     "output_type": "execute_result"
    }
   ],
   "source": [
    "a[-3]"
   ]
  },
  {
   "cell_type": "markdown",
   "id": "2d029dd3",
   "metadata": {},
   "source": [
    "### 4) a에 데이터 갯수(길이)를 구하시오."
   ]
  },
  {
   "cell_type": "code",
   "execution_count": 90,
   "id": "b1c94ea5",
   "metadata": {},
   "outputs": [
    {
     "data": {
      "text/plain": [
       "14"
      ]
     },
     "execution_count": 90,
     "metadata": {},
     "output_type": "execute_result"
    }
   ],
   "source": [
    "len(a)"
   ]
  },
  {
   "cell_type": "markdown",
   "id": "3a351a5e",
   "metadata": {},
   "source": [
    "### 5) a 값들의 합과 평균을 구하시오."
   ]
  },
  {
   "cell_type": "code",
   "execution_count": 24,
   "id": "f55e185a",
   "metadata": {},
   "outputs": [
    {
     "name": "stdout",
     "output_type": "stream",
     "text": [
      "합 = 735 평균 = 52.5\n"
     ]
    }
   ],
   "source": [
    "print('합 =', sum(a), '평균 =' ,sum(a)/len(a))"
   ]
  },
  {
   "cell_type": "markdown",
   "id": "a1f9f7b2",
   "metadata": {},
   "source": [
    "### 6) [심화] 반복문을 이용하여 100이하의 소수(prime number)를 리스트에 담아봅시다.\n",
    "* 소수(prime number) : 1과 자기자신으로만 나누어 지는 수"
   ]
  },
  {
   "cell_type": "code",
   "execution_count": 91,
   "id": "0addfc8f",
   "metadata": {},
   "outputs": [
    {
     "name": "stdout",
     "output_type": "stream",
     "text": [
      "[2, 3, 5, 7, 11, 13, 17, 19, 23, 29, 31, 37, 41, 43, 47, 53, 59, 61, 67, 71, 73, 79, 83, 89, 97]\n"
     ]
    }
   ],
   "source": [
    "prime_number = []\n",
    "\n",
    "for i in range(2, 101):\n",
    "    divide = 0\n",
    "    for j in range(1,i+1):\n",
    "        if i % j == 0:  # 2 % 1 and 2 % 2 == 0\n",
    "            divide += 1\n",
    "    if divide == 2:\n",
    "        prime_number.append(i)\n",
    "\n",
    "print(prime_number)"
   ]
  },
  {
   "cell_type": "code",
   "execution_count": 92,
   "id": "bd1bca2c",
   "metadata": {},
   "outputs": [
    {
     "name": "stdout",
     "output_type": "stream",
     "text": [
      "[2, 3, 5, 7, 11, 13, 17, 19, 23, 29, 31, 37, 41, 43, 47, 53, 59, 61, 67, 71, 73, 79, 83, 89, 97]\n"
     ]
    }
   ],
   "source": [
    "import math\n",
    "\n",
    "prime_number = []\n",
    "\n",
    "for i in range(2,101):\n",
    "    divide = 0\n",
    "    for j in range(2, int(math.sqrt(i)) + 1):\n",
    "        if i % j == 0:\n",
    "            divide += 1\n",
    "    if divide == 0:\n",
    "        prime_number.append(i)\n",
    "        \n",
    "print(prime_number)"
   ]
  },
  {
   "cell_type": "markdown",
   "id": "87a34e47",
   "metadata": {},
   "source": [
    "### 7) [심화] 6번의 코드를 참조하여, 소수 추출기 함수를 만들어봅시다.\n",
    "\n",
    "* 입력변수 : 정수 n\n",
    "* 처리 : n 이하의 소수를 리스트에 저장\n",
    "* 출력변수 : 소수 리스트\n",
    "* [주의] 입력변수 n은 2이상의 정수여야 함.(입력값 체크 부분 포함)"
   ]
  },
  {
   "cell_type": "code",
   "execution_count": null,
   "id": "7a6becf0",
   "metadata": {},
   "outputs": [],
   "source": [
    "def prime1(n):\n",
    "    \n",
    "    prime_number = []\n",
    "\n",
    "    for i in range(2, n):\n",
    "        divide = 0\n",
    "        for j in range(1,i+1):\n",
    "            if i % j == 0:    # 2 % 1 and 2 % 2 == 0\n",
    "                divide += 1\n",
    "        if divide == 2:\n",
    "            prime_number.append(i)\n",
    "\n",
    "    return prime_number\n",
    "\n",
    "print(prime1(100))\n",
    "\n",
    "import math\n",
    "\n",
    "def prime2(n):\n",
    "\n",
    "    prime_number = []\n",
    "    \n",
    "    for i in range(2,n):\n",
    "        divide = 0\n",
    "        for j in range(2, int(math.sqrt(i)) + 1):\n",
    "            if i % j == 0:\n",
    "                divide += 1\n",
    "        if divide == 0:\n",
    "            prime_number.append(i)\n",
    "\n",
    "    return prime_number\n",
    "\n",
    "print(prime2(100))"
   ]
  },
  {
   "cell_type": "markdown",
   "id": "95543764",
   "metadata": {},
   "source": [
    "### 속도비교"
   ]
  },
  {
   "cell_type": "code",
   "execution_count": 26,
   "id": "02c7eaf7",
   "metadata": {},
   "outputs": [
    {
     "name": "stdout",
     "output_type": "stream",
     "text": [
      "prime1's time :  4.057244300842285\n",
      "prime2's time :  0.050341129302978516\n"
     ]
    }
   ],
   "source": [
    "import time\n",
    "\n",
    "start = time.time()\n",
    "prime1(10000)\n",
    "print(\"prime1's time : \", time.time() - start)\n",
    "\n",
    "start = time.time()\n",
    "prime2(10000)\n",
    "print(\"prime2's time : \", time.time() - start)"
   ]
  },
  {
   "cell_type": "markdown",
   "id": "2217cfb7",
   "metadata": {},
   "source": [
    "### 8) 아래 값으로 딕셔너리 d를 생성해봅시다."
   ]
  },
  {
   "cell_type": "markdown",
   "id": "b9f9a311",
   "metadata": {},
   "source": [
    "|key | value|\n",
    "|----|----|\n",
    "|v1 | [1,2,3]|\n",
    "|v2 | {'a':23, 'b':[4,5]}|"
   ]
  },
  {
   "cell_type": "code",
   "execution_count": 81,
   "id": "f3c973e3",
   "metadata": {},
   "outputs": [],
   "source": [
    "d = {'v1':[1,2,3], 'v2':{'a':23, 'b':[4,5]}}"
   ]
  },
  {
   "cell_type": "markdown",
   "id": "ca6dc4e7",
   "metadata": {},
   "source": [
    "### 9) d에서 [1,2,3]을 출력해봅시다."
   ]
  },
  {
   "cell_type": "code",
   "execution_count": 82,
   "id": "a7e61d5c",
   "metadata": {},
   "outputs": [
    {
     "name": "stdout",
     "output_type": "stream",
     "text": [
      "[1, 2, 3]\n"
     ]
    }
   ],
   "source": [
    "d['v1']"
   ]
  },
  {
   "cell_type": "markdown",
   "id": "0e94150f",
   "metadata": {},
   "source": [
    "### 10) d에서 23을 출력해봅시다."
   ]
  },
  {
   "cell_type": "code",
   "execution_count": 84,
   "id": "724ccbf1",
   "metadata": {},
   "outputs": [
    {
     "name": "stdout",
     "output_type": "stream",
     "text": [
      "23\n"
     ]
    }
   ],
   "source": [
    "d['v2']['a']"
   ]
  },
  {
   "cell_type": "markdown",
   "id": "50c78ee7",
   "metadata": {},
   "source": [
    "### 11) d에서 5를 출력해봅시다."
   ]
  },
  {
   "cell_type": "code",
   "execution_count": 96,
   "id": "daac49db",
   "metadata": {},
   "outputs": [
    {
     "data": {
      "text/plain": [
       "5"
      ]
     },
     "execution_count": 96,
     "metadata": {},
     "output_type": "execute_result"
    }
   ],
   "source": [
    "d['v2']['b'][1]"
   ]
  },
  {
   "cell_type": "markdown",
   "id": "0de984b1",
   "metadata": {},
   "source": [
    "### 12) d에 key : 'newKey', value :1,2 를 추가하고 출력해봅시다."
   ]
  },
  {
   "cell_type": "code",
   "execution_count": 97,
   "id": "4d0f0c06",
   "metadata": {
    "scrolled": true
   },
   "outputs": [
    {
     "data": {
      "text/plain": [
       "(1, 2)"
      ]
     },
     "execution_count": 97,
     "metadata": {},
     "output_type": "execute_result"
    }
   ],
   "source": [
    "d['newKey'] = 1,2\n",
    "d['newKey']"
   ]
  },
  {
   "cell_type": "markdown",
   "id": "a3b532d7",
   "metadata": {},
   "source": [
    "### 13) [심화] 반복문과 딕셔너리를 사용하여 주어진 단어에서 가장 많이 사용된 알파벳을 출력해봅시다.\n",
    "* 주어진 단어 : \"Big Data Analysis\"\n",
    "* 대문자, 소문자는 구분하지 않습니다.\n",
    "* 가장 많이 사용된 알파벳을 2개 이상일 경우, 전부 출력해줍니다."
   ]
  },
  {
   "cell_type": "code",
   "execution_count": 113,
   "id": "2a137d01",
   "metadata": {},
   "outputs": [
    {
     "name": "stdout",
     "output_type": "stream",
     "text": [
      "['a']\n"
     ]
    }
   ],
   "source": [
    "s = 'Big Data Analysis'\n",
    "# 소문자로 변환 뒤 띄어쓰기 변환\n",
    "s = ''.join(s.lower().split(' ')) # upper\n",
    "alphabet = {}\n",
    "\n",
    "for i in s:\n",
    "    if i not in alphabet:\n",
    "        alphabet[i] = 1\n",
    "    else:\n",
    "        alphabet[i] += 1\n",
    "\n",
    "alpha_list = []\n",
    "\n",
    "for k, v in alphabet.items(): # key, value 값 쌍으로 출력\n",
    "    if v == max(alphabet.values()):\n",
    "        alpha_list.append(k)\n",
    "print(alpha_list)"
   ]
  }
 ],
 "metadata": {
  "interpreter": {
   "hash": "38ae1ba9371524da054e8e3fbefd778d16b5a8ac7937a3f395010f627bb73919"
  },
  "kernelspec": {
   "display_name": "Python 3 (ipykernel)",
   "language": "python",
   "name": "python3"
  },
  "language_info": {
   "codemirror_mode": {
    "name": "ipython",
    "version": 3
   },
   "file_extension": ".py",
   "mimetype": "text/x-python",
   "name": "python",
   "nbconvert_exporter": "python",
   "pygments_lexer": "ipython3",
   "version": "3.9.12"
  }
 },
 "nbformat": 4,
 "nbformat_minor": 5
}
