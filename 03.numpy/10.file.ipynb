{
 "cells": [
  {
   "cell_type": "code",
   "execution_count": 2,
   "id": "0afc49ae",
   "metadata": {},
   "outputs": [],
   "source": [
    "import numpy as np"
   ]
  },
  {
   "cell_type": "markdown",
   "id": "80f25fba",
   "metadata": {},
   "source": [
    "#### 파일 입출력"
   ]
  },
  {
   "cell_type": "code",
   "execution_count": 3,
   "id": "642132b8",
   "metadata": {},
   "outputs": [
    {
     "name": "stdout",
     "output_type": "stream",
     "text": [
      "[[ 0.63880227  1.16824118 -0.08993662 -1.42962114 -0.47811754]\n",
      " [-1.00933586 -1.32617984  2.35382711 -0.04131934 -1.00125026]\n",
      " [-0.56280116 -0.26220182 -0.35313379  0.07216263  0.12454392]]\n"
     ]
    }
   ],
   "source": [
    "n = np.random.randn(3,5)\n",
    "print(n)\n",
    "n.tofile('C:/STUDY/StudyPython/04.numpy/file/n.npy')"
   ]
  },
  {
   "cell_type": "code",
   "execution_count": 5,
   "id": "4171287f",
   "metadata": {},
   "outputs": [
    {
     "name": "stdout",
     "output_type": "stream",
     "text": [
      "[[ 0.63880227  1.16824118 -0.08993662 -1.42962114 -0.47811754]\n",
      " [-1.00933586 -1.32617984  2.35382711 -0.04131934 -1.00125026]\n",
      " [-0.56280116 -0.26220182 -0.35313379  0.07216263  0.12454392]]\n"
     ]
    }
   ],
   "source": [
    "m = np.fromfile('./file/n.npy').reshape(3,5)\n",
    "print(m)"
   ]
  },
  {
   "cell_type": "code",
   "execution_count": 12,
   "id": "0868eef2",
   "metadata": {},
   "outputs": [
    {
     "name": "stdout",
     "output_type": "stream",
     "text": [
      "[[ 0.70396975  0.58308879 -1.16107468 -1.09363928  0.27499765]\n",
      " [ 0.90470207 -0.01679377  0.94446354 -0.09912007  0.02291036]\n",
      " [ 1.52559177  0.35213229  0.35259221  1.14007051  1.00487808]]\n"
     ]
    }
   ],
   "source": [
    "# save, load - 파일 저장/불러오기\n",
    "np.save('./file/n1.npy',n)\n",
    "m1 = np.load('./file/n1.npy')\n",
    "print(m1)"
   ]
  },
  {
   "cell_type": "code",
   "execution_count": 8,
   "id": "ee826bf0",
   "metadata": {},
   "outputs": [
    {
     "name": "stdout",
     "output_type": "stream",
     "text": [
      "[[ 0.63880227  1.16824118 -0.08993662 -1.42962114 -0.47811754]\n",
      " [-1.00933586 -1.32617984  2.35382711 -0.04131934 -1.00125026]\n",
      " [-0.56280116 -0.26220182 -0.35313379  0.07216263  0.12454392]]\n"
     ]
    }
   ],
   "source": [
    "np.savetxt('./file/n.txt',n)\n",
    "m2 = np.loadtxt('./file/n.txt')\n",
    "print(m2)"
   ]
  },
  {
   "cell_type": "code",
   "execution_count": 13,
   "id": "988885f8",
   "metadata": {},
   "outputs": [
    {
     "name": "stdout",
     "output_type": "stream",
     "text": [
      "[[ 0.63880227  1.16824118 -0.08993662 -1.42962114 -0.47811754]\n",
      " [-1.00933586 -1.32617984  2.35382711 -0.04131934 -1.00125026]\n",
      " [-0.56280116 -0.26220182 -0.35313379  0.07216263  0.12454392]]\n"
     ]
    }
   ],
   "source": [
    "np.savetxt('./file/n.csv',n, delimiter=',')\n",
    "m3 = np.loadtxt('./file/n.csv', delimiter=',')\n",
    "print(m3)"
   ]
  },
  {
   "cell_type": "code",
   "execution_count": 35,
   "id": "49ea48b1",
   "metadata": {},
   "outputs": [
    {
     "name": "stdout",
     "output_type": "stream",
     "text": [
      "[[ 1  2  3  4  5]\n",
      " [ 6  7  8  9 10]\n",
      " [11 12 13 14 15]\n",
      " [16 17 18 19 20]\n",
      " [21 22 23 24 25]]\n"
     ]
    }
   ],
   "source": [
    "a = np.arange(1,26,dtype=np.int8).reshape(5,5)\n",
    "\n",
    "np.savetxt('./file/data.csv',a,delimiter=',')\n",
    "np.savetxt('./file/data1.csv',np.arange(1,26,dtype=np.int8).reshape(5,5),delimiter=',')\n",
    "arr = np.loadtxt('./file/data1.csv',delimiter=',',dtype=np.int8)\n",
    "print(arr)"
   ]
  },
  {
   "cell_type": "code",
   "execution_count": 29,
   "id": "07b795c0",
   "metadata": {},
   "outputs": [
    {
     "name": "stdout",
     "output_type": "stream",
     "text": [
      "[['1' '15' '14' '4']\n",
      " ['12' '6' '7' '9']\n",
      " ['8' '10' '11' '5']\n",
      " ['13' '3' '2' '16']]\n"
     ]
    }
   ],
   "source": [
    "arr1 = np.loadtxt('./data/06_data1.txt',delimiter='\\t',dtype=np.str_)\n",
    "print(arr1)"
   ]
  },
  {
   "cell_type": "code",
   "execution_count": 22,
   "metadata": {},
   "outputs": [
    {
     "name": "stdout",
     "output_type": "stream",
     "text": [
      "[[ 1 15 14  4]\n",
      " [12  6  7  9]\n",
      " [ 8 10 11  5]\n",
      " [13  3  2 16]]\n"
     ]
    }
   ],
   "source": [
    "arr2 = np.loadtxt('./data/06_data2.txt',delimiter=',',dtype=int)\n",
    "print(arr2)"
   ]
  },
  {
   "cell_type": "code",
   "execution_count": 92,
   "id": "dc8c0def",
   "metadata": {},
   "outputs": [
    {
     "name": "stdout",
     "output_type": "stream",
     "text": [
      "[[      1  565082     273   27177]\n",
      " [      2 2827233     444   45111]\n",
      " [      3 1144913     289   29043]\n",
      " [      4 1131034     230   22436]\n",
      " [      5  380425     391   38020]]\n",
      "(17, 4)\n",
      "[ 1  2  3  4  5  6  7  8  9 10 11 12 13 14 15 16 17]\n"
     ]
    }
   ],
   "source": [
    "el = np.loadtxt('./data/ex1_지역별전기요금.csv',delimiter=',',dtype=int)\n",
    "#print(el)\n",
    "# 강원1\t 경기2\t경남3\t경북4\t광주5\t대구6\t대전7\t부산8\t서울9\n",
    "# 세종10 울산11 인천12  전남13\t전북14\t제주15\t충남16\t충북17\t\n",
    "\n",
    "print(el[:5,:]) # 상위 5개 데이터 출력\n",
    "print(el.shape)\n",
    "print(np.unique(el[:,0]))"
   ]
  },
  {
   "cell_type": "code",
   "execution_count": 133,
   "id": "59429376",
   "metadata": {},
   "outputs": [
    {
     "name": "stdout",
     "output_type": "stream",
     "text": [
      "1열 오름차순 인덱싱]\n",
      " [ 9 14 10  4  6  0 16 13  5 12 11 15  7  3  2  8  1]\n",
      "\n",
      "팬시인덱싱\n",
      " [[     10   49394     580   57091]\n",
      " [     15  258605     221   22180]\n",
      " [     11  323151     353   35470]\n",
      " [      5  380425     391   38020]\n",
      " [      7  425659     344   32331]\n",
      " [      1  565082     273   27177]\n",
      " [     17  584500     268   26899]\n",
      " [     14  634696     285   28556]\n",
      " [      6  668623     364   35245]\n",
      " [     13  726699     249   25120]\n",
      " [     12  734723     398   40049]\n",
      " [     16  742285     282   27901]\n",
      " [      8  947300     366   36274]\n",
      " [      4 1131034     230   22436]\n",
      " [      3 1144913     289   29043]\n",
      " [      9 2737725     361   36569]\n",
      " [      2 2827233     444   45111]]\n",
      "\n",
      "3열 내림차순 인덱싱]\n",
      " [14  3 12 16  0 15 13  2  6  5 10  7  8  4 11  1  9]\n",
      "\n",
      "팬시인덱싱\n",
      " [[     10   49394     580   57091]\n",
      " [      2 2827233     444   45111]\n",
      " [     12  734723     398   40049]\n",
      " [      5  380425     391   38020]\n",
      " [      9 2737725     361   36569]\n",
      " [      8  947300     366   36274]\n",
      " [     11  323151     353   35470]\n",
      " [      6  668623     364   35245]\n",
      " [      7  425659     344   32331]\n",
      " [      3 1144913     289   29043]\n",
      " [     14  634696     285   28556]\n",
      " [     16  742285     282   27901]\n",
      " [      1  565082     273   27177]\n",
      " [     17  584500     268   26899]\n",
      " [     13  726699     249   25120]\n",
      " [      4 1131034     230   22436]\n",
      " [     15  258605     221   22180]]\n"
     ]
    }
   ],
   "source": [
    "# 1열 기준 오름차순 정렬\n",
    "print('1열 오름차순 인덱싱]\\n', el[:,1].argsort())\n",
    "print()\n",
    "print('팬시인덱싱\\n', el[el[:,1].argsort()])\n",
    "print()\n",
    "# 3열 기준 내림차순정렬\n",
    "print('3열 내림차순 인덱싱]\\n', el[:,3].argsort())\n",
    "print()\n",
    "print('팬시인덱싱\\n', el[el[:,3].argsort()[::-1]])\n"
   ]
  },
  {
   "cell_type": "code",
   "execution_count": 142,
   "id": "9e0efed0",
   "metadata": {},
   "outputs": [
    {
     "name": "stdout",
     "output_type": "stream",
     "text": [
      "가구수 합 1 = 14882047\n",
      "가구수 합 2 = 14882047\n",
      "전력 평균값 1 = 335.18\n",
      "전력 평균값 2 = 335.18\n"
     ]
    }
   ],
   "source": [
    "# 총 가구수\n",
    "print('가구수 합 1 =',np.sum(el[:,1]))\n",
    "print('가구수 합 2 =',el[:,1].sum())\n",
    "# 가구당 평균전력 사용량의 전국 평균값\n",
    "print('전력 평균값 1 =', round(np.mean(el[:,2]),2))\n",
    "print('전력 평균값 2 =',round(el[:,2].mean(),2))"
   ]
  },
  {
   "cell_type": "code",
   "execution_count": 151,
   "id": "c501fd04",
   "metadata": {},
   "outputs": [
    {
     "name": "stdout",
     "output_type": "stream",
     "text": [
      "전력 총 합 = 5698\n",
      "총 지역수 = 17\n",
      "평균 =  335.18\n"
     ]
    }
   ],
   "source": [
    "# 무식하게 평균 구하기\n",
    "el_sum = np.sum(el[:,2])\n",
    "print('전력 총 합 =', el_sum)\n",
    "n_rows = el.shape[0]\n",
    "print('총 지역수 =', n_rows)\n",
    "print('평균 = ', round(el_sum/n_rows,2))"
   ]
  },
  {
   "cell_type": "code",
   "execution_count": 189,
   "id": "08f4ec81",
   "metadata": {},
   "outputs": [
    {
     "name": "stdout",
     "output_type": "stream",
     "text": [
      "[[      2 2827233]\n",
      " [      5  380425]\n",
      " [      6  668623]\n",
      " [      7  425659]\n",
      " [      8  947300]\n",
      " [      9 2737725]\n",
      " [     10   49394]\n",
      " [     11  323151]\n",
      " [     12  734723]]\n",
      "\n",
      "[[     10   49394]\n",
      " [     11  323151]\n",
      " [      5  380425]\n",
      " [      7  425659]\n",
      " [      6  668623]\n",
      " [     12  734723]\n",
      " [      8  947300]\n",
      " [      9 2737725]\n",
      " [      2 2827233]]\n",
      "[[     10   49394]\n",
      " [     11  323151]\n",
      " [      5  380425]\n",
      " [      7  425659]\n",
      " [      6  668623]\n",
      " [     12  734723]\n",
      " [      8  947300]\n",
      " [      9 2737725]\n",
      " [      2 2827233]]\n"
     ]
    }
   ],
   "source": [
    "# 가구당 평균 전력 사용량이 평균 이상인 지역과, 대상 가구수 추출\n",
    "el_avr = round(el[:,2].mean(),2)\n",
    "print(el[el[:,2]> el_avr,0:2])\n",
    "a = el[el[:,2]> el_avr,0:2]\n",
    "print()\n",
    "# 가구당 평균 전력 사용량이 평균 이상인 지역과, 대상 가구수가 낮은 순서대로 추출\n",
    "print(a[np.argsort(a[:,1])])\n",
    "print(a[a[:,1].argsort()])"
   ]
  },
  {
   "cell_type": "code",
   "execution_count": 184,
   "id": "e7c86c1d",
   "metadata": {},
   "outputs": [
    {
     "name": "stdout",
     "output_type": "stream",
     "text": [
      "[[2014    1  218    4   -9   -4]\n",
      " [2014    2  872   19  -45   -4]\n",
      " [2014    3  401    8  -45  -10]\n",
      " [2014    4  464   10  -41   -8]\n",
      " [2014    5   99    2   -5   -4]\n",
      " [2014    6  182    4   19   11]\n",
      " [2014    7   99    2    8    8]\n",
      " [2014    8  163    3  -47  -22]\n",
      " [2014    9  386    8   14    3]\n",
      " [2014   10   20    0    0    0]\n",
      " [2014   11  103    2  -16  -13]\n",
      " [2014   12  144    3   -6   -4]\n",
      " [2014   13  400    8  -35   -8]\n",
      " [2014   14  317    6  -35   -9]\n",
      " [2014   15   86    1  -14  -14]\n",
      " [2014   16  387    8   -5   -1]\n",
      " [2014   17  242    5  -31  -11]]\n"
     ]
    }
   ],
   "source": [
    "data = np.loadtxt('./data/ex2_전년대비_시도별_교통사망사고.csv', delimiter=',',dtype=int)\n",
    "print(data)\n",
    "\n",
    "# 발생년도 구분 발생건수 구성비(%) 증감수 증감률\n",
    "\t\t\n",
    "# 강원1\t 경기2\t경남3\t경북4\t광주5\t대구6\t대전7\t부산8\t서울9\n",
    "# 세종10 울산11\t인천12\t전남13\t전북14\t제주15\t충남16\t충북17\t\n"
   ]
  },
  {
   "cell_type": "code",
   "execution_count": 198,
   "id": "3124653e",
   "metadata": {},
   "outputs": [
    {
     "name": "stdout",
     "output_type": "stream",
     "text": [
      "[2014    7   99    2    8    8]\n"
     ]
    }
   ],
   "source": [
    "# 위 파일을 읽어보고 상위 3개의\n",
    "data1 = data[data[:,2].argsort()]\n",
    "print(data1[3])"
   ]
  }
 ],
 "metadata": {
  "interpreter": {
   "hash": "38ae1ba9371524da054e8e3fbefd778d16b5a8ac7937a3f395010f627bb73919"
  },
  "kernelspec": {
   "display_name": "Python 3 (ipykernel)",
   "language": "python",
   "name": "python3"
  },
  "language_info": {
   "codemirror_mode": {
    "name": "ipython",
    "version": 3
   },
   "file_extension": ".py",
   "mimetype": "text/x-python",
   "name": "python",
   "nbconvert_exporter": "python",
   "pygments_lexer": "ipython3",
   "version": "3.9.12"
  }
 },
 "nbformat": 4,
 "nbformat_minor": 5
}
