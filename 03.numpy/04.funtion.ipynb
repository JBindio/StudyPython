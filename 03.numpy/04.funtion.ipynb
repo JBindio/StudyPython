{
 "cells": [
  {
   "cell_type": "markdown",
   "id": "d7c4d35b",
   "metadata": {},
   "source": [
    "#### Arange (Array + Range)"
   ]
  },
  {
   "cell_type": "code",
   "execution_count": 4,
   "id": "e3fb441d",
   "metadata": {},
   "outputs": [],
   "source": [
    "import numpy as np"
   ]
  },
  {
   "cell_type": "code",
   "execution_count": 9,
   "id": "22d852c2",
   "metadata": {},
   "outputs": [
    {
     "name": "stdout",
     "output_type": "stream",
     "text": [
      "[ 0  1  2  3  4  5  6  7  8  9 10 11 12 13 14 15 16 17 18 19 20 21 22 23\n",
      " 24 25 26 27 28 29 30]\n",
      "[ 0  1  2  3  4  5  6  7  8  9 10 11 12 13 14 15 16 17 18 19 20 21 22 23\n",
      " 24 25 26 27 28 29 30]\n"
     ]
    }
   ],
   "source": [
    "print(np.array(range(31)))\n",
    "\n",
    "print(np.arange(31))"
   ]
  },
  {
   "cell_type": "code",
   "execution_count": 19,
   "id": "d40a6d8d",
   "metadata": {},
   "outputs": [
    {
     "name": "stdout",
     "output_type": "stream",
     "text": [
      "[ 1  3  5  7  9 11 13 15 17 19]\n",
      "[1.  1.2 1.4 1.6 1.8]\n",
      "[10  8  6  4  2]\n"
     ]
    }
   ],
   "source": [
    "print(np.arange(1,21,2))\n",
    "print(np.arange(1,2,0.2))\n",
    "print(np.arange(10,0,-2))"
   ]
  },
  {
   "cell_type": "markdown",
   "id": "618c40d5",
   "metadata": {},
   "source": [
    "#### Arange + Reshape"
   ]
  },
  {
   "cell_type": "code",
   "execution_count": 21,
   "id": "cdd1983a",
   "metadata": {},
   "outputs": [
    {
     "name": "stdout",
     "output_type": "stream",
     "text": [
      "[[ 1  2  3  4  5]\n",
      " [ 6  7  8  9 10]\n",
      " [11 12 13 14 15]\n",
      " [16 17 18 19 20]\n",
      " [21 22 23 24 25]]\n"
     ]
    }
   ],
   "source": [
    "print(np.arange(1,26).reshape(5,5))"
   ]
  },
  {
   "cell_type": "code",
   "execution_count": 23,
   "id": "2bf6d057",
   "metadata": {},
   "outputs": [
    {
     "name": "stdout",
     "output_type": "stream",
     "text": [
      "[[[0.  0.2 0.4 0.6 0.8]\n",
      "  [1.  1.2 1.4 1.6 1.8]]\n",
      "\n",
      " [[2.  2.2 2.4 2.6 2.8]\n",
      "  [3.  3.2 3.4 3.6 3.8]]\n",
      "\n",
      " [[4.  4.2 4.4 4.6 4.8]\n",
      "  [5.  5.2 5.4 5.6 5.8]]]\n"
     ]
    }
   ],
   "source": [
    "print(np.arange(0,6,0.2).reshape(3,2,5))"
   ]
  },
  {
   "cell_type": "code",
   "execution_count": 46,
   "id": "0e042b4a",
   "metadata": {},
   "outputs": [
    {
     "name": "stdout",
     "output_type": "stream",
     "text": [
      "[[100 110 120 130 140]\n",
      " [150 160 170 180 190]]\n"
     ]
    }
   ],
   "source": [
    "# 100 - 190 10간격 2, 5 행렬\n",
    "print(np.arange(100,191,10).reshape(2,5))"
   ]
  },
  {
   "cell_type": "code",
   "execution_count": 52,
   "id": "00be2bf1",
   "metadata": {},
   "outputs": [
    {
     "name": "stdout",
     "output_type": "stream",
     "text": [
      "[[[-2.  -1.5 -1. ]\n",
      "  [-0.5  0.   0.5]\n",
      "  [ 1.   1.5  2. ]]]\n"
     ]
    }
   ],
   "source": [
    "print(np.arange(-2,2.1,0.5).reshape(1,3,3))"
   ]
  },
  {
   "cell_type": "markdown",
   "id": "20341a93",
   "metadata": {},
   "source": [
    "#### Zeros - 0으로 채워진 배열 생성"
   ]
  },
  {
   "cell_type": "code",
   "execution_count": 75,
   "id": "438d4496",
   "metadata": {},
   "outputs": [
    {
     "name": "stdout",
     "output_type": "stream",
     "text": [
      "[0 0 0 0 0]\n",
      "[0 0 0 0 0]\n"
     ]
    }
   ],
   "source": [
    "print(np.zeros(5,np.int8))\n",
    "print(np.zeros(shape=(5,),dtype=np.int8))"
   ]
  },
  {
   "cell_type": "code",
   "execution_count": 62,
   "id": "42196033",
   "metadata": {},
   "outputs": [
    {
     "name": "stdout",
     "output_type": "stream",
     "text": [
      "[[0. 0. 0.]\n",
      " [0. 0. 0.]]\n",
      "float64\n"
     ]
    }
   ],
   "source": [
    "print(np.zeros((2,3)))\n",
    "print(np.zeros((2,3)).dtype)"
   ]
  },
  {
   "cell_type": "markdown",
   "id": "62e8ac69",
   "metadata": {},
   "source": [
    "#### Ones - 1로 채워진 배열 생성"
   ]
  },
  {
   "cell_type": "code",
   "execution_count": 81,
   "id": "7c10e422",
   "metadata": {},
   "outputs": [
    {
     "name": "stdout",
     "output_type": "stream",
     "text": [
      "[[1 1 1 1 1]\n",
      " [1 1 1 1 1]\n",
      " [1 1 1 1 1]\n",
      " [1 1 1 1 1]\n",
      " [1 1 1 1 1]]\n",
      "int8\n"
     ]
    }
   ],
   "source": [
    "print(np.ones((5,5),np.int8))\n",
    "print(np.ones((5,5),np.int8).dtype)"
   ]
  },
  {
   "cell_type": "markdown",
   "id": "c4a68e7d",
   "metadata": {},
   "source": [
    "#### Empty - 비어있는 배열 생성"
   ]
  },
  {
   "cell_type": "code",
   "execution_count": 85,
   "id": "4b7a1f9f",
   "metadata": {},
   "outputs": [
    {
     "name": "stdout",
     "output_type": "stream",
     "text": [
      "[[1 1 1]\n",
      " [1 1 1]]\n"
     ]
    }
   ],
   "source": [
    "print(np.empty((2,3),np.int8))"
   ]
  },
  {
   "cell_type": "markdown",
   "id": "d7de23da",
   "metadata": {},
   "source": [
    "#### Zeros_like, Ones_like, Empty_like - 기존의 배열을 0, 1 , empty로 변환"
   ]
  },
  {
   "cell_type": "code",
   "execution_count": 91,
   "id": "dd670304",
   "metadata": {},
   "outputs": [
    {
     "name": "stdout",
     "output_type": "stream",
     "text": [
      "[[0 0 0 0 0 0]\n",
      " [0 0 0 0 0 0]\n",
      " [0 0 0 0 0 0]\n",
      " [0 0 0 0 0 0]]\n"
     ]
    }
   ],
   "source": [
    "matrix = np.arange(24).reshape(4,6)\n",
    "print(np.zeros_like(matrix))"
   ]
  },
  {
   "cell_type": "code",
   "execution_count": 96,
   "id": "396077dc",
   "metadata": {},
   "outputs": [
    {
     "name": "stdout",
     "output_type": "stream",
     "text": [
      "[[1. 1. 1. 1. 1. 1. 1. 1. 1. 1.]\n",
      " [1. 1. 1. 1. 1. 1. 1. 1. 1. 1.]]\n"
     ]
    }
   ],
   "source": [
    "matrix = np.arange(-2,2,0.2).reshape(2,10)\n",
    "print(np.ones_like(matrix))"
   ]
  },
  {
   "cell_type": "code",
   "execution_count": 101,
   "id": "29e85fad",
   "metadata": {},
   "outputs": [
    {
     "name": "stdout",
     "output_type": "stream",
     "text": [
      "[[ 0  1  2  3  4  5]\n",
      " [ 6  7  8  9 10 11]\n",
      " [12 13 14 15 16 17]\n",
      " [18 19 20 21 22 23]\n",
      " [24 25 26 27 28 29]]\n"
     ]
    }
   ],
   "source": [
    "matrix = np.arange(30).reshape(5,6)\n",
    "print(np.empty_like(matrix))"
   ]
  },
  {
   "cell_type": "markdown",
   "id": "e45948d4",
   "metadata": {},
   "source": [
    "#### Identity - 단위 행렬\n"
   ]
  },
  {
   "cell_type": "code",
   "execution_count": 123,
   "id": "d2a5a1bb",
   "metadata": {},
   "outputs": [
    {
     "name": "stdout",
     "output_type": "stream",
     "text": [
      "[['1' '' '' '' '']\n",
      " ['' '1' '' '' '']\n",
      " ['' '' '1' '' '']\n",
      " ['' '' '' '1' '']\n",
      " ['' '' '' '' '1']]\n"
     ]
    }
   ],
   "source": [
    "print(np.identity((5),np.str_))"
   ]
  },
  {
   "cell_type": "code",
   "execution_count": 122,
   "id": "6bf273ea",
   "metadata": {},
   "outputs": [
    {
     "name": "stdout",
     "output_type": "stream",
     "text": [
      "[[1 0]\n",
      " [0 1]]\n"
     ]
    }
   ],
   "source": [
    "print(np.identity((2),np.int8))"
   ]
  },
  {
   "cell_type": "markdown",
   "id": "8107d6a3",
   "metadata": {},
   "source": [
    "#### Eye - 대각선이 1로 채워지는 행렬(위치 지정 가능)\n",
    "np.eye(size,M,k,dtype)</br>\n",
    "M = 보여지는 열의 갯수</br>\n",
    "k = 대각선의 시작위치"
   ]
  },
  {
   "cell_type": "code",
   "execution_count": 134,
   "id": "2b0da566",
   "metadata": {},
   "outputs": [
    {
     "name": "stdout",
     "output_type": "stream",
     "text": [
      "[[0. 0. 1. 0. 0. 0. 0. 0. 0. 0.]\n",
      " [0. 0. 0. 1. 0. 0. 0. 0. 0. 0.]\n",
      " [0. 0. 0. 0. 1. 0. 0. 0. 0. 0.]\n",
      " [0. 0. 0. 0. 0. 1. 0. 0. 0. 0.]\n",
      " [0. 0. 0. 0. 0. 0. 1. 0. 0. 0.]] <class 'numpy.int8'>\n"
     ]
    }
   ],
   "source": [
    "print(np.eye((5),M=10 ,k=2),np.int8)"
   ]
  },
  {
   "cell_type": "code",
   "execution_count": 150,
   "id": "4f31b698",
   "metadata": {},
   "outputs": [
    {
     "name": "stdout",
     "output_type": "stream",
     "text": [
      "[[0 0 0 0 0 1 0 0 0 0]\n",
      " [0 0 0 0 0 0 1 0 0 0]\n",
      " [0 0 0 0 0 0 0 1 0 0]\n",
      " [0 0 0 0 0 0 0 0 1 0]\n",
      " [0 0 0 0 0 0 0 0 0 1]]\n"
     ]
    }
   ],
   "source": [
    "print(np.eye((5),M=10 ,k=5, dtype= np.int8))"
   ]
  },
  {
   "cell_type": "markdown",
   "id": "09265ae6",
   "metadata": {},
   "source": [
    "#### Full - 입력 값으로 채워지는 행렬"
   ]
  },
  {
   "cell_type": "code",
   "execution_count": 155,
   "id": "929214ac",
   "metadata": {},
   "outputs": [
    {
     "name": "stdout",
     "output_type": "stream",
     "text": [
      "[['hi' 'hi' 'hi' 'hi' 'hi']\n",
      " ['hi' 'hi' 'hi' 'hi' 'hi']]\n"
     ]
    }
   ],
   "source": [
    "print(np.full((2,5),'hi'))"
   ]
  },
  {
   "cell_type": "code",
   "execution_count": 159,
   "id": "090b7367",
   "metadata": {},
   "outputs": [
    {
     "name": "stdout",
     "output_type": "stream",
     "text": [
      "[[3 3 3]\n",
      " [3 3 3]\n",
      " [3 3 3]]\n"
     ]
    }
   ],
   "source": [
    "print(np.ones((3,3), np.int8) * 3)"
   ]
  },
  {
   "cell_type": "markdown",
   "id": "344869f7",
   "metadata": {},
   "source": [
    "#### Random.ranint - 주어진 범위 안의 랜덤한 값 추출 함수"
   ]
  },
  {
   "cell_type": "code",
   "execution_count": 234,
   "id": "4ba785f5",
   "metadata": {},
   "outputs": [
    {
     "name": "stdout",
     "output_type": "stream",
     "text": [
      "3\n",
      "[ 7 14 12]\n"
     ]
    }
   ],
   "source": [
    "# 0-5 까지 정수중 무작위 뽑기\n",
    "print(np.random.randint(6))\n",
    "# 0- 20 까지 정수중 무작위 3개 뽑고 배열생성\n",
    "print(np.random.randint(1,21,3))\n"
   ]
  },
  {
   "cell_type": "markdown",
   "id": "1a957486",
   "metadata": {},
   "source": [
    "#### Random.rand - 랜덤값으로 채워지는 배열"
   ]
  },
  {
   "cell_type": "code",
   "execution_count": 283,
   "id": "fae0d7e4",
   "metadata": {},
   "outputs": [
    {
     "name": "stdout",
     "output_type": "stream",
     "text": [
      "[0.68270418 0.94931665 0.39364778]\n",
      "\n",
      "[[0.70863301 0.51624043 0.09582645 0.98035002 0.04580512]\n",
      " [0.48677771 0.12371409 0.048529   0.6275689  0.96100858]]\n"
     ]
    }
   ],
   "source": [
    "# 1차원 배열\n",
    "print(np.random.rand(3)) \n",
    "print()\n",
    "# 2차원 배열\n",
    "print(np.random.rand(2,5)) "
   ]
  },
  {
   "cell_type": "markdown",
   "id": "fe236238",
   "metadata": {},
   "source": [
    "#### Random.randn - 랜덤값으로 채워지는 배열(평균0, 표준편자1의 표준정규분포 난수)"
   ]
  },
  {
   "cell_type": "code",
   "execution_count": 284,
   "id": "4fd074c1",
   "metadata": {},
   "outputs": [
    {
     "name": "stdout",
     "output_type": "stream",
     "text": [
      "[-0.8688912   0.24913853 -0.04640236]\n"
     ]
    }
   ],
   "source": [
    "print(np.random.randn(3))"
   ]
  }
 ],
 "metadata": {
  "interpreter": {
   "hash": "38ae1ba9371524da054e8e3fbefd778d16b5a8ac7937a3f395010f627bb73919"
  },
  "kernelspec": {
   "display_name": "Python 3 (ipykernel)",
   "language": "python",
   "name": "python3"
  },
  "language_info": {
   "codemirror_mode": {
    "name": "ipython",
    "version": 3
   },
   "file_extension": ".py",
   "mimetype": "text/x-python",
   "name": "python",
   "nbconvert_exporter": "python",
   "pygments_lexer": "ipython3",
   "version": "3.9.12"
  }
 },
 "nbformat": 4,
 "nbformat_minor": 5
}
