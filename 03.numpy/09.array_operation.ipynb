{
 "cells": [
  {
   "cell_type": "code",
   "execution_count": 2,
   "id": "0afc49ae",
   "metadata": {},
   "outputs": [],
   "source": [
    "import numpy as np"
   ]
  },
  {
   "cell_type": "markdown",
   "id": "451582fe",
   "metadata": {},
   "source": [
    "#### 배열 연산"
   ]
  },
  {
   "cell_type": "code",
   "execution_count": 3,
   "id": "81429944",
   "metadata": {},
   "outputs": [
    {
     "name": "stdout",
     "output_type": "stream",
     "text": [
      "[1, 2, 3, 4, 5, 6]\n"
     ]
    }
   ],
   "source": [
    "list1 = [1,2,3]\n",
    "list2 = [4,5,6]\n",
    "print(list1 + list2)"
   ]
  },
  {
   "cell_type": "code",
   "execution_count": 4,
   "id": "9aa365ca",
   "metadata": {},
   "outputs": [
    {
     "name": "stdout",
     "output_type": "stream",
     "text": [
      "[5 7 9]\n"
     ]
    }
   ],
   "source": [
    "arr1 = np.array([1,2,3])\n",
    "arr2 = np.array([4,5,6])\n",
    "print(arr1 + arr2)"
   ]
  },
  {
   "cell_type": "code",
   "execution_count": 5,
   "id": "da3e3e23",
   "metadata": {},
   "outputs": [
    {
     "name": "stdout",
     "output_type": "stream",
     "text": [
      "더하기\n",
      " [[12. 14. 16.]\n",
      " [18. 20. 22.]]\n",
      "\n",
      "빼기\n",
      " [[10. 10. 10.]\n",
      " [10. 10. 10.]]\n",
      "\n",
      "곱하기\n",
      " [[11. 24. 39.]\n",
      " [56. 75. 96.]]\n",
      "\n",
      "나누기\n",
      " [[11.          6.          4.33333333]\n",
      " [ 3.5         3.          2.66666667]]\n",
      "\n",
      "몫\n",
      " [[11.  6.  4.]\n",
      " [ 3.  3.  2.]]\n",
      "\n",
      "나머지\n",
      " [[0. 0. 1.]\n",
      " [2. 0. 4.]]\n",
      "\n",
      "제곱근\n",
      " [[1.00000000e+00 4.09600000e+03 1.59432300e+06]\n",
      " [2.68435456e+08 3.05175781e+10 2.82110991e+12]]\n"
     ]
    }
   ],
   "source": [
    "arr1 = np.arange(1,7,dtype=np.float32).reshape(2,3)\n",
    "arr2 = np.arange(11,17,dtype=np.int32).reshape(2,3)\n",
    "print('더하기\\n',arr1 + arr2)\n",
    "print()\n",
    "print('빼기\\n',arr2 - arr1)\n",
    "print()\n",
    "print('곱하기\\n',arr1 * arr2)\n",
    "print()\n",
    "print('나누기\\n',arr2 / arr1)\n",
    "print()\n",
    "print('몫\\n',arr2 // arr1)\n",
    "print()\n",
    "print('나머지\\n',arr2 % arr1)\n",
    "print()\n",
    "print('제곱근\\n',arr1 ** arr2)"
   ]
  },
  {
   "cell_type": "markdown",
   "id": "0ea24518",
   "metadata": {},
   "source": [
    "#### 연산함수"
   ]
  },
  {
   "cell_type": "code",
   "execution_count": 6,
   "id": "96492256",
   "metadata": {},
   "outputs": [
    {
     "name": "stdout",
     "output_type": "stream",
     "text": [
      "더하기\n",
      " [[12. 14. 16.]\n",
      " [18. 20. 22.]]\n",
      "\n",
      "빼기\n",
      " [[10. 10. 10.]\n",
      " [10. 10. 10.]]\n",
      "\n",
      "곱하기\n",
      " [[11. 24. 39.]\n",
      " [56. 75. 96.]]\n",
      "\n",
      "나누기\n",
      " [[11.          6.          4.33333333]\n",
      " [ 3.5         3.          2.66666667]]\n"
     ]
    }
   ],
   "source": [
    "print('더하기\\n', np.add(arr1,arr2))\n",
    "print()\n",
    "print('빼기\\n', np.subtract(arr2,arr1))\n",
    "print()\n",
    "print('곱하기\\n', np.multiply(arr1,arr2))\n",
    "print()\n",
    "print('나누기\\n', np.divide(arr2,arr1))"
   ]
  },
  {
   "cell_type": "markdown",
   "id": "c2cb4757",
   "metadata": {},
   "source": [
    "#### Brodcasting - 배열 모양이 다른경우 연산"
   ]
  },
  {
   "cell_type": "code",
   "execution_count": 7,
   "id": "cbe5b503",
   "metadata": {},
   "outputs": [
    {
     "ename": "ValueError",
     "evalue": "operands could not be broadcast together with shapes (5,2) (2,5) ",
     "output_type": "error",
     "traceback": [
      "\u001b[1;31m---------------------------------------------------------------------------\u001b[0m",
      "\u001b[1;31mValueError\u001b[0m                                Traceback (most recent call last)",
      "\u001b[1;32mc:\\STUDY\\StudyPython\\04.numpy\\09.array_operation.ipynb Cell 9'\u001b[0m in \u001b[0;36m<cell line: 3>\u001b[1;34m()\u001b[0m\n\u001b[0;32m      <a href='vscode-notebook-cell:/c%3A/STUDY/StudyPython/04.numpy/09.array_operation.ipynb#ch0000008?line=0'>1</a>\u001b[0m arr3 \u001b[39m=\u001b[39m np\u001b[39m.\u001b[39marange(\u001b[39m10\u001b[39m)\u001b[39m.\u001b[39mreshape(\u001b[39m5\u001b[39m,\u001b[39m2\u001b[39m)\n\u001b[0;32m      <a href='vscode-notebook-cell:/c%3A/STUDY/StudyPython/04.numpy/09.array_operation.ipynb#ch0000008?line=1'>2</a>\u001b[0m arr4 \u001b[39m=\u001b[39m np\u001b[39m.\u001b[39marange(\u001b[39m10\u001b[39m)\u001b[39m.\u001b[39mreshape(\u001b[39m2\u001b[39m,\u001b[39m5\u001b[39m)\n\u001b[1;32m----> <a href='vscode-notebook-cell:/c%3A/STUDY/StudyPython/04.numpy/09.array_operation.ipynb#ch0000008?line=2'>3</a>\u001b[0m \u001b[39mprint\u001b[39m(arr3 \u001b[39m+\u001b[39;49m arr4)\n",
      "\u001b[1;31mValueError\u001b[0m: operands could not be broadcast together with shapes (5,2) (2,5) "
     ]
    }
   ],
   "source": [
    "arr3 = np.arange(10).reshape(5,2)\n",
    "arr4 = np.arange(10).reshape(2,5)\n",
    "print(arr3 + arr4)"
   ]
  },
  {
   "cell_type": "code",
   "execution_count": null,
   "id": "f644ff3b",
   "metadata": {},
   "outputs": [
    {
     "name": "stdout",
     "output_type": "stream",
     "text": [
      "[11 12 13]\n"
     ]
    }
   ],
   "source": [
    "scalar = 10\n",
    "vertor = np.array([1,2,3])\n",
    "print(scalar + vertor)"
   ]
  },
  {
   "cell_type": "code",
   "execution_count": null,
   "id": "f9c67630",
   "metadata": {},
   "outputs": [
    {
     "name": "stdout",
     "output_type": "stream",
     "text": [
      "[[11 12 13]\n",
      " [14 15 16]]\n"
     ]
    }
   ],
   "source": [
    "scalar = 10\n",
    "matrix = np.array([[1,2,3],[4,5,6]])\n",
    "print(scalar + matrix)"
   ]
  },
  {
   "cell_type": "code",
   "execution_count": null,
   "id": "838f57b7",
   "metadata": {},
   "outputs": [
    {
     "name": "stdout",
     "output_type": "stream",
     "text": [
      "[[[11 12 13]\n",
      "  [14 15 16]]\n",
      "\n",
      " [[17 18 19]\n",
      "  [20 21 22]]\n",
      "\n",
      " [[23 24 25]\n",
      "  [26 27 28]]]\n"
     ]
    }
   ],
   "source": [
    "scalar = 10\n",
    "tensor = np.arange(1,19).reshape(3,2,3)\n",
    "print(scalar + tensor)"
   ]
  },
  {
   "cell_type": "code",
   "execution_count": null,
   "id": "24e3d07c",
   "metadata": {},
   "outputs": [
    {
     "name": "stdout",
     "output_type": "stream",
     "text": [
      "[[1 2 3]\n",
      " [4 5 6]\n",
      " [7 8 9]]\n",
      "    +    \n",
      "[[11 12 13]]\n",
      "\n",
      "[[12 14 16]\n",
      " [15 17 19]\n",
      " [18 20 22]]\n"
     ]
    }
   ],
   "source": [
    "matrix = np.arange(1,10).reshape(3,3)\n",
    "vertor = np.arange(11,14).reshape(1,3)\n",
    "print(matrix)\n",
    "print('    +    ')\n",
    "print(vertor)\n",
    "print()\n",
    "print(matrix + vertor)"
   ]
  },
  {
   "cell_type": "code",
   "execution_count": null,
   "id": "8fcbb491",
   "metadata": {},
   "outputs": [
    {
     "name": "stdout",
     "output_type": "stream",
     "text": [
      "[[1 2 3]\n",
      " [4 5 6]\n",
      " [7 8 9]]\n",
      "    +    \n",
      "[[11]\n",
      " [12]\n",
      " [13]]\n",
      "\n",
      "[[12 13 14]\n",
      " [16 17 18]\n",
      " [20 21 22]]\n"
     ]
    }
   ],
   "source": [
    "matrix = np.arange(1,10).reshape(3,3)\n",
    "vertor = np.arange(11,14).reshape(3,1)\n",
    "print(matrix)\n",
    "print('    +    ')\n",
    "print(vertor)\n",
    "print()\n",
    "print(matrix + vertor)"
   ]
  },
  {
   "cell_type": "code",
   "execution_count": null,
   "id": "bde81a5e",
   "metadata": {},
   "outputs": [
    {
     "name": "stdout",
     "output_type": "stream",
     "text": [
      "[[1 2 3]]\n",
      "\n",
      "[[1]\n",
      " [2]\n",
      " [3]]\n",
      "\n",
      "[[2 3 4]\n",
      " [3 4 5]\n",
      " [4 5 6]]\n"
     ]
    }
   ],
   "source": [
    "arr1 = np.array([1,2,3]).reshape(1,3)\n",
    "arr2 = np.array([1,2,3]).reshape(3,1)\n",
    "print(arr1)\n",
    "print()\n",
    "print(arr2)\n",
    "print()\n",
    "print(arr1 + arr2)\n"
   ]
  },
  {
   "cell_type": "code",
   "execution_count": 15,
   "id": "15d74dcc",
   "metadata": {},
   "outputs": [
    {
     "name": "stdout",
     "output_type": "stream",
     "text": [
      "[1 4 9]\n",
      "14\n",
      "14\n",
      "14\n"
     ]
    }
   ],
   "source": [
    "arr1 = np.array([1,2,3])\n",
    "arr2 = np.array([1,2,3])\n",
    "print(arr1 * arr2)\n",
    "print(np.dot(arr1,arr2))\n",
    "print(arr1.dot(arr2))\n",
    "print(arr1 @ arr2)"
   ]
  },
  {
   "cell_type": "code",
   "execution_count": 17,
   "id": "622bca57",
   "metadata": {},
   "outputs": [
    {
     "name": "stdout",
     "output_type": "stream",
     "text": [
      "[[1 2 3]\n",
      " [4 5 6]]\n",
      "[[11 12]\n",
      " [13 14]\n",
      " [15 16]]\n",
      "[[ 82  88]\n",
      " [199 214]]\n"
     ]
    }
   ],
   "source": [
    "arr3 = np.arange(1,7).reshape(2,3)\n",
    "arr4 = np.arange(11,17).reshape(3,2)\n",
    "print(arr3)\n",
    "print(arr4)\n",
    "print(np.dot(arr3,arr4))"
   ]
  }
 ],
 "metadata": {
  "interpreter": {
   "hash": "38ae1ba9371524da054e8e3fbefd778d16b5a8ac7937a3f395010f627bb73919"
  },
  "kernelspec": {
   "display_name": "Python 3 (ipykernel)",
   "language": "python",
   "name": "python3"
  },
  "language_info": {
   "codemirror_mode": {
    "name": "ipython",
    "version": 3
   },
   "file_extension": ".py",
   "mimetype": "text/x-python",
   "name": "python",
   "nbconvert_exporter": "python",
   "pygments_lexer": "ipython3",
   "version": "3.9.12"
  }
 },
 "nbformat": 4,
 "nbformat_minor": 5
}
