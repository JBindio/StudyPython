{
 "cells": [
  {
   "cell_type": "code",
   "execution_count": 1,
   "id": "580f9ea5",
   "metadata": {},
   "outputs": [],
   "source": [
    "import numpy as np"
   ]
  },
  {
   "cell_type": "code",
   "execution_count": 2,
   "id": "b59bc08a",
   "metadata": {},
   "outputs": [
    {
     "data": {
      "text/plain": [
       "array(1)"
      ]
     },
     "execution_count": 2,
     "metadata": {},
     "output_type": "execute_result"
    }
   ],
   "source": [
    "a = np.array(1)\n",
    "a"
   ]
  },
  {
   "cell_type": "code",
   "execution_count": 3,
   "id": "681748c4",
   "metadata": {},
   "outputs": [
    {
     "name": "stdout",
     "output_type": "stream",
     "text": [
      "[1 2 3]\n"
     ]
    }
   ],
   "source": [
    "ndarr_1 = np.array([1, 2, 3])\n",
    "print(ndarr_1)"
   ]
  },
  {
   "cell_type": "code",
   "execution_count": 4,
   "id": "08bbda7a",
   "metadata": {},
   "outputs": [
    {
     "name": "stdout",
     "output_type": "stream",
     "text": [
      "[1. 2. 3.]\n"
     ]
    }
   ],
   "source": [
    "ndarr_2 = np.array([1, 2.0, 3])\n",
    "print(ndarr_2)"
   ]
  },
  {
   "cell_type": "code",
   "execution_count": 5,
   "id": "bbbbb322",
   "metadata": {},
   "outputs": [
    {
     "name": "stdout",
     "output_type": "stream",
     "text": [
      "['1' '2.0' '3']\n"
     ]
    }
   ],
   "source": [
    "ndarr_3 = np.array([1, 2.0, '3'])\n",
    "print(ndarr_3)"
   ]
  },
  {
   "cell_type": "markdown",
   "id": "b087cc48",
   "metadata": {},
   "source": [
    "#### 배열의 정보 확인\n",
    "#### 자료형 확인 속성\n",
    "- ndarray.dtpye"
   ]
  },
  {
   "cell_type": "code",
   "execution_count": 6,
   "id": "996cff81",
   "metadata": {},
   "outputs": [
    {
     "name": "stdout",
     "output_type": "stream",
     "text": [
      "int32\n",
      "float64\n",
      "<U32\n"
     ]
    }
   ],
   "source": [
    "print(ndarr_1.dtype)\n",
    "print(ndarr_2.dtype)\n",
    "print(ndarr_3.dtype)\n"
   ]
  },
  {
   "cell_type": "code",
   "execution_count": 7,
   "id": "cf56ae17",
   "metadata": {},
   "outputs": [
    {
     "name": "stdout",
     "output_type": "stream",
     "text": [
      "int8\n",
      "float64\n",
      "<U1\n"
     ]
    }
   ],
   "source": [
    "dtype1 = np.array([1,2,3], dtype=np.int8)\n",
    "print(dtype1.dtype)\n",
    "\n",
    "dtype2 = np.array([1,2,3], dtype=np.float64)\n",
    "print(dtype2.dtype) \n",
    "\n",
    "dtype2 = np.array([1,2,3], dtype=np.str0)\n",
    "print(dtype2.dtype)"
   ]
  },
  {
   "cell_type": "code",
   "execution_count": 8,
   "id": "801bab74",
   "metadata": {},
   "outputs": [
    {
     "name": "stdout",
     "output_type": "stream",
     "text": [
      "int32\n"
     ]
    }
   ],
   "source": [
    "dtype4 = np.array([1,2.1,'3'], dtype=np.int32)\n",
    "print(dtype4.dtype)\n",
    "#dtype5 = np.array([1,'data',print], dtype=np.float)\n",
    "#print(dtype5.dtype)"
   ]
  },
  {
   "cell_type": "code",
   "execution_count": 9,
   "id": "8ee3478f",
   "metadata": {},
   "outputs": [
    {
     "name": "stdout",
     "output_type": "stream",
     "text": [
      "[1 2 3]\n",
      "(3,)\n",
      "1\n",
      "int32\n"
     ]
    }
   ],
   "source": [
    "vecter = np.array([1,2,3])\n",
    "\n",
    "print(vecter)       # 값\n",
    "print(vecter.shape) # 크기\n",
    "print(vecter.ndim)  # 차원\n",
    "print(vecter.dtype) # 타입"
   ]
  },
  {
   "cell_type": "code",
   "execution_count": 10,
   "id": "9650192a",
   "metadata": {},
   "outputs": [
    {
     "name": "stdout",
     "output_type": "stream",
     "text": [
      "[[1 2 3]\n",
      " [4 5 6]]\n",
      "(2, 3)\n",
      "2\n",
      "int32\n"
     ]
    }
   ],
   "source": [
    "matrix = np.array([[1,2,3],[4,5,6]])\n",
    "\n",
    "print(matrix)       # 값\n",
    "print(matrix.shape) # 크기\n",
    "print(matrix.ndim)  # 차원\n",
    "print(matrix.dtype) # 타입"
   ]
  },
  {
   "cell_type": "code",
   "execution_count": 11,
   "id": "571f645b",
   "metadata": {},
   "outputs": [
    {
     "name": "stdout",
     "output_type": "stream",
     "text": [
      "[[[ 1  2  3]\n",
      "  [ 4  5  6]\n",
      "  [ 7  8  9]\n",
      "  [10 11 12]]]\n",
      "(1, 4, 3)\n",
      "3\n",
      "int32\n"
     ]
    }
   ],
   "source": [
    "tensor = np.array([[[1,2,3],[4,5,6],[7,8,9],[10,11,12]]])\n",
    "\n",
    "print(tensor)       # 값\n",
    "print(tensor.shape) # 크기\n",
    "print(tensor.ndim)  # 차원\n",
    "print(tensor.dtype) # 타입"
   ]
  },
  {
   "cell_type": "code",
   "execution_count": 12,
   "id": "9fc0236a",
   "metadata": {},
   "outputs": [
    {
     "name": "stdout",
     "output_type": "stream",
     "text": [
      "[[1 2 3]\n",
      " [2 4 6]\n",
      " [3 6 9]]\n",
      "(3, 3)\n",
      "2\n",
      "int32\n"
     ]
    }
   ],
   "source": [
    "matrix = np.array([[1,2,3],[2,4,6],[3,6,9]])\n",
    "\n",
    "print(matrix)       # 값\n",
    "print(matrix.shape) # 크기\n",
    "print(matrix.ndim)  # 차원\n",
    "print(matrix.dtype) # 타입"
   ]
  },
  {
   "cell_type": "code",
   "execution_count": 22,
   "id": "f2fe3472",
   "metadata": {},
   "outputs": [
    {
     "name": "stdout",
     "output_type": "stream",
     "text": [
      "[1 2 3] <class 'numpy.ndarray'>\n",
      "[4, 5, 6] <class 'list'>\n"
     ]
    }
   ],
   "source": [
    "list1 = [1,2,3]\n",
    "arr1 = np.array(list1)\n",
    "print(arr1, type(arr1))\n",
    "\n",
    "arr2 = [4,5,6]\n",
    "list2 = list(arr2)\n",
    "print(list2, type(list2))"
   ]
  },
  {
   "cell_type": "code",
   "execution_count": 23,
   "id": "4c3fb1db",
   "metadata": {},
   "outputs": [
    {
     "name": "stdout",
     "output_type": "stream",
     "text": [
      "[[1, 2, 3], [4, 5, 6]]\n"
     ]
    }
   ],
   "source": [
    "list3 = [[1,2,3],[4,5,6]]\n",
    "arry3 = np.array(list3)\n",
    "print(list3)\n",
    "\n",
    "list4 = [[1,2,3,4],[5,6,7]]\n",
    "arry4 - np.arrayb"
   ]
  },
  {
   "cell_type": "code",
   "execution_count": 26,
   "id": "4b61673c",
   "metadata": {},
   "outputs": [
    {
     "name": "stdout",
     "output_type": "stream",
     "text": [
      "[1 2 3]\n",
      "(4, 5, 6)\n"
     ]
    }
   ],
   "source": [
    "tuple1 = (1,2,3)\n",
    "arr1 = np.array(tuple1)\n",
    "print(arr)\n",
    "\n",
    "arr2 = ([4,5,6])\n",
    "tuple2 = tuple(arr2)\n",
    "print(tuple2)"
   ]
  },
  {
   "cell_type": "code",
   "execution_count": 29,
   "id": "573756a3",
   "metadata": {},
   "outputs": [
    {
     "name": "stdout",
     "output_type": "stream",
     "text": [
      "{1, 2, 3}\n",
      "1\n"
     ]
    }
   ],
   "source": [
    "set1 ={1,2,3}\n",
    "arr1 = np.array(set1)\n",
    "print(arr1)\n",
    "\n",
    "print(arr1.size)"
   ]
  },
  {
   "cell_type": "code",
   "execution_count": 30,
   "id": "c8475925",
   "metadata": {},
   "outputs": [
    {
     "name": "stdout",
     "output_type": "stream",
     "text": [
      "{'a': 1, 'b': 2, 'c': 3}\n"
     ]
    }
   ],
   "source": [
    "dict1 ={'a':1, 'b':2, 'c':3}\n",
    "arr1 = np.array(dict1)\n",
    "print(arr1)"
   ]
  }
 ],
 "metadata": {
  "interpreter": {
   "hash": "38ae1ba9371524da054e8e3fbefd778d16b5a8ac7937a3f395010f627bb73919"
  },
  "kernelspec": {
   "display_name": "Python 3 (ipykernel)",
   "language": "python",
   "name": "python3"
  },
  "language_info": {
   "codemirror_mode": {
    "name": "ipython",
    "version": 3
   },
   "file_extension": ".py",
   "mimetype": "text/x-python",
   "name": "python",
   "nbconvert_exporter": "python",
   "pygments_lexer": "ipython3",
   "version": "3.9.12"
  }
 },
 "nbformat": 4,
 "nbformat_minor": 5
}
