{
 "cells": [
  {
   "cell_type": "markdown",
   "metadata": {},
   "source": [
    "### 1번문제\n",
    "\n",
    "1. 반지름 값을 입력받아 원의 넓이를 구하여 출력하는 프로그램을 구현하세요.<br>\n",
    "   파이는 3.141592 입니다."
   ]
  },
  {
   "cell_type": "code",
   "execution_count": 3,
   "metadata": {},
   "outputs": [
    {
     "name": "stdout",
     "output_type": "stream",
     "text": [
      "=============== 결과 ===============\n",
      "원의 넓이 : 314.1592\n"
     ]
    }
   ],
   "source": [
    "# 원의 넓이 = (반지름)*(반지름)*(원주율)\n",
    "area = float(input('반지름: '))\n",
    "pi = 3.141592\n",
    "\n",
    "print(\"=\"*15, \"결과\",\"=\"*15)\n",
    "print('원의 넓이 :', area*area*pi)"
   ]
  },
  {
   "cell_type": "markdown",
   "metadata": {},
   "source": [
    "### 2번문제\n",
    "2. 태양계는 수성, 금성, 지구, 화성, 목성, 토성, 천왕성, 혜왕성, 명왕성으로 구성됩니다. <br>\n",
    "   영어이름은 Mercury, Venus, Earth, Mars, Jupiter,  Saturn, Uranus, Neptune 입니다.<br>\n",
    "   행성의 한글이름을 입력하면 영어행성명이 출력되는 프로그램을 구현하세요."
   ]
  },
  {
   "cell_type": "code",
   "execution_count": 2,
   "metadata": {},
   "outputs": [
    {
     "name": "stdout",
     "output_type": "stream",
     "text": [
      "Venus\n"
     ]
    }
   ],
   "source": [
    "# 2번문제\n",
    "\n",
    "solarsys = {'수성':'Mercury', \n",
    "            '금성':'Venus', \n",
    "            '지구':'Earth', \n",
    "            '화성':'Mars', \n",
    "            '목성':'Jupiter',\n",
    "            '토성':'Saturn', \n",
    "            '천왕성':'Uranus', \n",
    "            '혜왕성':'Neptune'}\n",
    "\n",
    "name = input('행성의 한글이름을 입력하세요 : ')\n",
    "\n",
    "print(solarsys[name])"
   ]
  },
  {
   "cell_type": "markdown",
   "metadata": {},
   "source": [
    "### 3번문제\n",
    "3. 입력한 한글 문자열의 단어의 수를 출력하는 프로그램을 구현하세요.<br>\n",
    "예) 흐르는 강물을 거꾸로 거슬러 오르는 연어들의 = 6"
   ]
  },
  {
   "cell_type": "code",
   "execution_count": 5,
   "metadata": {},
   "outputs": [
    {
     "name": "stdout",
     "output_type": "stream",
     "text": [
      "하나 둘 셋 넷 = 4\n"
     ]
    }
   ],
   "source": [
    "def count_word(text):\n",
    "    length = len(text)\n",
    "    count = 0\n",
    "    for x in range (length):\n",
    "        if text[x] == ' ':\n",
    "            if x != 0:\n",
    "                count = count + 1\n",
    "        elif x == length - 1:\n",
    "            count = count + 1\n",
    "    return count\n",
    "\n",
    "input_txt = input('문장을 입력하세요 : ')\n",
    "print(input_txt, '=', count_word(input_txt))"
   ]
  },
  {
   "cell_type": "markdown",
   "metadata": {},
   "source": [
    "### 4번문제\n",
    "4. 입력한 수를 거꾸로 출력하는 프로그램을 구현하세요.<br>\n",
    "예) 1 4 5 9 2 --> 2 9 5 4 1  (exam04.py)"
   ]
  },
  {
   "cell_type": "code",
   "execution_count": 13,
   "metadata": {},
   "outputs": [
    {
     "ename": "ValueError",
     "evalue": "invalid literal for int() with base 10: '1 4 5 9 2'",
     "output_type": "error",
     "traceback": [
      "\u001b[1;31m---------------------------------------------------------------------------\u001b[0m",
      "\u001b[1;31mValueError\u001b[0m                                Traceback (most recent call last)",
      "\u001b[1;32mc:\\STUDY\\StudyPython22\\ref\\이한빈.ipynb Cell 8'\u001b[0m in \u001b[0;36m<cell line: 1>\u001b[1;34m()\u001b[0m\n\u001b[1;32m----> <a href='vscode-notebook-cell:/c%3A/STUDY/StudyPython22/ref/%EC%9D%B4%ED%95%9C%EB%B9%88.ipynb#ch0000007?line=0'>1</a>\u001b[0m a \u001b[39m=\u001b[39m \u001b[39mint\u001b[39;49m(\u001b[39minput\u001b[39;49m(\u001b[39m'\u001b[39;49m\u001b[39m수를 입력하세요 : \u001b[39;49m\u001b[39m'\u001b[39;49m))\n\u001b[0;32m      <a href='vscode-notebook-cell:/c%3A/STUDY/StudyPython22/ref/%EC%9D%B4%ED%95%9C%EB%B9%88.ipynb#ch0000007?line=2'>3</a>\u001b[0m \u001b[39mprint\u001b[39m(a,\u001b[39m'\u001b[39m\u001b[39m-->\u001b[39m\u001b[39m'\u001b[39m,\u001b[39mint\u001b[39m(\u001b[39mstr\u001b[39m(a)[::\u001b[39m-\u001b[39m\u001b[39m1\u001b[39m]))\n",
      "\u001b[1;31mValueError\u001b[0m: invalid literal for int() with base 10: '1 4 5 9 2'"
     ]
    }
   ],
   "source": [
    "a = int(input('수를 입력하세요 : '))\n",
    "print(a,'-->',int(str(a)[::-1]))"
   ]
  },
  {
   "cell_type": "markdown",
   "metadata": {},
   "source": [
    "### 5번문제\n",
    "5. 구구단을 수행할 단번호를 입력하면 그 단의 9까지의 결과를 나열하는 프로그램을 입력하세요.\n",
    "<br>예) 3 --> 3 6 9 12 15 18 21 24 27"
   ]
  },
  {
   "cell_type": "code",
   "execution_count": 11,
   "metadata": {},
   "outputs": [
    {
     "name": "stdout",
     "output_type": "stream",
     "text": [
      "3 --> 3 6 9 12 15 18 21 24 27 "
     ]
    }
   ],
   "source": [
    "x = int(input(\"몇 단을 출력하시겠습니까? : \"))\n",
    "print(x,'-->', end=' ')\n",
    "for y in range(1, 10): \n",
    "    print(x*y, end=' ')"
   ]
  }
 ],
 "metadata": {
  "interpreter": {
   "hash": "38ae1ba9371524da054e8e3fbefd778d16b5a8ac7937a3f395010f627bb73919"
  },
  "kernelspec": {
   "display_name": "Python 3.9.12 64-bit",
   "language": "python",
   "name": "python3"
  },
  "language_info": {
   "codemirror_mode": {
    "name": "ipython",
    "version": 3
   },
   "file_extension": ".py",
   "mimetype": "text/x-python",
   "name": "python",
   "nbconvert_exporter": "python",
   "pygments_lexer": "ipython3",
   "version": "3.9.12"
  },
  "orig_nbformat": 4
 },
 "nbformat": 4,
 "nbformat_minor": 2
}
