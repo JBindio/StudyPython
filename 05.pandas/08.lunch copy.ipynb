{
 "cells": [
  {
   "cell_type": "code",
   "execution_count": 1,
   "metadata": {},
   "outputs": [],
   "source": [
    "import pandas as pd"
   ]
  },
  {
   "cell_type": "code",
   "execution_count": 9,
   "metadata": {},
   "outputs": [
    {
     "name": "stdout",
     "output_type": "stream",
     "text": [
      "5월 30일 1조=  ['조혜리' '안성현' '방수진' '강동현' '장원석']\n",
      "5월 30일 2조=  ['허아현' '김지환' '지동주' '김성현' '권지은']\n",
      "6월 02일 3조=  ['전아영' '김동주' '성혜경' '이정빈']\n",
      "6월 03일 4조=  ['류민지' '이성경' '이한빈' '정영현']\n"
     ]
    }
   ],
   "source": [
    "df = pd.read_csv('./data/부산2차빅데이터명단.csv', encoding='euc-kr', index_col='번호')\n",
    "df2 = df[df['성명'] != '윤정인']\n",
    "random_index_df = df2.sample(frac= 1)\n",
    "print('5월 30일 1조= ',random_index_df.iloc[:5]['성명'].values)\n",
    "print('5월 30일 2조= ',random_index_df.iloc[5:10]['성명'].values)\n",
    "print('6월 02일 3조= ',random_index_df.iloc[10:14]['성명'].values)\n",
    "print('6월 03일 4조= ',random_index_df.iloc[14:]['성명'].values)"
   ]
  }
 ],
 "metadata": {
  "interpreter": {
   "hash": "38ae1ba9371524da054e8e3fbefd778d16b5a8ac7937a3f395010f627bb73919"
  },
  "kernelspec": {
   "display_name": "Python 3.9.12 64-bit",
   "language": "python",
   "name": "python3"
  },
  "language_info": {
   "codemirror_mode": {
    "name": "ipython",
    "version": 3
   },
   "file_extension": ".py",
   "mimetype": "text/x-python",
   "name": "python",
   "nbconvert_exporter": "python",
   "pygments_lexer": "ipython3",
   "version": "3.9.12"
  }
 },
 "nbformat": 4,
 "nbformat_minor": 2
}
